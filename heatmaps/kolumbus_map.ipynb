{
 "cells": [
  {
   "cell_type": "code",
   "execution_count": null,
   "id": "ee5c55e0-f5c1-44fe-8ad3-f3e9ab4def7f",
   "metadata": {},
   "outputs": [
    {
     "name": "stdout",
     "output_type": "stream",
     "text": [
      "28005\n"
     ]
    }
   ],
   "source": [
    "import pandas as pd\n",
    "import folium\n",
    "import os\n",
    "\n",
    "\n",
    "def count_rows():\n",
    "    path = \"../dataset/kolumbus/2023-09-\"\n",
    "    filetype = \".csv\"\n",
    "    csv_files = [\n",
    "        path + \"04\" + filetype,\n",
    "        path + \"05\" + filetype,\n",
    "        path + \"06\" + filetype,\n",
    "        path + \"07\" + filetype,\n",
    "        path + \"08\" + filetype,\n",
    "        path + \"09\" + filetype,\n",
    "        path + \"10\" + filetype,\n",
    "    ]\n",
    "\n",
    "    # Initialize a dictionary to store the counts for each file\n",
    "    row_counts = {}\n",
    "\n",
    "    # Loop through each CSV file and count the rows\n",
    "    for file_name in csv_files:\n",
    "        try:\n",
    "            # Read the CSV file into a DataFrame without loading the data\n",
    "            df = pd.read_csv(file_name, iterator=True)\n",
    "\n",
    "            # Use a loop to read and count rows in chunks\n",
    "            count = 0\n",
    "            for chunk in df:\n",
    "                count += chunk.shape[0]\n",
    "\n",
    "            # Store the row count in the dictionary\n",
    "            row_counts[file_name] = count\n",
    "\n",
    "            # Close the file\n",
    "            df.close()\n",
    "\n",
    "        except Exception as e:\n",
    "            # Handle any exceptions (e.g., file not found)\n",
    "            row_counts[file_name] = f\"Error: {str(e)}\"\n",
    "\n",
    "    # Print the row counts\n",
    "    for file_name, count in row_counts.items():\n",
    "        print(f\"{file_name}: {count}\")\n",
    "\n",
    "\n",
    "data = pd.read_csv(\"../dataset/kolumbus/2023-09-04.csv\")\n",
    "filtered_data = data[\n",
    "    (data[\"latitude\"] >= 58.71)\n",
    "    & (data[\"latitude\"] <= 59.02)\n",
    "    & (data[\"longitude\"] >= 5.53)\n",
    "    & (data[\"longitude\"] <= 5.85)\n",
    "]\n",
    "\n",
    "count = 0\n",
    "\n",
    "map = folium.Map(location=[58.97, 5.70], zoom_start=10)\n",
    "# iloc to skip rows\n",
    "for index, row in filtered_data.iloc[::100].iterrows():\n",
    "    latitude = row[\"latitude\"]\n",
    "    longitude = row[\"longitude\"]\n",
    "    count += 1\n",
    "    folium.CircleMarker([latitude, longitude], radius=1, weight=1).add_to(map)\n",
    "\n",
    "output_file_path = os.path.join(\"../kolumbus/output/\", \"kolumbus_map.html\")\n",
    "map.save(output_file_path)\n",
    "\n",
    "# display(map)\n",
    "print(count)\n",
    "# count_rows()"
   ]
  }
 ],
 "metadata": {
  "kernelspec": {
   "display_name": "Python 3 (ipykernel)",
   "language": "python",
   "name": "python3"
  },
  "language_info": {
   "codemirror_mode": {
    "name": "ipython",
    "version": 3
   },
   "file_extension": ".py",
   "mimetype": "text/x-python",
   "name": "python",
   "nbconvert_exporter": "python",
   "pygments_lexer": "ipython3",
   "version": "3.11.6"
  }
 },
 "nbformat": 4,
 "nbformat_minor": 5
}
