{
 "cells": [
  {
   "cell_type": "code",
   "execution_count": null,
   "metadata": {},
   "outputs": [
    {
     "name": "stderr",
     "output_type": "stream",
     "text": [
      "Processing rows: 100%|██████████| 1710670/1710670 [19:31<00:00, 1460.43it/s] \n",
      "Plotting points: 100%|██████████| 834094/834094 [02:02<00:00, 6785.55it/s] \n"
     ]
    },
    {
     "name": "stdout",
     "output_type": "stream",
     "text": [
      "Number of plotted points: 834094\n",
      "Map saved to output/porto\\porto_map.html\n"
     ]
    }
   ],
   "source": [
    "import pandas as pd\n",
    "import folium\n",
    "import os\n",
    "import ast\n",
    "from tqdm import tqdm  # Import tqdm for the progress bar\n",
    "\n",
    "# Define the Porto coordinates\n",
    "P_MAX_LON = -8.57\n",
    "P_MIN_LON = -8.66\n",
    "P_MAX_LAT = 41.19\n",
    "P_MIN_LAT = 41.14\n",
    "\n",
    "# Define the input file path\n",
    "input_file = \"../dataset/porto/porto_raw.csv\"\n",
    "\n",
    "# Load the Porto dataset\n",
    "try:\n",
    "    # Read the polyline data from the CSV file\n",
    "    data = pd.read_csv(input_file)\n",
    "\n",
    "    # Prepare list to hold all coordinates\n",
    "    all_coords = []\n",
    "\n",
    "    # Iterate through each row and extract coordinates from the 'POLYLINE' column\n",
    "    # Adding tqdm to show the progress of reading the rows\n",
    "    for index, row in tqdm(data.iterrows(), total=data.shape[0], desc=\"Processing rows\"):\n",
    "        # Convert the polyline string to a list of coordinates\n",
    "        polyline = ast.literal_eval(row['POLYLINE'])\n",
    "        swapped_polyline = [(lat, lon) for lon, lat in polyline]\n",
    "        all_coords.extend(swapped_polyline)  # Add the coordinates to the list\n",
    "\n",
    "    # Create a map centered on Porto's coordinates\n",
    "    map = folium.Map(location=[(P_MAX_LAT + P_MIN_LAT) / 2, (P_MAX_LON + P_MIN_LON) / 2], zoom_start=10)\n",
    "\n",
    "    count = 0\n",
    "\n",
    "    # Use tqdm to display a progress bar during iteration over all_coords\n",
    "    for lat, lon in tqdm(all_coords[::100], total=len(all_coords[::100]), desc=\"Plotting points\"):\n",
    "        folium.CircleMarker([lat, lon], radius=1, weight=1).add_to(map)\n",
    "        count += 1\n",
    "\n",
    "    # Define the output file path\n",
    "    output_file_path = os.path.join(\"output/porto\", \"porto_map.html\")\n",
    "\n",
    "    # Create the output directory if it doesn't exist\n",
    "    os.makedirs(os.path.dirname(output_file_path), exist_ok=True)\n",
    "\n",
    "    # Save the map\n",
    "    map.save(output_file_path)\n",
    "\n",
    "    print(f\"Number of plotted points: {count}\")\n",
    "    print(f\"Map saved to {output_file_path}\")\n",
    "\n",
    "except Exception as e:\n",
    "    print(f\"Error: {e}\")\n"
   ]
  }
 ],
 "metadata": {
  "kernelspec": {
   "display_name": "master_repo",
   "language": "python",
   "name": "python3"
  },
  "language_info": {
   "codemirror_mode": {
    "name": "ipython",
    "version": 3
   },
   "file_extension": ".py",
   "mimetype": "text/x-python",
   "name": "python",
   "nbconvert_exporter": "python",
   "pygments_lexer": "ipython3",
   "version": "3.13.0"
  }
 },
 "nbformat": 4,
 "nbformat_minor": 2
}
