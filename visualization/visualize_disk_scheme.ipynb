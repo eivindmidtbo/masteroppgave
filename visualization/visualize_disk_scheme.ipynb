{
 "cells": [
  {
   "cell_type": "markdown",
   "metadata": {},
   "source": [
    "# Notebook for visualizing the disk schemes in both cities"
   ]
  },
  {
   "cell_type": "code",
   "execution_count": 1,
   "metadata": {},
   "outputs": [
    {
     "name": "stdout",
     "output_type": "stream",
     "text": [
      "Project root found: /Users/thomasnitsche/Developer/skole/master/masteroppgave\n"
     ]
    }
   ],
   "source": [
    "import os\n",
    "import sys\n",
    "\n",
    "def find_project_root(target_folder=\"masteroppgave\"):\n",
    "    \"\"\"Find the absolute path of a folder (e.g., 'masteroppgave') by searching upward.\"\"\"\n",
    "    currentdir = os.path.abspath(\"__file__\")  # Get absolute script path\n",
    "    while True:\n",
    "        if os.path.basename(currentdir) == target_folder:\n",
    "            return currentdir  # Found the target folder\n",
    "        parentdir = os.path.dirname(currentdir)\n",
    "        if parentdir == currentdir:  # Stop at filesystem root\n",
    "            return None\n",
    "        currentdir = parentdir  # Move one level up\n",
    "\n",
    "# Find and append 'masteroppgave' to sys.path dynamically\n",
    "project_root = find_project_root(\"masteroppgave\")\n",
    "\n",
    "if project_root:\n",
    "    sys.path.append(project_root)\n",
    "    print(f\"Project root found: {project_root}\")\n",
    "else:\n",
    "    raise RuntimeError(\"Could not find 'masteroppgave' directory\")"
   ]
  },
  {
   "cell_type": "code",
   "execution_count": 2,
   "metadata": {},
   "outputs": [],
   "source": [
    "import folium\n",
    "from folium.plugins import FeatureGroupSubGroup\n",
    "import random\n",
    "from schemes.lsh_disk import DiskLSH\n",
    "from constants import  *\n",
    "from utils.helpers import file_handler\n"
   ]
  },
  {
   "cell_type": "markdown",
   "metadata": {},
   "source": [
    "## ROME"
   ]
  },
  {
   "cell_type": "code",
   "execution_count": 3,
   "metadata": {},
   "outputs": [],
   "source": [
    "ROME_DATA_FOLDER = \"../dataset/rome/output/\""
   ]
  },
  {
   "cell_type": "markdown",
   "metadata": {},
   "source": [
    "### Define Disk"
   ]
  },
  {
   "cell_type": "code",
   "execution_count": 4,
   "metadata": {},
   "outputs": [
    {
     "name": "stdout",
     "output_type": "stream",
     "text": [
      "Disk-scheme: Disk1 \n",
      "Covering: (5.559754011676299, 7.451072531046803) km \n",
      "Diameter: 1.2 km\n",
      "Layers: 1 \n",
      "\n",
      "\n"
     ]
    }
   ],
   "source": [
    "DiskLSH = DiskLSH(\n",
    "        name=\"Disk1\",\n",
    "        min_lat = R_MIN_LAT,\n",
    "        max_lat=R_MAX_LAT,\n",
    "        min_lon=R_MIN_LON,\n",
    "        max_lon=R_MAX_LON,\n",
    "        disks=10,\n",
    "        layers=1,\n",
    "        diameter=1.2,\n",
    "        meta_file=\"meta.txt\",\n",
    "        data_path=\"data\",\n",
    ")\n",
    "\n",
    "print(DiskLSH)\n",
    "print(\"\")\n",
    "\n"
   ]
  },
  {
   "cell_type": "markdown",
   "metadata": {},
   "source": [
    "### Visualize disk scheme in Rome"
   ]
  },
  {
   "cell_type": "code",
   "execution_count": 5,
   "metadata": {},
   "outputs": [
    {
     "name": "stdout",
     "output_type": "stream",
     "text": [
      "Saved disk visualization over Rome to output/rome/rome_disk_visualization.html\n"
     ]
    }
   ],
   "source": [
    "import folium\n",
    "from folium.plugins import FeatureGroupSubGroup\n",
    "\n",
    "def visualize_disks_with_boundary(disk_lsh):\n",
    "    \"\"\"\n",
    "    Visualizes the disks of the DiskLSH object using Folium and adds a bounding box.\n",
    "\n",
    "    Parameters:\n",
    "    - disk_lsh (DiskLSH): An instance of the DiskLSH class.\n",
    "\n",
    "    Returns:\n",
    "    - A Folium map object.\n",
    "    \"\"\"\n",
    "\n",
    "    # Define center of the map (average lat/lon)\n",
    "    center_lat = (disk_lsh.min_lat + disk_lsh.max_lat) / 2\n",
    "    center_lon = (disk_lsh.min_lon + disk_lsh.max_lon) / 2\n",
    "\n",
    "    # Initialize folium map\n",
    "    map_disks = folium.Map(location=[center_lat, center_lon], zoom_start=14, tiles=\"OpenStreetMap\")\n",
    "\n",
    "    # Define colors for different layers\n",
    "    layer_colors = [\"red\", \"blue\", \"green\", \"purple\", \"orange\"]\n",
    "\n",
    "    # Create a base layer group\n",
    "    base_layer = folium.FeatureGroup(name=\"Base Map\").add_to(map_disks)\n",
    "\n",
    "    # Add bounding box (dataset boundary)\n",
    "    folium.Rectangle(\n",
    "        bounds=[(disk_lsh.min_lat, disk_lsh.min_lon), (disk_lsh.max_lat, disk_lsh.max_lon)],\n",
    "        color=\"black\",\n",
    "        weight=2,\n",
    "        fill=True,\n",
    "        fill_opacity=0.1,\n",
    "        popup=\"Bounding Box\"\n",
    "    ).add_to(base_layer)\n",
    "\n",
    "    # Iterate over each layer in the disk structure\n",
    "    for layer_index, (layer, disks) in enumerate(disk_lsh.disks.items()):\n",
    "        color = layer_colors[layer_index % len(layer_colors)]  # Cycle colors\n",
    "\n",
    "        # Create a subgroup for each layer\n",
    "        layer_group = FeatureGroupSubGroup(base_layer, name=f\"Layer {layer_index + 1}\")\n",
    "        map_disks.add_child(layer_group)\n",
    "\n",
    "        # Plot disks as circles\n",
    "        for disk in disks:\n",
    "            lat, lon = disk  # Disk center\n",
    "            folium.Circle(\n",
    "                location=[lat, lon],\n",
    "                radius=disk_lsh.diameter * 500,  # Convert km to meters\n",
    "                color=color,\n",
    "                fill=True,\n",
    "                fill_opacity=0.4,\n",
    "                popup=f\"Layer {layer_index + 1}\\nDisk: ({lat:.5f}, {lon:.5f})\",\n",
    "            ).add_to(layer_group)\n",
    "\n",
    "    # Add layer control to toggle between layers\n",
    "    folium.LayerControl(collapsed=False).add_to(map_disks)\n",
    "\n",
    "    return map_disks\n",
    "\n",
    "# Example usage\n",
    "disk_map = visualize_disks_with_boundary(DiskLSH)\n",
    "disk_map.save(\"output/rome/rome_disk_visualization.html\")\n",
    "print(f\"Saved disk visualization over Rome to output/rome/rome_disk_visualization.html\")\n"
   ]
  },
  {
   "cell_type": "markdown",
   "metadata": {},
   "source": [
    "### Add trajectory\n"
   ]
  },
  {
   "cell_type": "code",
   "execution_count": 6,
   "metadata": {},
   "outputs": [
    {
     "name": "stdout",
     "output_type": "stream",
     "text": [
      "../dataset/rome/output/\n"
     ]
    }
   ],
   "source": [
    "# trajs_1 = file_handler.load_all_trajectory_files(ROME_DATA_FOLDER, \"R\")\n",
    "trajs_2 = file_handler.load_trajectory_files([\"R_ABA.txt\"], ROME_DATA_FOLDER) ## Reads a list of trajectory files, return a dictionary with the filename as key and coordinates as values\n"
   ]
  },
  {
   "cell_type": "markdown",
   "metadata": {},
   "source": [
    "### Hash trajectory"
   ]
  },
  {
   "cell_type": "code",
   "execution_count": 7,
   "metadata": {},
   "outputs": [
    {
     "name": "stdout",
     "output_type": "stream",
     "text": [
      "[[array([41.91621625, 12.49551139]), array([41.91621625, 12.49551139]), array([41.90662751, 12.4858685 ]), array([41.89883309, 12.4853358 ])]]\n",
      "[['AC', 'AC', 'AG', 'AA']]\n"
     ]
    }
   ],
   "source": [
    "hash_num = DiskLSH._create_trajectory_hash_with_KD_tree_numerical(trajs_2[\"R_ABA\"])\n",
    "hash_letter = DiskLSH._create_trajectory_hash_with_KD_tree(trajs_2[\"R_ABA\"])\n",
    "\n",
    "\n",
    "print(hash_num)\n",
    "print(hash_letter)"
   ]
  },
  {
   "cell_type": "markdown",
   "metadata": {},
   "source": [
    "### Visualize disks, trajectory and hashed trajectory on map"
   ]
  },
  {
   "cell_type": "code",
   "execution_count": 8,
   "metadata": {},
   "outputs": [
    {
     "name": "stdout",
     "output_type": "stream",
     "text": [
      "Saved disk visualization with hashed trajectory to output/rome/rome_disk_with_hashed_trajectory.html\n"
     ]
    }
   ],
   "source": [
    "import folium\n",
    "from folium.plugins import FeatureGroupSubGroup\n",
    "import random\n",
    "\n",
    "def visualize_disks_with_trajectory(disk_lsh, trajectory, hashed_trajectory):\n",
    "    \"\"\"\n",
    "    Visualizes the disks of the DiskLSH object using Folium.\n",
    "    - Trajectory is displayed as a blue polyline.\n",
    "    - Hashed points are marked with colored circles.\n",
    "\n",
    "    Parameters:\n",
    "    - disk_lsh (DiskLSH): An instance of the DiskLSH class.\n",
    "    - trajectory (list): List of (lat, lon) coordinates representing a single trajectory.\n",
    "    - hashed_trajectory (list of lists): Hashed trajectory representation per layer.\n",
    "\n",
    "    Returns:\n",
    "    - A Folium map object.\n",
    "    \"\"\"\n",
    "\n",
    "    # Define center of the map (average lat/lon)\n",
    "    center_lat = (disk_lsh.min_lat + disk_lsh.max_lat) / 2\n",
    "    center_lon = (disk_lsh.min_lon + disk_lsh.max_lon) / 2\n",
    "\n",
    "    # Initialize folium map\n",
    "    map_disks = folium.Map(location=[center_lat, center_lon], zoom_start=14, tiles=\"OpenStreetMap\")\n",
    "\n",
    "    # Define colors for different disk layers\n",
    "    layer_colors = [\"red\", \"blue\", \"green\", \"purple\", \"orange\"]\n",
    "\n",
    "    # Create a base layer group\n",
    "    base_layer = folium.FeatureGroup(name=\"Base Map\").add_to(map_disks)\n",
    "\n",
    "    # Add bounding box (dataset boundary)\n",
    "    folium.Rectangle(\n",
    "        bounds=[(disk_lsh.min_lat, disk_lsh.min_lon), (disk_lsh.max_lat, disk_lsh.max_lon)],\n",
    "        color=\"black\",\n",
    "        weight=2,\n",
    "        fill=True,\n",
    "        fill_opacity=0.1,\n",
    "        popup=\"Bounding Box\"\n",
    "    ).add_to(base_layer)\n",
    "\n",
    "    # Iterate over each layer in the disk structure\n",
    "    for layer_index, (layer, disks) in enumerate(disk_lsh.disks.items()):\n",
    "        color = layer_colors[layer_index % len(layer_colors)]  # Cycle colors\n",
    "\n",
    "        # Create a subgroup for each layer\n",
    "        layer_group = FeatureGroupSubGroup(base_layer, name=f\"Layer {layer_index + 1}\")\n",
    "        map_disks.add_child(layer_group)\n",
    "\n",
    "        # Plot disks as circles\n",
    "        for disk in disks:\n",
    "            lat, lon = disk  # Disk center\n",
    "            folium.Circle(\n",
    "                location=[lat, lon],\n",
    "                radius=disk_lsh.diameter * 500,  # Convert km to meters\n",
    "                color=color,\n",
    "                fill=True,\n",
    "                fill_opacity=0.4,\n",
    "                popup=f\"Layer {layer_index + 1}\\nDisk: ({lat:.5f}, {lon:.5f})\",\n",
    "            ).add_to(layer_group)\n",
    "\n",
    "    # Plot the trajectory as a blue polyline\n",
    "    folium.PolyLine(\n",
    "        trajectory,\n",
    "        color=\"blue\",\n",
    "        weight=2,\n",
    "        opacity=1,\n",
    "        popup=\"Original Trajectory\"\n",
    "    ).add_to(base_layer)\n",
    "\n",
    "    # Add markers for each point along the trajectory\n",
    "    for lat, lon in trajectory:\n",
    "        folium.CircleMarker(\n",
    "            location=(lat, lon),\n",
    "            radius=3,  # Small marker\n",
    "            color=\"black\",\n",
    "            fill=True,\n",
    "            fill_opacity=1,\n",
    "            popup=f\"Point: ({lat:.5f}, {lon:.5f})\"\n",
    "        ).add_to(base_layer)\n",
    "\n",
    "    # Plot hashed trajectory points as markers with circles\n",
    "    hashed_layer_colors = [\"red\", \"blue\", \"green\", \"purple\", \"orange\"]  # Colors for different layers\n",
    "\n",
    "    for layer_index, layer_points in enumerate(hashed_trajectory):\n",
    "        layer_color = hashed_layer_colors[layer_index % len(hashed_layer_colors)]  # Assign color per layer\n",
    "\n",
    "        for lat, lon in layer_points:\n",
    "            # Add a small circle around the hashed point\n",
    "            folium.Circle(\n",
    "                location=(lat, lon),\n",
    "                radius=20,  # Small circle\n",
    "                color=layer_color,\n",
    "                fill=True,\n",
    "                fill_opacity=0.4,\n",
    "                popup=f\"Layer {layer_index + 1} Hashed Point\"\n",
    "            ).add_to(base_layer)\n",
    "\n",
    "            # Add a marker on top of the hashed point\n",
    "            folium.Marker(\n",
    "                location=(lat, lon),\n",
    "                icon=folium.Icon(color=layer_color, icon=\"info-sign\"),\n",
    "                popup=f\"Hashed Point ({lat:.5f}, {lon:.5f}) - Layer {layer_index + 1}\"\n",
    "            ).add_to(base_layer)\n",
    "\n",
    "    # Add layer control to toggle between layers\n",
    "    folium.LayerControl(collapsed=False).add_to(map_disks)\n",
    "\n",
    "    return map_disks\n",
    "\n",
    "\n",
    "disk_map = visualize_disks_with_trajectory(DiskLSH, trajs_2[\"R_ABA\"], hash_num)\n",
    "disk_map.save(\"output/rome/rome_disk_with_hashed_trajectory.html\")\n",
    "\n",
    "print(f\"Saved disk visualization with hashed trajectory to output/rome/rome_disk_with_hashed_trajectory.html\")\n"
   ]
  },
  {
   "cell_type": "markdown",
   "metadata": {},
   "source": [
    "## PORTO"
   ]
  },
  {
   "cell_type": "code",
   "execution_count": 3,
   "metadata": {},
   "outputs": [],
   "source": [
    "PORTO_DATA_FOLDER = \"../dataset/porto/output/\""
   ]
  },
  {
   "cell_type": "code",
   "execution_count": 4,
   "metadata": {},
   "outputs": [
    {
     "name": "stdout",
     "output_type": "stream",
     "text": [
      "Disk-scheme: Disk2 \n",
      "Covering: (5.559754011677007, 7.536733782089804) km \n",
      "Diameter: 1.2 km\n",
      "Layers: 1 \n",
      "\n",
      "\n"
     ]
    }
   ],
   "source": [
    "DiskLSH = DiskLSH(\n",
    "        name=\"Disk2\",\n",
    "        min_lat = P_MIN_LAT,\n",
    "        max_lat=P_MAX_LAT,\n",
    "        min_lon=P_MIN_LON,\n",
    "        max_lon=P_MAX_LON,\n",
    "        disks=10,\n",
    "        layers=1,\n",
    "        diameter=1.2,\n",
    "        meta_file=\"meta.txt\",\n",
    "        data_path=\"data\",\n",
    ")\n",
    "\n",
    "print(DiskLSH)\n",
    "print(\"\")"
   ]
  },
  {
   "cell_type": "markdown",
   "metadata": {},
   "source": [
    "### Visualize disk scheme in Porto"
   ]
  },
  {
   "cell_type": "code",
   "execution_count": 5,
   "metadata": {},
   "outputs": [
    {
     "name": "stdout",
     "output_type": "stream",
     "text": [
      "Saved disk visualization over Porto to output/porto/porto_disk_visualization.html\n"
     ]
    }
   ],
   "source": [
    "import folium\n",
    "from folium.plugins import FeatureGroupSubGroup\n",
    "\n",
    "def visualize_disks_with_boundary(disk_lsh):\n",
    "    \"\"\"\n",
    "    Visualizes the disks of the DiskLSH object using Folium and adds a bounding box.\n",
    "\n",
    "    Parameters:\n",
    "    - disk_lsh (DiskLSH): An instance of the DiskLSH class.\n",
    "\n",
    "    Returns:\n",
    "    - A Folium map object.\n",
    "    \"\"\"\n",
    "\n",
    "    # Define center of the map (average lat/lon)\n",
    "    center_lat = (disk_lsh.min_lat + disk_lsh.max_lat) / 2\n",
    "    center_lon = (disk_lsh.min_lon + disk_lsh.max_lon) / 2\n",
    "\n",
    "    # Initialize folium map\n",
    "    map_disks = folium.Map(location=[center_lat, center_lon], zoom_start=14, tiles=\"OpenStreetMap\")\n",
    "\n",
    "    # Define colors for different layers\n",
    "    layer_colors = [\"red\", \"blue\", \"green\", \"purple\", \"orange\"]\n",
    "\n",
    "    # Create a base layer group\n",
    "    base_layer = folium.FeatureGroup(name=\"Base Map\").add_to(map_disks)\n",
    "\n",
    "    # Add bounding box (dataset boundary)\n",
    "    folium.Rectangle(\n",
    "        bounds=[(disk_lsh.min_lat, disk_lsh.min_lon), (disk_lsh.max_lat, disk_lsh.max_lon)],\n",
    "        color=\"black\",\n",
    "        weight=2,\n",
    "        fill=True,\n",
    "        fill_opacity=0.1,\n",
    "        popup=\"Bounding Box\"\n",
    "    ).add_to(base_layer)\n",
    "\n",
    "    # Iterate over each layer in the disk structure\n",
    "    for layer_index, (layer, disks) in enumerate(disk_lsh.disks.items()):\n",
    "        color = layer_colors[layer_index % len(layer_colors)]  # Cycle colors\n",
    "\n",
    "        # Create a subgroup for each layer\n",
    "        layer_group = FeatureGroupSubGroup(base_layer, name=f\"Layer {layer_index + 1}\")\n",
    "        map_disks.add_child(layer_group)\n",
    "\n",
    "        # Plot disks as circles\n",
    "        for disk in disks:\n",
    "            lat, lon = disk  # Disk center\n",
    "            folium.Circle(\n",
    "                location=[lat, lon],\n",
    "                radius=disk_lsh.diameter * 500,  # Convert km to meters\n",
    "                color=color,\n",
    "                fill=True,\n",
    "                fill_opacity=0.4,\n",
    "                popup=f\"Layer {layer_index + 1}\\nDisk: ({lat:.5f}, {lon:.5f})\",\n",
    "            ).add_to(layer_group)\n",
    "\n",
    "    # Add layer control to toggle between layers\n",
    "    folium.LayerControl(collapsed=False).add_to(map_disks)\n",
    "\n",
    "    return map_disks\n",
    "\n",
    "# Example usage\n",
    "disk_map = visualize_disks_with_boundary(DiskLSH)\n",
    "disk_map.save(\"output/porto/porto_disk_visualization.html\")\n",
    "print(f\"Saved disk visualization over Porto to output/porto/porto_disk_visualization.html\")\n"
   ]
  },
  {
   "cell_type": "markdown",
   "metadata": {},
   "source": [
    "### Add trajectory\n"
   ]
  },
  {
   "cell_type": "code",
   "execution_count": 6,
   "metadata": {},
   "outputs": [
    {
     "name": "stdout",
     "output_type": "stream",
     "text": [
      "../dataset/porto/output/\n"
     ]
    }
   ],
   "source": [
    "# trajs_1 = file_handler.load_all_trajectory_files(ROME_DATA_FOLDER, \"R\")\n",
    "trajs_2 = file_handler.load_trajectory_files([\"P_ABA.txt\"], PORTO_DATA_FOLDER) ## Reads a list of trajectory files, return a dictionary with the filename as key and coordinates as values\n"
   ]
  },
  {
   "cell_type": "markdown",
   "metadata": {},
   "source": [
    "### Hash trajectory"
   ]
  },
  {
   "cell_type": "code",
   "execution_count": 7,
   "metadata": {},
   "outputs": [
    {
     "name": "stdout",
     "output_type": "stream",
     "text": [
      "[[array([41.15141343, -8.60421237])]]\n",
      "[['AE']]\n"
     ]
    }
   ],
   "source": [
    "hash_num = DiskLSH._create_trajectory_hash_with_KD_tree_numerical(trajs_2[\"P_ABA\"])\n",
    "hash_letter = DiskLSH._create_trajectory_hash_with_KD_tree(trajs_2[\"P_ABA\"])\n",
    "\n",
    "\n",
    "print(hash_num)\n",
    "print(hash_letter)"
   ]
  },
  {
   "cell_type": "markdown",
   "metadata": {},
   "source": [
    "### Visualize disks, trajectory and hashed trajectory on map"
   ]
  },
  {
   "cell_type": "code",
   "execution_count": 8,
   "metadata": {},
   "outputs": [
    {
     "name": "stdout",
     "output_type": "stream",
     "text": [
      "Saved disk visualization with hashed trajectory to output/porto/porto_disk_with_hashed_trajectory.html\n"
     ]
    }
   ],
   "source": [
    "import folium\n",
    "from folium.plugins import FeatureGroupSubGroup\n",
    "import random\n",
    "\n",
    "def visualize_disks_with_trajectory(disk_lsh, trajectory, hashed_trajectory):\n",
    "    \"\"\"\n",
    "    Visualizes the disks of the DiskLSH object using Folium.\n",
    "    - Trajectory is displayed as a blue polyline.\n",
    "    - Hashed points are marked with colored circles.\n",
    "\n",
    "    Parameters:\n",
    "    - disk_lsh (DiskLSH): An instance of the DiskLSH class.\n",
    "    - trajectory (list): List of (lat, lon) coordinates representing a single trajectory.\n",
    "    - hashed_trajectory (list of lists): Hashed trajectory representation per layer.\n",
    "\n",
    "    Returns:\n",
    "    - A Folium map object.\n",
    "    \"\"\"\n",
    "\n",
    "    # Define center of the map (average lat/lon)\n",
    "    center_lat = (disk_lsh.min_lat + disk_lsh.max_lat) / 2\n",
    "    center_lon = (disk_lsh.min_lon + disk_lsh.max_lon) / 2\n",
    "\n",
    "    # Initialize folium map\n",
    "    map_disks = folium.Map(location=[center_lat, center_lon], zoom_start=14, tiles=\"OpenStreetMap\")\n",
    "\n",
    "    # Define colors for different disk layers\n",
    "    layer_colors = [\"red\", \"blue\", \"green\", \"purple\", \"orange\"]\n",
    "\n",
    "    # Create a base layer group\n",
    "    base_layer = folium.FeatureGroup(name=\"Base Map\").add_to(map_disks)\n",
    "\n",
    "    # Add bounding box (dataset boundary)\n",
    "    folium.Rectangle(\n",
    "        bounds=[(disk_lsh.min_lat, disk_lsh.min_lon), (disk_lsh.max_lat, disk_lsh.max_lon)],\n",
    "        color=\"black\",\n",
    "        weight=2,\n",
    "        fill=True,\n",
    "        fill_opacity=0.1,\n",
    "        popup=\"Bounding Box\"\n",
    "    ).add_to(base_layer)\n",
    "\n",
    "    # Iterate over each layer in the disk structure\n",
    "    for layer_index, (layer, disks) in enumerate(disk_lsh.disks.items()):\n",
    "        color = layer_colors[layer_index % len(layer_colors)]  # Cycle colors\n",
    "\n",
    "        # Create a subgroup for each layer\n",
    "        layer_group = FeatureGroupSubGroup(base_layer, name=f\"Layer {layer_index + 1}\")\n",
    "        map_disks.add_child(layer_group)\n",
    "\n",
    "        # Plot disks as circles\n",
    "        for disk in disks:\n",
    "            lat, lon = disk  # Disk center\n",
    "            folium.Circle(\n",
    "                location=[lat, lon],\n",
    "                radius=disk_lsh.diameter * 500,  # Convert km to meters\n",
    "                color=color,\n",
    "                fill=True,\n",
    "                fill_opacity=0.4,\n",
    "                popup=f\"Layer {layer_index + 1}\\nDisk: ({lat:.5f}, {lon:.5f})\",\n",
    "            ).add_to(layer_group)\n",
    "\n",
    "    # Plot the trajectory as a blue polyline\n",
    "    folium.PolyLine(\n",
    "        trajectory,\n",
    "        color=\"blue\",\n",
    "        weight=2,\n",
    "        opacity=1,\n",
    "        popup=\"Original Trajectory\"\n",
    "    ).add_to(base_layer)\n",
    "\n",
    "    # Add markers for each point along the trajectory\n",
    "    for lat, lon in trajectory:\n",
    "        folium.CircleMarker(\n",
    "            location=(lat, lon),\n",
    "            radius=3,  # Small marker\n",
    "            color=\"black\",\n",
    "            fill=True,\n",
    "            fill_opacity=1,\n",
    "            popup=f\"Point: ({lat:.5f}, {lon:.5f})\"\n",
    "        ).add_to(base_layer)\n",
    "\n",
    "    # Plot hashed trajectory points as markers with circles\n",
    "    hashed_layer_colors = [\"red\", \"blue\", \"green\", \"purple\", \"orange\"]  # Colors for different layers\n",
    "\n",
    "    for layer_index, layer_points in enumerate(hashed_trajectory):\n",
    "        layer_color = hashed_layer_colors[layer_index % len(hashed_layer_colors)]  # Assign color per layer\n",
    "\n",
    "        for lat, lon in layer_points:\n",
    "            # Add a small circle around the hashed point\n",
    "            folium.Circle(\n",
    "                location=(lat, lon),\n",
    "                radius=20,  # Small circle\n",
    "                color=layer_color,\n",
    "                fill=True,\n",
    "                fill_opacity=0.4,\n",
    "                popup=f\"Layer {layer_index + 1} Hashed Point\"\n",
    "            ).add_to(base_layer)\n",
    "\n",
    "            # Add a marker on top of the hashed point\n",
    "            folium.Marker(\n",
    "                location=(lat, lon),\n",
    "                icon=folium.Icon(color=layer_color, icon=\"info-sign\"),\n",
    "                popup=f\"Hashed Point ({lat:.5f}, {lon:.5f}) - Layer {layer_index + 1}\"\n",
    "            ).add_to(base_layer)\n",
    "\n",
    "    # Add layer control to toggle between layers\n",
    "    folium.LayerControl(collapsed=False).add_to(map_disks)\n",
    "\n",
    "    return map_disks\n",
    "\n",
    "\n",
    "disk_map = visualize_disks_with_trajectory(DiskLSH, trajs_2[\"P_ABA\"], hash_num)\n",
    "disk_map.save(\"output/porto/porto_disk_with_hashed_trajectory.html\")\n",
    "\n",
    "print(f\"Saved disk visualization with hashed trajectory to output/porto/porto_disk_with_hashed_trajectory.html\")\n"
   ]
  }
 ],
 "metadata": {
  "kernelspec": {
   "display_name": "master",
   "language": "python",
   "name": "python3"
  },
  "language_info": {
   "codemirror_mode": {
    "name": "ipython",
    "version": 3
   },
   "file_extension": ".py",
   "mimetype": "text/x-python",
   "name": "python",
   "nbconvert_exporter": "python",
   "pygments_lexer": "ipython3",
   "version": "3.13.0"
  }
 },
 "nbformat": 4,
 "nbformat_minor": 2
}
