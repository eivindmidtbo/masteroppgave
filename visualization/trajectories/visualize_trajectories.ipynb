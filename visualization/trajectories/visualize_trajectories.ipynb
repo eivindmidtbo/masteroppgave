{
 "cells": [
  {
   "cell_type": "code",
   "execution_count": 21,
   "metadata": {},
   "outputs": [
    {
     "name": "stdout",
     "output_type": "stream",
     "text": [
      "Project root found: /Users/thomasnitsche/Developer/skole/master/masteroppgave\n"
     ]
    }
   ],
   "source": [
    "import os\n",
    "import sys\n",
    "\n",
    "def find_project_root(target_folder=\"masteroppgave\"):\n",
    "    \"\"\"Find the absolute path of a folder (e.g., 'masteroppgave') by searching upward.\"\"\"\n",
    "    currentdir = os.path.abspath(\"__file__\")  # Get absolute script path\n",
    "    while True:\n",
    "        if os.path.basename(currentdir) == target_folder:\n",
    "            return currentdir  # Found the target folder\n",
    "        parentdir = os.path.dirname(currentdir)\n",
    "        if parentdir == currentdir:  # Stop at filesystem root\n",
    "            return None\n",
    "        currentdir = parentdir  # Move one level up\n",
    "\n",
    "# Find and append 'masteroppgave' to sys.path dynamically\n",
    "project_root = find_project_root(\"masteroppgave\")\n",
    "\n",
    "if project_root:\n",
    "    sys.path.append(project_root)\n",
    "    print(f\"Project root found: {project_root}\")\n",
    "else:\n",
    "    raise RuntimeError(\"Could not find 'masteroppgave' directory\")"
   ]
  },
  {
   "cell_type": "code",
   "execution_count": 22,
   "metadata": {},
   "outputs": [],
   "source": [
    "import folium\n",
    "from folium.plugins import FeatureGroupSubGroup\n",
    "import random\n",
    "from schemes.lsh_disk import DiskLSH\n",
    "from constants import  *\n",
    "from utils.helpers import file_handler\n",
    "import pprint"
   ]
  },
  {
   "cell_type": "code",
   "execution_count": 23,
   "metadata": {},
   "outputs": [],
   "source": [
    "\n",
    "trajectories = file_handler.load_trajectory_files([\"R_ABU.txt\", \"R_ARU.txt\",  \"R_ECN.txt\"], ROME_OUTPUT_FOLDER_FULL) ## Reads a list of trajectory files, return a dictionary with the filename as key and coordinates as values"
   ]
  },
  {
   "cell_type": "code",
   "execution_count": 24,
   "metadata": {},
   "outputs": [],
   "source": [
    "import folium\n",
    "import random\n",
    "\n",
    "# Rome coordinate bounds\n",
    "R_MAX_LON = 12.53\n",
    "R_MIN_LON = 12.44\n",
    "R_MAX_LAT = 41.93\n",
    "R_MIN_LAT = 41.88\n",
    "\n",
    "def visualize_trajectories_with_bounds(trajectories):\n",
    "    \"\"\"\n",
    "    Visualizes multiple trajectories on a Folium map with bounding box and point markers.\n",
    "\n",
    "    Parameters:\n",
    "    - trajectories (dict): Dictionary where keys are trajectory names, and values are lists of (lat, lon) coordinates.\n",
    "\n",
    "    Returns:\n",
    "    - A Folium map object.\n",
    "    \"\"\"\n",
    "\n",
    "    # Get center of the map from first trajectory (if available)\n",
    "    if not trajectories:\n",
    "        raise ValueError(\"Trajectory dictionary is empty!\")\n",
    "    \n",
    "    first_trajectory = list(trajectories.values())[0]\n",
    "    center_lat, center_lon = first_trajectory[0]  # Center the map on first point\n",
    "\n",
    "    # Initialize Folium map\n",
    "    map_trajectories = folium.Map(location=[center_lat, center_lon], zoom_start=14, tiles=\"OpenStreetMap\")\n",
    "\n",
    "    # Add bounding box for Rome coordinates\n",
    "    folium.Rectangle(\n",
    "        bounds=[(R_MIN_LAT, R_MIN_LON), (R_MAX_LAT, R_MAX_LON)],\n",
    "        color=\"black\",\n",
    "        weight=2,\n",
    "        fill=True,\n",
    "        fill_opacity=0.1,\n",
    "        popup=\"Rome Bounding Box\"\n",
    "    ).add_to(map_trajectories)\n",
    "\n",
    "    # Define a set of distinct colors for the trajectories\n",
    "    traj_colors = [\n",
    "        \"blue\", \"green\", \"purple\", \"orange\", \"pink\", \"brown\", \"cyan\", \"magenta\", \"yellow\", \"lime\"\n",
    "    ]\n",
    "    random.shuffle(traj_colors)  # Shuffle colors for randomness\n",
    "\n",
    "    # Plot each trajectory with a unique color and mark points\n",
    "    for idx, (traj_name, coords) in enumerate(trajectories.items()):\n",
    "        traj_color = traj_colors[idx % len(traj_colors)]  # Assign a unique color\n",
    "\n",
    "        # Add trajectory line\n",
    "        folium.PolyLine(\n",
    "            coords,\n",
    "            color=traj_color,\n",
    "            weight=4.5,\n",
    "            opacity=1,\n",
    "            popup=f\"Trajectory: {traj_name}\",\n",
    "        ).add_to(map_trajectories)\n",
    "\n",
    "        # Add markers for each point along the trajectory\n",
    "        for lat, lon in coords:\n",
    "            folium.CircleMarker(\n",
    "                location=(lat, lon),\n",
    "                radius=1,  # Small marker\n",
    "                color=\"black\",\n",
    "                fill=True,\n",
    "                fill_opacity=1,\n",
    "                popup=f\"Point: ({lat:.5f}, {lon:.5f})\"\n",
    "            ).add_to(map_trajectories)\n",
    "\n",
    "    return map_trajectories\n",
    "# Generate the map\n",
    "map_trajectories = visualize_trajectories_with_bounds(trajectories)\n",
    "\n",
    "# Save and open in browser\n",
    "map_trajectories.save(\"trajectories.html\")\n"
   ]
  }
 ],
 "metadata": {
  "kernelspec": {
   "display_name": "master",
   "language": "python",
   "name": "python3"
  },
  "language_info": {
   "codemirror_mode": {
    "name": "ipython",
    "version": 3
   },
   "file_extension": ".py",
   "mimetype": "text/x-python",
   "name": "python",
   "nbconvert_exporter": "python",
   "pygments_lexer": "ipython3",
   "version": "3.13.0"
  }
 },
 "nbformat": 4,
 "nbformat_minor": 2
}
