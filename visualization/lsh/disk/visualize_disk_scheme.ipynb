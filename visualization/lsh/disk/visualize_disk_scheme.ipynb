{
 "cells": [
  {
   "cell_type": "markdown",
   "metadata": {},
   "source": [
    "# Notebook for visualizing the disk scheme on map"
   ]
  },
  {
   "cell_type": "code",
   "execution_count": 1,
   "metadata": {},
   "outputs": [
    {
     "name": "stdout",
     "output_type": "stream",
     "text": [
      "Project root found: /Users/thomasnitsche/Developer/skole/master/masteroppgave\n"
     ]
    }
   ],
   "source": [
    "import os\n",
    "import sys\n",
    "\n",
    "def find_project_root(target_folder=\"masteroppgave\"):\n",
    "    \"\"\"Find the absolute path of a folder (e.g., 'masteroppgave') by searching upward.\"\"\"\n",
    "    currentdir = os.path.abspath(\"__file__\")  # Get absolute script path\n",
    "    while True:\n",
    "        if os.path.basename(currentdir) == target_folder:\n",
    "            return currentdir  # Found the target folder\n",
    "        parentdir = os.path.dirname(currentdir)\n",
    "        if parentdir == currentdir:  # Stop at filesystem root\n",
    "            return None\n",
    "        currentdir = parentdir  # Move one level up\n",
    "\n",
    "# Find and append 'masteroppgave' to sys.path dynamically\n",
    "project_root = find_project_root(\"masteroppgave\")\n",
    "\n",
    "if project_root:\n",
    "    sys.path.append(project_root)\n",
    "    print(f\"Project root found: {project_root}\")\n",
    "else:\n",
    "    raise RuntimeError(\"Could not find 'masteroppgave' directory\")"
   ]
  },
  {
   "cell_type": "code",
   "execution_count": 2,
   "metadata": {},
   "outputs": [],
   "source": [
    "import folium\n",
    "from folium.plugins import FeatureGroupSubGroup\n",
    "import random\n",
    "from schemes.lsh_disk import DiskLSH\n",
    "from constants import  *\n",
    "from utils.helpers import file_handler\n"
   ]
  },
  {
   "cell_type": "markdown",
   "metadata": {},
   "source": [
    "## Define Disk"
   ]
  },
  {
   "cell_type": "code",
   "execution_count": 3,
   "metadata": {},
   "outputs": [],
   "source": [
    "DiskLSH = DiskLSH(\n",
    "        name=\"Disk1\",\n",
    "        min_lat = R_MIN_LAT,\n",
    "        max_lat=R_MAX_LAT,\n",
    "        min_lon=R_MIN_LON,\n",
    "        max_lon=R_MAX_LON,\n",
    "        disks=50,\n",
    "        layers=3,\n",
    "        diameter=0.5,\n",
    "        meta_file=\"meta.txt\",\n",
    "        data_path=\"data\",\n",
    ")\n"
   ]
  },
  {
   "cell_type": "markdown",
   "metadata": {},
   "source": [
    "## Visualize disk on map"
   ]
  },
  {
   "cell_type": "code",
   "execution_count": 4,
   "metadata": {},
   "outputs": [],
   "source": [
    "import folium\n",
    "from folium.plugins import FeatureGroupSubGroup\n",
    "\n",
    "def visualize_disks_with_boundary(disk_lsh):\n",
    "    \"\"\"\n",
    "    Visualizes the disks of the DiskLSH object using Folium and adds a bounding box.\n",
    "\n",
    "    Parameters:\n",
    "    - disk_lsh (DiskLSH): An instance of the DiskLSH class.\n",
    "\n",
    "    Returns:\n",
    "    - A Folium map object.\n",
    "    \"\"\"\n",
    "\n",
    "    # Define center of the map (average lat/lon)\n",
    "    center_lat = (disk_lsh.min_lat + disk_lsh.max_lat) / 2\n",
    "    center_lon = (disk_lsh.min_lon + disk_lsh.max_lon) / 2\n",
    "\n",
    "    # Initialize folium map\n",
    "    map_disks = folium.Map(location=[center_lat, center_lon], zoom_start=12, tiles=\"OpenStreetMap\")\n",
    "\n",
    "    # Define colors for different layers\n",
    "    layer_colors = [\"red\", \"blue\", \"green\", \"purple\", \"orange\"]\n",
    "\n",
    "    # Create a base layer group\n",
    "    base_layer = folium.FeatureGroup(name=\"Base Map\").add_to(map_disks)\n",
    "\n",
    "    # Add bounding box (dataset boundary)\n",
    "    folium.Rectangle(\n",
    "        bounds=[(disk_lsh.min_lat, disk_lsh.min_lon), (disk_lsh.max_lat, disk_lsh.max_lon)],\n",
    "        color=\"black\",\n",
    "        weight=2,\n",
    "        fill=True,\n",
    "        fill_opacity=0.1,\n",
    "        popup=\"Bounding Box\"\n",
    "    ).add_to(base_layer)\n",
    "\n",
    "    # Iterate over each layer in the disk structure\n",
    "    for layer_index, (layer, disks) in enumerate(disk_lsh.disks.items()):\n",
    "        color = layer_colors[layer_index % len(layer_colors)]  # Cycle colors\n",
    "\n",
    "        # Create a subgroup for each layer\n",
    "        layer_group = FeatureGroupSubGroup(base_layer, name=f\"Layer {layer_index + 1}\")\n",
    "        map_disks.add_child(layer_group)\n",
    "\n",
    "        # Plot disks as circles\n",
    "        for disk in disks:\n",
    "            lat, lon = disk  # Disk center\n",
    "            folium.Circle(\n",
    "                location=[lat, lon],\n",
    "                radius=disk_lsh.diameter * 500,  # Convert km to meters\n",
    "                color=color,\n",
    "                fill=True,\n",
    "                fill_opacity=0.4,\n",
    "                popup=f\"Layer {layer_index + 1}\\nDisk: ({lat:.5f}, {lon:.5f})\",\n",
    "            ).add_to(layer_group)\n",
    "\n",
    "    # Add layer control to toggle between layers\n",
    "    folium.LayerControl(collapsed=False).add_to(map_disks)\n",
    "\n",
    "    return map_disks\n",
    "\n",
    "# Example usage\n",
    "disk_map = visualize_disks_with_boundary(DiskLSH)\n",
    "disk_map.save(\"disk_visualization.html\")\n"
   ]
  },
  {
   "cell_type": "markdown",
   "metadata": {},
   "source": [
    "## Add trajectory\n"
   ]
  },
  {
   "cell_type": "code",
   "execution_count": 5,
   "metadata": {},
   "outputs": [
    {
     "ename": "FileNotFoundError",
     "evalue": "[Errno 2] No such file or directory: '/Users/thomasnitsche/Developer/skole/master/code/masteroppgave/dataset/rome/output/'",
     "output_type": "error",
     "traceback": [
      "\u001b[0;31m---------------------------------------------------------------------------\u001b[0m",
      "\u001b[0;31mFileNotFoundError\u001b[0m                         Traceback (most recent call last)",
      "Cell \u001b[0;32mIn[5], line 1\u001b[0m\n\u001b[0;32m----> 1\u001b[0m trajs_1 \u001b[38;5;241m=\u001b[39m \u001b[43mfile_handler\u001b[49m\u001b[38;5;241;43m.\u001b[39;49m\u001b[43mload_all_trajectory_files\u001b[49m\u001b[43m(\u001b[49m\u001b[43mROME_OUTPUT_FOLDER_FULL\u001b[49m\u001b[43m,\u001b[49m\u001b[43m \u001b[49m\u001b[38;5;124;43m\"\u001b[39;49m\u001b[38;5;124;43mR\u001b[39;49m\u001b[38;5;124;43m\"\u001b[39;49m\u001b[43m)\u001b[49m\n\u001b[1;32m      3\u001b[0m trajs_2 \u001b[38;5;241m=\u001b[39m file_handler\u001b[38;5;241m.\u001b[39mload_trajectory_files([\u001b[38;5;124m\"\u001b[39m\u001b[38;5;124mR_ABA.txt\u001b[39m\u001b[38;5;124m\"\u001b[39m], ROME_OUTPUT_FOLDER_FULL) \u001b[38;5;66;03m## Reads a list of trajectory files, return a dictionary with the filename as key and coordinates as values\u001b[39;00m\n\u001b[1;32m      4\u001b[0m \u001b[38;5;28mprint\u001b[39m(trajs_2)\n",
      "File \u001b[0;32m~/Developer/skole/master/masteroppgave/utils/helpers/file_handler.py:77\u001b[0m, in \u001b[0;36mload_all_trajectory_files\u001b[0;34m(folder_path, prefix)\u001b[0m\n\u001b[1;32m     59\u001b[0m \u001b[38;5;28;01mdef\u001b[39;00m\u001b[38;5;250m \u001b[39m\u001b[38;5;21mload_all_trajectory_files\u001b[39m(folder_path: \u001b[38;5;28mstr\u001b[39m, prefix: \u001b[38;5;28mstr\u001b[39m) \u001b[38;5;241m-\u001b[39m\u001b[38;5;241m>\u001b[39m \u001b[38;5;28mdict\u001b[39m:\n\u001b[1;32m     60\u001b[0m \u001b[38;5;250m    \u001b[39m\u001b[38;5;124;03m\"\"\"\u001b[39;00m\n\u001b[1;32m     61\u001b[0m \u001b[38;5;124;03m    Reads all trajectory.txt files with the given prefix in the folder and returns a dictionary containing the data\u001b[39;00m\n\u001b[1;32m     62\u001b[0m \n\u001b[0;32m   (...)\u001b[0m\n\u001b[1;32m     72\u001b[0m \u001b[38;5;124;03m    A dictionary containing all files with their filename as key\u001b[39;00m\n\u001b[1;32m     73\u001b[0m \u001b[38;5;124;03m    \"\"\"\u001b[39;00m\n\u001b[1;32m     75\u001b[0m     file_list \u001b[38;5;241m=\u001b[39m [\n\u001b[1;32m     76\u001b[0m         file\n\u001b[0;32m---> 77\u001b[0m         \u001b[38;5;28;01mfor\u001b[39;00m file \u001b[38;5;129;01min\u001b[39;00m \u001b[43mos\u001b[49m\u001b[38;5;241;43m.\u001b[39;49m\u001b[43mlistdir\u001b[49m\u001b[43m(\u001b[49m\u001b[43mfolder_path\u001b[49m\u001b[43m)\u001b[49m\n\u001b[1;32m     78\u001b[0m         \u001b[38;5;28;01mif\u001b[39;00m re\u001b[38;5;241m.\u001b[39mmatch(\u001b[38;5;124mr\u001b[39m\u001b[38;5;124m\"\u001b[39m\u001b[38;5;124m\\\u001b[39m\u001b[38;5;124mb\u001b[39m\u001b[38;5;124m\"\u001b[39m \u001b[38;5;241m+\u001b[39m re\u001b[38;5;241m.\u001b[39mescape(prefix) \u001b[38;5;241m+\u001b[39m \u001b[38;5;124mr\u001b[39m\u001b[38;5;124m\"\u001b[39m\u001b[38;5;124m[^\u001b[39m\u001b[38;5;130;01m\\\\\u001b[39;00m\u001b[38;5;124m]*\u001b[39m\u001b[38;5;124m\\\u001b[39m\u001b[38;5;124m.txt$\u001b[39m\u001b[38;5;124m\"\u001b[39m, file)\n\u001b[1;32m     79\u001b[0m     ]\n\u001b[1;32m     81\u001b[0m     trajectories \u001b[38;5;241m=\u001b[39m \u001b[38;5;28mdict\u001b[39m()\n\u001b[1;32m     83\u001b[0m     \u001b[38;5;28;01mfor\u001b[39;00m file_name \u001b[38;5;129;01min\u001b[39;00m file_list:\n",
      "\u001b[0;31mFileNotFoundError\u001b[0m: [Errno 2] No such file or directory: '/Users/thomasnitsche/Developer/skole/master/code/masteroppgave/dataset/rome/output/'"
     ]
    }
   ],
   "source": [
    "trajs_1 = file_handler.load_all_trajectory_files(ROME_OUTPUT_FOLDER_FULL, \"R\")\n",
    "\n",
    "trajs_2 = file_handler.load_trajectory_files([\"R_ABA.txt\"], ROME_OUTPUT_FOLDER_FULL) ## Reads a list of trajectory files, return a dictionary with the filename as key and coordinates as values\n",
    "print(trajs_2)"
   ]
  },
  {
   "cell_type": "markdown",
   "metadata": {},
   "source": [
    "### Hash trajectory"
   ]
  },
  {
   "cell_type": "code",
   "execution_count": 426,
   "metadata": {},
   "outputs": [
    {
     "name": "stdout",
     "output_type": "stream",
     "text": [
      "[[array([41.91805681, 12.48990845]), array([41.91886387, 12.4909163 ]), array([41.91886387, 12.4909163 ]), array([41.91805681, 12.48990845])], [array([41.91780273, 12.49252981]), array([41.91780273, 12.49252981]), array([41.91780273, 12.49252981]), array([41.91780273, 12.49252981]), array([41.90504959, 12.48958955]), array([41.90642968, 12.49209156]), array([41.9007033 , 12.49032573])], [array([41.91991165, 12.49534651]), array([41.91924074, 12.49645619])]]\n",
      "[['AW', 'BM', 'AW', 'BM'], ['AQ', 'AQ', 'AQ', 'AQ', 'AL', 'AO', 'BX'], ['BX', 'BE']]\n"
     ]
    },
    {
     "data": {
      "text/plain": [
       "(41.90114, 12.49354)"
      ]
     },
     "execution_count": 426,
     "metadata": {},
     "output_type": "execute_result"
    }
   ],
   "source": [
    "hash_num = DiskLSH._create_trajectory_hash_with_KD_tree_numerical(trajs_2[\"R_ABA\"])\n",
    "hash_letter = DiskLSH._create_trajectory_hash(trajs_2[\"R_ABA\"])\n",
    "\n",
    "\n",
    "print(hash_num)\n",
    "print(hash_letter)\n",
    "\n",
    "(41.90114, 12.49354)"
   ]
  },
  {
   "cell_type": "markdown",
   "metadata": {},
   "source": [
    "## Visualize disk scheme, trajectory and hashed trajectory on map"
   ]
  },
  {
   "cell_type": "code",
   "execution_count": 427,
   "metadata": {},
   "outputs": [],
   "source": [
    "import folium\n",
    "from folium.plugins import FeatureGroupSubGroup\n",
    "import random\n",
    "\n",
    "def visualize_disks_with_trajectory(disk_lsh, trajectory, hashed_trajectory):\n",
    "    \"\"\"\n",
    "    Visualizes the disks of the DiskLSH object using Folium.\n",
    "    - Trajectory is displayed as a blue polyline.\n",
    "    - Hashed points are marked with colored circles.\n",
    "\n",
    "    Parameters:\n",
    "    - disk_lsh (DiskLSH): An instance of the DiskLSH class.\n",
    "    - trajectory (list): List of (lat, lon) coordinates representing a single trajectory.\n",
    "    - hashed_trajectory (list of lists): Hashed trajectory representation per layer.\n",
    "\n",
    "    Returns:\n",
    "    - A Folium map object.\n",
    "    \"\"\"\n",
    "\n",
    "    # Define center of the map (average lat/lon)\n",
    "    center_lat = (disk_lsh.min_lat + disk_lsh.max_lat) / 2\n",
    "    center_lon = (disk_lsh.min_lon + disk_lsh.max_lon) / 2\n",
    "\n",
    "    # Initialize folium map\n",
    "    map_disks = folium.Map(location=[center_lat, center_lon], zoom_start=12, tiles=\"OpenStreetMap\")\n",
    "\n",
    "    # Define colors for different disk layers\n",
    "    layer_colors = [\"red\", \"blue\", \"green\", \"purple\", \"orange\"]\n",
    "\n",
    "    # Create a base layer group\n",
    "    base_layer = folium.FeatureGroup(name=\"Base Map\").add_to(map_disks)\n",
    "\n",
    "    # Add bounding box (dataset boundary)\n",
    "    folium.Rectangle(\n",
    "        bounds=[(disk_lsh.min_lat, disk_lsh.min_lon), (disk_lsh.max_lat, disk_lsh.max_lon)],\n",
    "        color=\"black\",\n",
    "        weight=2,\n",
    "        fill=True,\n",
    "        fill_opacity=0.1,\n",
    "        popup=\"Bounding Box\"\n",
    "    ).add_to(base_layer)\n",
    "\n",
    "    # Iterate over each layer in the disk structure\n",
    "    for layer_index, (layer, disks) in enumerate(disk_lsh.disks.items()):\n",
    "        color = layer_colors[layer_index % len(layer_colors)]  # Cycle colors\n",
    "\n",
    "        # Create a subgroup for each layer\n",
    "        layer_group = FeatureGroupSubGroup(base_layer, name=f\"Layer {layer_index + 1}\")\n",
    "        map_disks.add_child(layer_group)\n",
    "\n",
    "        # Plot disks as circles\n",
    "        for disk in disks:\n",
    "            lat, lon = disk  # Disk center\n",
    "            folium.Circle(\n",
    "                location=[lat, lon],\n",
    "                radius=disk_lsh.diameter * 500,  # Convert km to meters\n",
    "                color=color,\n",
    "                fill=True,\n",
    "                fill_opacity=0.4,\n",
    "                popup=f\"Layer {layer_index + 1}\\nDisk: ({lat:.5f}, {lon:.5f})\",\n",
    "            ).add_to(layer_group)\n",
    "\n",
    "    # Plot the trajectory as a blue polyline\n",
    "    folium.PolyLine(\n",
    "        trajectory,\n",
    "        color=\"blue\",\n",
    "        weight=2.5,\n",
    "        opacity=1,\n",
    "        popup=\"Original Trajectory\"\n",
    "    ).add_to(base_layer)\n",
    "\n",
    "    # Add markers for each point along the trajectory\n",
    "    for lat, lon in trajectory:\n",
    "        folium.CircleMarker(\n",
    "            location=(lat, lon),\n",
    "            radius=3,  # Small marker\n",
    "            color=\"black\",\n",
    "            fill=True,\n",
    "            fill_opacity=1,\n",
    "            popup=f\"Point: ({lat:.5f}, {lon:.5f})\"\n",
    "        ).add_to(base_layer)\n",
    "\n",
    "    # Plot hashed trajectory points as markers with circles\n",
    "    hashed_layer_colors = [\"red\", \"blue\", \"green\", \"purple\", \"orange\"]  # Colors for different layers\n",
    "\n",
    "    for layer_index, layer_points in enumerate(hashed_trajectory):\n",
    "        layer_color = hashed_layer_colors[layer_index % len(hashed_layer_colors)]  # Assign color per layer\n",
    "\n",
    "        for lat, lon in layer_points:\n",
    "            # Add a small circle around the hashed point\n",
    "            folium.Circle(\n",
    "                location=(lat, lon),\n",
    "                radius=20,  # Small circle\n",
    "                color=layer_color,\n",
    "                fill=True,\n",
    "                fill_opacity=0.4,\n",
    "                popup=f\"Layer {layer_index + 1} Hashed Point\"\n",
    "            ).add_to(base_layer)\n",
    "\n",
    "            # Add a marker on top of the hashed point\n",
    "            folium.Marker(\n",
    "                location=(lat, lon),\n",
    "                icon=folium.Icon(color=layer_color, icon=\"info-sign\"),\n",
    "                popup=f\"Hashed Point ({lat:.5f}, {lon:.5f}) - Layer {layer_index + 1}\"\n",
    "            ).add_to(base_layer)\n",
    "\n",
    "    # Add layer control to toggle between layers\n",
    "    folium.LayerControl(collapsed=False).add_to(map_disks)\n",
    "\n",
    "    return map_disks\n",
    "\n",
    "\n",
    "disk_map = visualize_disks_with_trajectory(DiskLSH, trajs_2[\"R_ABA\"], hash_num)\n",
    "disk_map.save(\"disk_with_hashed_trajectory.html\")\n"
   ]
  },
  {
   "cell_type": "code",
   "execution_count": null,
   "metadata": {},
   "outputs": [],
   "source": []
  }
 ],
 "metadata": {
  "kernelspec": {
   "display_name": "master",
   "language": "python",
   "name": "python3"
  },
  "language_info": {
   "codemirror_mode": {
    "name": "ipython",
    "version": 3
   },
   "file_extension": ".py",
   "mimetype": "text/x-python",
   "name": "python",
   "nbconvert_exporter": "python",
   "pygments_lexer": "ipython3",
   "version": "3.13.0"
  }
 },
 "nbformat": 4,
 "nbformat_minor": 2
}
