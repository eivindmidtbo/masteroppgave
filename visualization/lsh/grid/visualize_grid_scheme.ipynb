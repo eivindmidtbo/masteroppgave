{
 "cells": [
  {
   "cell_type": "markdown",
   "metadata": {},
   "source": [
    "# Notebook for visualizing grids scheme on map"
   ]
  },
  {
   "cell_type": "code",
   "execution_count": 25,
   "metadata": {},
   "outputs": [
    {
     "name": "stdout",
     "output_type": "stream",
     "text": [
      "Project root found: /Users/thomasnitsche/Developer/skole/master/code/masteroppgave\n"
     ]
    }
   ],
   "source": [
    "import os\n",
    "import sys\n",
    "\n",
    "def find_project_root(target_folder=\"masteroppgave\"):\n",
    "    \"\"\"Find the absolute path of a folder (e.g., 'masteroppgave') by searching upward.\"\"\"\n",
    "    currentdir = os.path.abspath(\"__file__\")  # Get absolute script path\n",
    "    while True:\n",
    "        if os.path.basename(currentdir) == target_folder:\n",
    "            return currentdir  # Found the target folder\n",
    "        parentdir = os.path.dirname(currentdir)\n",
    "        if parentdir == currentdir:  # Stop at filesystem root\n",
    "            return None\n",
    "        currentdir = parentdir  # Move one level up\n",
    "\n",
    "# Find and append 'masteroppgave' to sys.path dynamically\n",
    "project_root = find_project_root(\"masteroppgave\")\n",
    "\n",
    "if project_root:\n",
    "    sys.path.append(project_root)\n",
    "    print(f\"Project root found: {project_root}\")\n",
    "else:\n",
    "    raise RuntimeError(\"Could not find 'masteroppgave' directory\")"
   ]
  },
  {
   "cell_type": "code",
   "execution_count": 26,
   "metadata": {},
   "outputs": [],
   "source": [
    "import folium\n",
    "from folium.plugins import FeatureGroupSubGroup\n",
    "import random\n",
    "from schemes.lsh_grid import GridLSH\n",
    "from constants import  *\n",
    "from utils.helpers import file_handler\n",
    "import pprint"
   ]
  },
  {
   "cell_type": "markdown",
   "metadata": {},
   "source": [
    "### Define Grid"
   ]
  },
  {
   "cell_type": "code",
   "execution_count": 27,
   "metadata": {},
   "outputs": [
    {
     "name": "stdout",
     "output_type": "stream",
     "text": [
      "Grid: G1\n",
      "Covering: (5.559754011676299, 7.451072531046803) km \n",
      "Resolution: 0.7 km \n",
      "Distortion: [0.08586922964381963, 0.549651076505244, 0.37353029466037885, 0.5019433629981879, 0.06889756586350973] km \n",
      "Dimensions: (7, 10) cells\n"
     ]
    }
   ],
   "source": [
    "Grid = GridLSH(\n",
    "        \"G1\",\n",
    "        min_lat=R_MIN_LAT,\n",
    "        max_lat=R_MAX_LAT,\n",
    "        min_lon=R_MIN_LON,\n",
    "        max_lon=R_MAX_LON,\n",
    "        resolution=0.7,\n",
    "        layers=5,\n",
    "        meta_file=\"meta.txt\",\n",
    "        data_path=\"/data\",\n",
    "    )\n",
    "print(Grid)"
   ]
  },
  {
   "cell_type": "markdown",
   "metadata": {},
   "source": [
    "### Visualize Grid on map"
   ]
  },
  {
   "cell_type": "code",
   "execution_count": 28,
   "metadata": {},
   "outputs": [],
   "source": [
    "import folium\n",
    "from folium.plugins import FeatureGroupSubGroup\n",
    "\n",
    "def visualize_grid_with_boundary(grid_lsh):\n",
    "    \"\"\"\n",
    "    Visualizes the grid of the GridLSH object using folium and adds a bounding box.\n",
    "    \n",
    "    Parameters:\n",
    "    - grid_lsh (GridLSH): An instance of the GridLSH class.\n",
    "    \n",
    "    Returns:\n",
    "    - A folium map object.\n",
    "    \"\"\"\n",
    "    \n",
    "    # Define center of the map (average lat/lon)\n",
    "    center_lat = (grid_lsh.min_lat + grid_lsh.max_lat) / 2\n",
    "    center_lon = (grid_lsh.min_lon + grid_lsh.max_lon) / 2\n",
    "\n",
    "    # Initialize folium map\n",
    "    map_grid = folium.Map(location=[center_lat, center_lon], zoom_start=12, tiles=\"OpenStreetMap\")\n",
    "\n",
    "    # Define colors for different layers\n",
    "    layer_colors = [\"red\", \"blue\", \"green\", \"purple\", \"orange\"]\n",
    "\n",
    "    # Create a base layer group\n",
    "    base_layer = folium.FeatureGroup(name=\"Base Map\").add_to(map_grid)\n",
    "\n",
    "    # Add bounding box (dataset boundary)\n",
    "    folium.Rectangle(\n",
    "        bounds=[(grid_lsh.min_lat, grid_lsh.min_lon), (grid_lsh.max_lat, grid_lsh.max_lon)],\n",
    "        color=\"black\",\n",
    "        weight=2,\n",
    "        fill=True,\n",
    "        fill_opacity=0.1,\n",
    "        popup=\"Bounding Box\"\n",
    "    ).add_to(base_layer)\n",
    "\n",
    "    # Iterate over each layer in the grid\n",
    "    for layer_index, (layer, grid_points) in enumerate(grid_lsh.grid.items()):\n",
    "        color = layer_colors[layer_index % len(layer_colors)]  # Cycle colors\n",
    "\n",
    "        # Create a subgroup for each layer\n",
    "        layer_group = FeatureGroupSubGroup(base_layer, name=f\"Layer {layer_index + 1}\")\n",
    "        map_grid.add_child(layer_group)\n",
    "\n",
    "        latitudes, longitudes = grid_points  # Unpack grid points\n",
    "\n",
    "        # Draw grid cells as rectangles\n",
    "        for i in range(len(latitudes) - 1):\n",
    "            for j in range(len(longitudes) - 1):\n",
    "                # Define corners of each cell\n",
    "                top_left = (latitudes[i], longitudes[j])\n",
    "                bottom_right = (latitudes[i + 1], longitudes[j + 1])\n",
    "\n",
    "                folium.Rectangle(\n",
    "                    bounds=[top_left, bottom_right],\n",
    "                    color=color,\n",
    "                    fill=True,\n",
    "                    fill_opacity=0.3,\n",
    "                    popup=f\"Layer {layer_index + 1}\\nCell: ({i}, {j})\",\n",
    "                ).add_to(layer_group)\n",
    "\n",
    "    # Add layer control to toggle between layers\n",
    "    folium.LayerControl(collapsed=False).add_to(map_grid)\n",
    "\n",
    "    return map_grid\n",
    "\n",
    "# Example usage\n",
    "grid_map = visualize_grid_with_boundary(Grid)\n",
    "grid_map.save(\"grid_visualization.html\")\n"
   ]
  },
  {
   "cell_type": "markdown",
   "metadata": {},
   "source": [
    "## Add trajectory"
   ]
  },
  {
   "cell_type": "markdown",
   "metadata": {},
   "source": [
    "### Single trajectory"
   ]
  },
  {
   "cell_type": "code",
   "execution_count": 29,
   "metadata": {},
   "outputs": [
    {
     "name": "stdout",
     "output_type": "stream",
     "text": [
      "{'R_ABA': [[41.9179142561302, 12.491784351789], [41.9180006706546, 12.4915482295984], [41.9180164819596, 12.4916092393588], [41.9180202722101, 12.4916823873694], [41.9180643901914, 12.4916340149177], [41.917986210609, 12.4916812600513], [41.9180102666333, 12.4915954431524], [41.9180476928257, 12.4915810014137], [41.9180308950437, 12.4916438614414], [41.918021115009, 12.4915702289865], [41.9180586784783, 12.491518610133], [41.9180586591962, 12.4915187226679], [41.9180586591962, 12.4915187226679], [41.9180586591962, 12.4915187226679], [41.9180586591962, 12.4915187226679], [41.9180586591962, 12.4915187226679], [41.9180586591962, 12.4915187226679], [41.9180586591962, 12.4915187226679], [41.9180586591962, 12.4915187226679], [41.9180586591962, 12.4915187226679], [41.9180586591962, 12.4915187226679], [41.9180586591962, 12.4915187226679], [41.9180586591962, 12.4915187226679], [41.9180586591962, 12.4915187226679], [41.9180586591962, 12.4915187226679], [41.9180586591962, 12.4915187226679], [41.9180586591962, 12.4915187226679], [41.9180586591962, 12.4915187226679], [41.9180586591962, 12.4915187226679], [41.9180586591962, 12.4915187226679], [41.9180586591962, 12.4915187226679], [41.9180586591962, 12.4915187226679], [41.9180586591962, 12.4915187226679], [41.9180586591962, 12.4915187226679], [41.9180586591962, 12.4915187226679], [41.9180278585956, 12.4916529468727], [41.9180167289464, 12.4916521399633], [41.9179734745558, 12.4917658995419], [41.9180151775036, 12.4917979236958], [41.9180248060473, 12.491729169774], [41.918040743695, 12.4915415194528], [41.9180170185601, 12.4915799840189], [41.9180170185507, 12.4915799840646], [41.9180170185507, 12.4915799840646], [41.9180170185507, 12.4915799840646], [41.9180170185507, 12.4915799840646], [41.9180170185507, 12.4915799840646], [41.9180170185507, 12.4915799840646], [41.9180170185507, 12.4915799840646], [41.9180186909556, 12.4916306416717], [41.9180249310407, 12.491662827882], [41.9180288018439, 12.491653458139], [41.9180288018439, 12.491653458139], [41.9179855090205, 12.4917032168769], [41.9180049964083, 12.4916787472602], [41.9179659677366, 12.4916974298638], [41.9179714897813, 12.4916980597662], [41.9180218893982, 12.4916060961927], [41.9180396852786, 12.491601688246], [41.9180202655079, 12.4916256072363], [41.9180475045905, 12.4915829719443], [41.9180565067872, 12.4915663884844], [41.9180961880448, 12.49153767696], [41.9181110660389, 12.4915074456494], [41.9181110660398, 12.4915074456548], [41.9181110660398, 12.4915074456548], [41.9181110660398, 12.4915074456548], [41.9181110660398, 12.4915074456548], [41.9181110660398, 12.4915074456548], [41.9181110660398, 12.4915074456548], [41.9181110660398, 12.4915074456548], [41.9181110660398, 12.4915074456548], [41.9181110660398, 12.4915074456548], [41.9181110660398, 12.4915074456548], [41.9180699685308, 12.4916344863652], [41.918069968528, 12.491634486368], [41.918069968528, 12.491634486368], [41.918069968528, 12.491634486368], [41.9180493925875, 12.4916489619122], [41.9180005629544, 12.4917493275357], [41.9179670329127, 12.4918388219702], [41.9179874944223, 12.4917824701915], [41.9180089595619, 12.4917117538501], [41.9180100522328, 12.4917060441694], [41.9180100522328, 12.4917060441694], [41.9180100522328, 12.4917060441694], [41.9180100522328, 12.4917060441694], [41.9180100522328, 12.4917060441694], [41.9180096498251, 12.4917083804344], [41.9180317544301, 12.4916610121288], [41.9180280443408, 12.491668142566], [41.9180310358346, 12.4916788418762], [41.9180393587534, 12.4916681966034], [41.9180294445688, 12.4916728101277], [41.9180220244674, 12.4916830544338], [41.9180220244674, 12.4916830544338], [41.9180220244674, 12.4916830544338], [41.9180220244674, 12.4916830544338], [41.9180220244674, 12.4916830544338], [41.9180220244674, 12.4916830544338], [41.9180220244674, 12.4916830544338], [41.9180220244674, 12.4916830544338], [41.9180050122706, 12.4916830889911], [41.9179783787677, 12.4917238766867], [41.9179638826177, 12.4917203066233], [41.9180239871764, 12.491662324752], [41.9180458327095, 12.4916477568919], [41.9180515870512, 12.4916464340464], [41.9180515870512, 12.4916464340464], [41.9180327249106, 12.4916762866829], [41.9180403491474, 12.4916616653701], [41.9180403491474, 12.4916616653701], [41.9180174344384, 12.4916983258643], [41.9179595007931, 12.4918375446187], [41.9179595918933, 12.4918378148315], [41.9179713532626, 12.4917908090121], [41.9180177942364, 12.491741701556], [41.9179994644213, 12.4917573138243], [41.9180020853019, 12.4917564764587], [41.9180020853019, 12.4917564764587], [41.9180020853019, 12.4917564764587], [41.9180020853019, 12.4917564764587], [41.9180020853019, 12.4917564764587], [41.9179917044677, 12.4917424477603], [41.9179829883689, 12.4917419696364], [41.9180476763402, 12.4918071330231], [41.9180524229378, 12.4916462414458], [41.918043727732, 12.4914858196451], [41.9180548926875, 12.4914788416493], [41.9180548926875, 12.4914788416493], [41.9180548926875, 12.4914788416493], [41.9180548926875, 12.4914788416493], [41.9180548926875, 12.4914788416493], [41.9180548926875, 12.4914788416493], [41.9180548926875, 12.4914788416493], [41.9180548926875, 12.4914788416493], [41.9180548926875, 12.4914788416493], [41.9180548926875, 12.4914788416493], [41.9180548926875, 12.4914788416493], [41.9180548926875, 12.4914788416493], [41.9180548926875, 12.4914788416493], [41.9180609498817, 12.4915937311312], [41.9180609498835, 12.4915937311707], [41.9180609498835, 12.4915937311707], [41.9180609498835, 12.4915937311707], [41.9177517833818, 12.4922895230275], [41.9172622688595, 12.4937823091411], [41.9187785212724, 12.4931282503048], [41.9198210058872, 12.4925499595201], [41.9204259101092, 12.4923390571572], [41.9180548926875, 12.4914788416493], [41.9204809306217, 12.4923525300203], [41.9204809306217, 12.4923525300203], [41.9204809306217, 12.4923525300203], [41.9212522871494, 12.4923957320051], [41.9209818187109, 12.4931540601086], [41.9201475415974, 12.4942089570611], [41.9193404830532, 12.4951076979902], [41.9185330774323, 12.494999259903], [41.9180095982819, 12.4946593206153], [41.9178186914244, 12.4949033512314], [41.9177849989091, 12.4950144778054], [41.9176843703315, 12.495213212369], [41.9176355549572, 12.4952714767327], [41.9176020076608, 12.4954334989095], [41.9174744001323, 12.4956634582012], [41.9174744001323, 12.4956634582012], [41.9174744001323, 12.4956634582012], [41.9174744001323, 12.4956634582012], [41.9174744001323, 12.4956634582012], [41.9174195573747, 12.4958773514423], [41.9174195573747, 12.4958773514423], [41.9173317744948, 12.4961150907545], [41.9173317744948, 12.4961150907545], [41.9173317744948, 12.4961150907545], [41.9172716937918, 12.4961580079168], [41.9167431061952, 12.4956086095032], [41.9167212060524, 12.4955470141709], [41.9162637826686, 12.4949046541166], [41.9166891450132, 12.4939431611951], [41.9159547105338, 12.4940555686319], [41.9159547105338, 12.4940555686319], [41.9154055350536, 12.4941159466594], [41.9150579332716, 12.4940021285424], [41.9147763650971, 12.4938997514079], [41.9144159989398, 12.4938460186206], [41.9139299496111, 12.4935992169448], [41.9136099173591, 12.4933369037021], [41.9132787462979, 12.4931219154138], [41.9123951035485, 12.4925120655248], [41.9115972679155, 12.4926435862433], [41.9108460493391, 12.4925191876296], [41.9103108288484, 12.4909424761498], [41.9098700263793, 12.4891598187676], [41.909865018726, 12.4886588796247], [41.909865018726, 12.4886588796247], [41.909865018726, 12.4886588796247], [41.909601375215, 12.4882346658191], [41.9087146552974, 12.4888128483493], [41.9076322412415, 12.4895499662104], [41.9070446785464, 12.490116880084], [41.9059521690687, 12.4907821997386], [41.9052095601195, 12.4928354103565], [41.9051675395051, 12.4930433950442], [41.9051675395051, 12.4930433950442], [41.9049249292234, 12.4934146024124], [41.9039939471121, 12.4937289498475], [41.9029704246732, 12.4921591953917], [41.9019694631135, 12.4907258386528], [41.9010270226129, 12.4893539103755], [41.9001438909181, 12.4880956949956]]}\n"
     ]
    }
   ],
   "source": [
    "trajs_1 = file_handler.load_all_trajectory_files(ROME_OUTPUT_FOLDER_FULL, \"R\")\n",
    "\n",
    "trajs_2 = file_handler.load_trajectory_files([\"R_ABA.txt\"], ROME_OUTPUT_FOLDER_FULL) ## Reads a list of trajectory files, return a dictionary with the filename as key and coordinates as values\n",
    "print(trajs_2)"
   ]
  },
  {
   "cell_type": "markdown",
   "metadata": {},
   "source": [
    "### Hash trajectory"
   ]
  },
  {
   "cell_type": "code",
   "execution_count": 30,
   "metadata": {},
   "outputs": [
    {
     "name": "stdout",
     "output_type": "stream",
     "text": [
      "[[[41.918760189824404, 12.491710053746854], [41.918760189824404, 12.500155723850932], [41.918760189824404, 12.491710053746854], [41.91242958769371, 12.491710053746854], [41.906098985563005, 12.491710053746854], [41.89976838343231, 12.491710053746854]], [[41.91662389961931, 12.488860024326849], [41.91662389961931, 12.49730569443093], [41.922954501750006, 12.488860024326849], [41.91662389961931, 12.488860024326849], [41.922954501750006, 12.488860024326849], [41.922954501750006, 12.49730569443093], [41.91662389961931, 12.49730569443093], [41.91029329748861, 12.49730569443093], [41.91029329748861, 12.488860024326849], [41.90396269535791, 12.488860024326849], [41.90396269535791, 12.49730569443093], [41.90396269535791, 12.488860024326849], [41.89763209322721, 12.488860024326849]], [[41.91503111305244, 12.495180754399595], [41.92136171518314, 12.495180754399595], [41.91503111305244, 12.495180754399595], [41.92136171518314, 12.495180754399595], [41.91503111305244, 12.495180754399595], [41.90870051092174, 12.495180754399595], [41.90870051092174, 12.486735084295514], [41.902369908791044, 12.495180754399595], [41.902369908791044, 12.486735084295514]], [[41.91619244454391, 12.488284419170133], [41.91619244454391, 12.496730089274214], [41.922523046674605, 12.496730089274214], [41.922523046674605, 12.488284419170133], [41.91619244454391, 12.488284419170133], [41.922523046674605, 12.488284419170133], [41.922523046674605, 12.496730089274214], [41.91619244454391, 12.496730089274214], [41.90986184241321, 12.496730089274214], [41.90986184241321, 12.488284419170133], [41.90353124028251, 12.488284419170133], [41.90353124028251, 12.496730089274214], [41.90353124028251, 12.488284419170133], [41.89720063815181, 12.488284419170133]], [[41.918606702894564, 12.491505286499132], [41.918606702894564, 12.499950956603211], [41.918606702894564, 12.491505286499132], [41.91227610076387, 12.491505286499132], [41.905945498633166, 12.491505286499132], [41.89961489650247, 12.491505286499132]]]\n"
     ]
    }
   ],
   "source": [
    "hash_ = Grid._create_trajectory_hash(trajs_2[\"R_ABA\"])\n",
    "\n",
    "print(hash_)"
   ]
  },
  {
   "cell_type": "markdown",
   "metadata": {},
   "source": [
    "### Visualize Grid, original trajectory and hashed trajectory on map"
   ]
  },
  {
   "cell_type": "code",
   "execution_count": 32,
   "metadata": {},
   "outputs": [],
   "source": [
    "import folium\n",
    "from folium.plugins import FeatureGroupSubGroup\n",
    "\n",
    "def visualize_grid_with_trajectory(grid_lsh, trajectory, hashed_trajectory):\n",
    "    \"\"\"\n",
    "    Visualizes the grid of the GridLSH object using Folium and adds a single trajectory.\n",
    "\n",
    "    Parameters:\n",
    "    - grid_lsh (GridLSH): An instance of the GridLSH class.\n",
    "    - trajectory (list): List of (lat, lon) coordinates representing a single trajectory.\n",
    "    - hashed_trajectory (list of lists): Hashed trajectory representation per layer.\n",
    "\n",
    "\n",
    "    Returns:\n",
    "    - A Folium map object.\n",
    "    \"\"\"\n",
    "\n",
    "    # Define center of the map (average lat/lon)\n",
    "    center_lat = (grid_lsh.min_lat + grid_lsh.max_lat) / 2\n",
    "    center_lon = (grid_lsh.min_lon + grid_lsh.max_lon) / 2\n",
    "\n",
    "    # Initialize folium map\n",
    "    map_grid = folium.Map(location=[center_lat, center_lon], zoom_start=12, tiles=\"OpenStreetMap\")\n",
    "\n",
    "    # Define colors for different grid layers\n",
    "    layer_colors = [\"red\", \"blue\", \"green\", \"purple\", \"orange\"]\n",
    "\n",
    "    # Create a base layer group\n",
    "    base_layer = folium.FeatureGroup(name=\"Base Map\").add_to(map_grid)\n",
    "\n",
    "    # Add bounding box (dataset boundary)\n",
    "    folium.Rectangle(\n",
    "        bounds=[(grid_lsh.min_lat, grid_lsh.min_lon), (grid_lsh.max_lat, grid_lsh.max_lon)],\n",
    "        color=\"black\",\n",
    "        weight=2,\n",
    "        fill=True,\n",
    "        fill_opacity=0.1,\n",
    "        popup=\"Bounding Box\"\n",
    "    ).add_to(base_layer)\n",
    "\n",
    "    # Iterate over each layer in the grid\n",
    "    for layer_index, (layer, grid_points) in enumerate(grid_lsh.grid.items()):\n",
    "        color = layer_colors[layer_index % len(layer_colors)]  # Cycle colors\n",
    "\n",
    "        # Create a subgroup for each layer\n",
    "        layer_group = FeatureGroupSubGroup(base_layer, name=f\"Grid Layer {layer_index + 1}\")\n",
    "        map_grid.add_child(layer_group)\n",
    "\n",
    "        latitudes, longitudes = grid_points  # Unpack grid points\n",
    "\n",
    "        # Draw grid cells as rectangles\n",
    "        for i in range(len(latitudes) - 1):\n",
    "            for j in range(len(longitudes) - 1):\n",
    "                # Define corners of each cell\n",
    "                top_left = (latitudes[i], longitudes[j])\n",
    "                bottom_right = (latitudes[i + 1], longitudes[j + 1])\n",
    "\n",
    "                folium.Rectangle(\n",
    "                    bounds=[top_left, bottom_right],\n",
    "                    color=color,\n",
    "                    fill=True,\n",
    "                    fill_opacity=0.3,\n",
    "                    popup=f\"Layer {layer_index + 1}\\nCell: ({i}, {j})\",\n",
    "                ).add_to(layer_group)\n",
    "\n",
    "    # Plot the original trajectory as a blue polyline\n",
    "    folium.PolyLine(\n",
    "        trajectory,\n",
    "        color=\"blue\",\n",
    "        weight=2.5,\n",
    "        opacity=1,\n",
    "        popup=\"Trajectory Path\"\n",
    "    ).add_to(base_layer)\n",
    "\n",
    "    # Add markers for each point along the original trajectory\n",
    "    for lat, lon in trajectory:\n",
    "        folium.CircleMarker(\n",
    "            location=(lat, lon),\n",
    "            radius=3,  # Small marker\n",
    "            color=\"black\",\n",
    "            fill=True,\n",
    "            fill_opacity=1,\n",
    "            popup=f\"Point: ({lat:.5f}, {lon:.5f})\"\n",
    "        ).add_to(base_layer)\n",
    "        \n",
    "    # Plot hashed trajectory points as markers with circles\n",
    "    hashed_layer_colors = [\"red\", \"blue\", \"green\", \"purple\", \"orange\"]  # Colors for different layers\n",
    "\n",
    "    for layer_index, layer_points in enumerate(hashed_trajectory):\n",
    "        layer_color = hashed_layer_colors[layer_index % len(hashed_layer_colors)]  # Assign color per layer\n",
    "\n",
    "        for lat, lon in layer_points:\n",
    "            # Add a small circle around the hashed point\n",
    "            folium.Circle(\n",
    "                location=(lat, lon),\n",
    "                radius=20,  # Small circle\n",
    "                color=layer_color,\n",
    "                fill=True,\n",
    "                fill_opacity=0.4,\n",
    "                popup=f\"Layer {layer_index + 1} Hashed Point\"\n",
    "            ).add_to(base_layer)\n",
    "\n",
    "            # Add a marker on top of the hashed point\n",
    "            folium.Marker(\n",
    "                location=(lat, lon),\n",
    "                icon=folium.Icon(color=layer_color, icon=\"info-sign\"),\n",
    "                popup=f\"Hashed Point ({lat:.5f}, {lon:.5f}) - Layer {layer_index + 1}\"\n",
    "            ).add_to(base_layer)\n",
    "\n",
    "    # Add layer control to toggle between layers\n",
    "    folium.LayerControl(collapsed=False).add_to(map_grid)\n",
    "\n",
    "    return map_grid\n",
    "\n",
    "\n",
    "\n",
    "\n",
    "grid_map = visualize_grid_with_trajectory(Grid, trajs_2[\"R_ABA\"], hash_)\n",
    "grid_map.save(\"grid_with_trajectory.html\")\n"
   ]
  }
 ],
 "metadata": {
  "kernelspec": {
   "display_name": "master",
   "language": "python",
   "name": "python3"
  },
  "language_info": {
   "codemirror_mode": {
    "name": "ipython",
    "version": 3
   },
   "file_extension": ".py",
   "mimetype": "text/x-python",
   "name": "python",
   "nbconvert_exporter": "python",
   "pygments_lexer": "ipython3",
   "version": "3.13.0"
  }
 },
 "nbformat": 4,
 "nbformat_minor": 2
}
