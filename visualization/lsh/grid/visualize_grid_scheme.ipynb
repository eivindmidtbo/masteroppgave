{
 "cells": [
  {
   "cell_type": "markdown",
   "metadata": {},
   "source": [
    "# Notebook for visualizing the created grid"
   ]
  },
  {
   "cell_type": "code",
   "execution_count": 83,
   "metadata": {},
   "outputs": [
    {
     "name": "stdout",
     "output_type": "stream",
     "text": [
      "Project root found: /Users/thomasnitsche/Developer/skole/master/code/masteroppgave\n"
     ]
    }
   ],
   "source": [
    "import os\n",
    "import sys\n",
    "\n",
    "def find_project_root(target_folder=\"masteroppgave\"):\n",
    "    \"\"\"Find the absolute path of a folder (e.g., 'masteroppgave') by searching upward.\"\"\"\n",
    "    currentdir = os.path.abspath(\"__file__\")  # Get absolute script path\n",
    "    while True:\n",
    "        if os.path.basename(currentdir) == target_folder:\n",
    "            return currentdir  # Found the target folder\n",
    "        parentdir = os.path.dirname(currentdir)\n",
    "        if parentdir == currentdir:  # Stop at filesystem root\n",
    "            return None\n",
    "        currentdir = parentdir  # Move one level up\n",
    "\n",
    "# Find and append 'masteroppgave' to sys.path dynamically\n",
    "project_root = find_project_root(\"masteroppgave\")\n",
    "\n",
    "if project_root:\n",
    "    sys.path.append(project_root)\n",
    "    print(f\"Project root found: {project_root}\")\n",
    "else:\n",
    "    raise RuntimeError(\"Could not find 'masteroppgave' directory\")"
   ]
  },
  {
   "cell_type": "code",
   "execution_count": 85,
   "metadata": {},
   "outputs": [],
   "source": [
    "import folium\n",
    "from folium.plugins import FeatureGroupSubGroup\n",
    "import random\n",
    "from schemes.lsh_grid import GridLSH"
   ]
  },
  {
   "cell_type": "code",
   "execution_count": 86,
   "metadata": {},
   "outputs": [
    {
     "name": "stdout",
     "output_type": "stream",
     "text": [
      "Grid: G1\n",
      "Covering: (5.559754011677007, 7.536733782089804) km \n",
      "Resolution: 0.25 km \n",
      "Distortion: [0.1189828711294954, 0.155629560281487, 0.12925474997706543, 0.05161096815079891, 0.2310794404649125] km \n",
      "Dimensions: (22, 30) cells\n"
     ]
    }
   ],
   "source": [
    "Grid = GridLSH(\n",
    "        \"G1\",\n",
    "        min_lat=41.14,\n",
    "        max_lat=41.19,\n",
    "        min_lon=-8.66,\n",
    "        max_lon=-8.57,\n",
    "        resolution=0.25,\n",
    "        layers=5,\n",
    "        meta_file=\"meta.txt\",\n",
    "        data_path=\"/data\",\n",
    "    )\n",
    "print(Grid)"
   ]
  },
  {
   "cell_type": "code",
   "execution_count": 90,
   "metadata": {},
   "outputs": [],
   "source": [
    "import folium\n",
    "from folium.plugins import FeatureGroupSubGroup\n",
    "import random\n",
    "\n",
    "def visualize_grid(grid_lsh):\n",
    "    \"\"\"\n",
    "    Visualizes the grid of the GridLSH object using folium.\n",
    "    \n",
    "    Parameters:\n",
    "    - grid_lsh (GridLSH): An instance of the GridLSH class.\n",
    "    \n",
    "    Returns:\n",
    "    - A folium map object.\n",
    "    \"\"\"\n",
    "    \n",
    "    # Define center of the map (average lat/lon)\n",
    "    center_lat = (grid_lsh.min_lat + grid_lsh.max_lat) / 2\n",
    "    center_lon = (grid_lsh.min_lon + grid_lsh.max_lon) / 2\n",
    "\n",
    "    # Initialize folium map\n",
    "    map_grid = folium.Map(location=[center_lat, center_lon], zoom_start=12, tiles=\"OpenStreetMap\")\n",
    "\n",
    "    # Define colors for different layers\n",
    "    layer_colors = [\"red\", \"blue\", \"green\", \"purple\", \"orange\"]\n",
    "\n",
    "    # Create a base layer group\n",
    "    base_layer = folium.FeatureGroup(name=\"Base Map\").add_to(map_grid)\n",
    "\n",
    "    # Iterate over each layer in the grid\n",
    "    for layer_index, (layer, grid_points) in enumerate(grid_lsh.grid.items()):\n",
    "        color = layer_colors[layer_index % len(layer_colors)]  # Cycle colors\n",
    "\n",
    "        # Create a subgroup for each layer\n",
    "        layer_group = FeatureGroupSubGroup(base_layer, name=f\"Layer {layer_index + 1}\")\n",
    "        map_grid.add_child(layer_group)\n",
    "\n",
    "        latitudes, longitudes = grid_points  # Unpack grid points\n",
    "\n",
    "        # Draw grid cells as rectangles\n",
    "        for i in range(len(latitudes) - 1):\n",
    "            for j in range(len(longitudes) - 1):\n",
    "                # Define corners of each cell\n",
    "                top_left = (latitudes[i], longitudes[j])\n",
    "                bottom_right = (latitudes[i + 1], longitudes[j + 1])\n",
    "\n",
    "                folium.Rectangle(\n",
    "                    bounds=[top_left, bottom_right],\n",
    "                    color=color,\n",
    "                    fill=True,\n",
    "                    fill_opacity=0.3,\n",
    "                    popup=f\"Layer {layer_index + 1}\\nCell: ({i}, {j})\",\n",
    "                ).add_to(layer_group)\n",
    "\n",
    "    # Add layer control to toggle between layers\n",
    "    folium.LayerControl(collapsed=False).add_to(map_grid)\n",
    "\n",
    "    return map_grid\n",
    "\n",
    "# Example usage\n",
    "grid_map = visualize_grid(Grid)\n",
    "grid_map.save(\"grid_visualization.html\")\n"
   ]
  },
  {
   "cell_type": "code",
   "execution_count": null,
   "metadata": {},
   "outputs": [],
   "source": []
  }
 ],
 "metadata": {
  "kernelspec": {
   "display_name": "master",
   "language": "python",
   "name": "python3"
  },
  "language_info": {
   "codemirror_mode": {
    "name": "ipython",
    "version": 3
   },
   "file_extension": ".py",
   "mimetype": "text/x-python",
   "name": "python",
   "nbconvert_exporter": "python",
   "pygments_lexer": "ipython3",
   "version": "3.13.0"
  }
 },
 "nbformat": 4,
 "nbformat_minor": 2
}
