{
 "cells": [
  {
   "cell_type": "code",
   "execution_count": 11,
   "metadata": {},
   "outputs": [],
   "source": [
    "import os\n",
    "import pandas as pd\n",
    "import folium  # Importing Folium\n",
    "from folium.plugins import HeatMap\n",
    "import ast\n",
    "# Reading the data\n",
    "input_file_path = os.path.join(\"../dataset/porto\", \"porto.csv\")\n",
    "df = pd.read_csv(input_file_path, usecols=[\"POLYLINE\"])\n",
    "\n",
    "# Bounds\n",
    "MAX_LON = -8.57\n",
    "MIN_LON = -8.66\n",
    "MAX_LAT = 41.19\n",
    "MIN_LAT = 41.14\n",
    "MIN_LEN = 40\n",
    "\n",
    "all_coords = []\n",
    "\n",
    "# Iterate over each row in the DataFrame\n",
    "for index, row in df.iterrows():\n",
    "    # Convert the polyline string to a list of coordinates\n",
    "    polyline = ast.literal_eval(row['POLYLINE'])\n",
    "    swapped_polyline = [(lat, lon) for lon, lat in polyline]\n",
    "    all_coords.extend(swapped_polyline)\n",
    "\n"
   ]
  },
  {
   "cell_type": "code",
   "execution_count": 12,
   "metadata": {},
   "outputs": [
    {
     "name": "stdout",
     "output_type": "stream",
     "text": [
      "Heatmap saved to output/porto\\porto_heatmap.html\n"
     ]
    }
   ],
   "source": [
    "\n",
    "center_lat = (MAX_LAT + MIN_LAT) / 2\n",
    "center_lon = (MAX_LON + MIN_LON) / 2\n",
    "# Create a Folium map at the average location\n",
    "map = folium.Map(location=[center_lat, center_lon], zoom_start=14)\n",
    "\n",
    "# Add a HeatMap layer to the map\n",
    "HeatMap(all_coords, radius=16, blur=15).add_to(map)\n",
    "\n",
    "# Save the map to an HTML file\n",
    "map_path = os.path.join(\"output/porto\", \"porto_heatmap.html\")\n",
    "map.save(map_path)\n",
    "\n",
    "print(\"Heatmap saved to\", map_path)"
   ]
  }
 ],
 "metadata": {
  "kernelspec": {
   "display_name": "master_repo",
   "language": "python",
   "name": "python3"
  },
  "language_info": {
   "codemirror_mode": {
    "name": "ipython",
    "version": 3
   },
   "file_extension": ".py",
   "mimetype": "text/x-python",
   "name": "python",
   "nbconvert_exporter": "python",
   "pygments_lexer": "ipython3",
   "version": "3.13.0"
  }
 },
 "nbformat": 4,
 "nbformat_minor": 2
}
