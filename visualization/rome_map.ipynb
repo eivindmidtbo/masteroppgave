{
 "cells": [
  {
   "cell_type": "code",
   "execution_count": 10,
   "metadata": {},
   "outputs": [
    {
     "name": "stderr",
     "output_type": "stream",
     "text": [
      "Plotting points: 100%|██████████| 339619/339619 [00:02<00:00, 146384.41it/s]\n"
     ]
    },
    {
     "name": "stdout",
     "output_type": "stream",
     "text": [
      "Number of plotted points: 339619\n",
      "Map saved to output/rome/rome_map.html\n"
     ]
    }
   ],
   "source": [
    "import pandas as pd\n",
    "import folium\n",
    "import os\n",
    "from tqdm import tqdm  # Import tqdm for the progress bar\n",
    "\n",
    "# Define the Rome bounding box for reference (optional, not used directly)\n",
    "R_MAX_LON = 12.53\n",
    "R_MIN_LON = 12.44\n",
    "R_MAX_LAT = 41.93\n",
    "R_MIN_LAT = 41.88\n",
    "\n",
    "# Define the input file path\n",
    "input_file = \"../dataset/rome/rome_all_coordinates.csv\"\n",
    "\n",
    "# Load the Rome dataset\n",
    "try:\n",
    "    # Read the CSV file containing the Rome coordinates\n",
    "    data = pd.read_csv(input_file)\n",
    "\n",
    "    # Check if the required columns exist\n",
    "    if \"latitude\" not in data.columns or \"longitude\" not in data.columns:\n",
    "        raise ValueError(\"Input file must contain 'latitude' and 'longitude' columns.\")\n",
    "\n",
    "    # Extract all coordinates\n",
    "    all_coords = list(zip(data[\"latitude\"], data[\"longitude\"]))\n",
    "\n",
    "    # Create a map centered on Rome's approximate coordinates\n",
    "    rome_center_lat = (R_MAX_LAT + R_MIN_LAT) / 2\n",
    "    rome_center_lon = (R_MAX_LON + R_MIN_LON) / 2\n",
    "    map = folium.Map(location=[rome_center_lat, rome_center_lon], zoom_start=12)\n",
    "\n",
    "    # Use tqdm to display a progress bar during plotting\n",
    "    count = 0\n",
    "    for lat, lon in tqdm(all_coords, total=len(all_coords), desc=\"Plotting points\"):\n",
    "        folium.CircleMarker([lat, lon], radius=1, weight=1).add_to(map)\n",
    "        count += 1\n",
    "        \n",
    "    # Define the output file path\n",
    "    output_file_path = os.path.join(\"output/rome\", \"rome_map.html\")\n",
    "\n",
    "    # Create the output directory if it doesn't exist\n",
    "    os.makedirs(os.path.dirname(output_file_path), exist_ok=True)\n",
    "\n",
    "    # Save the map\n",
    "    map.save(output_file_path)\n",
    "\n",
    "    print(f\"Number of plotted points: {count}\")\n",
    "    print(f\"Map saved to {output_file_path}\")\n",
    "\n",
    "except Exception as e:\n",
    "    print(f\"Error: {e}\")\n"
   ]
  },
  {
   "cell_type": "markdown",
   "metadata": {},
   "source": [
    "# NEW and better"
   ]
  },
  {
   "cell_type": "code",
   "execution_count": null,
   "metadata": {},
   "outputs": [
    {
     "name": "stdout",
     "output_type": "stream",
     "text": [
      "Map saved to output/rome/rome_map.html\n"
     ]
    }
   ],
   "source": [
    "import folium\n",
    "import os\n",
    "import glob\n",
    "\n",
    "# Define the input directory path\n",
    "input_dir = '/Users/thomasnitsche/Developer/skole/master/code/masteroppgave/dataset/rome/output/'\n",
    "\n",
    "# Define the Rome bounding box for reference (optional, not used directly)\n",
    "R_MAX_LON = 12.53\n",
    "R_MIN_LON = 12.44\n",
    "R_MAX_LAT = 41.93\n",
    "R_MIN_LAT = 41.88\n",
    "\n",
    " # Create a map centered on Rome's approximate coordinates\n",
    "rome_center_lat = (R_MAX_LAT + R_MIN_LAT) / 2\n",
    "rome_center_lon = (R_MAX_LON + R_MIN_LON) / 2\n",
    "rome_map = folium.Map(location=[rome_center_lat, rome_center_lon], zoom_start=12)\n",
    "\n",
    "\n",
    "# Get all text files prefixed with R_\n",
    "txt_files = glob.glob(os.path.join(input_dir, \"R_*.txt\"))\n",
    "\n",
    "# Iterate through each file and extract coordinates\n",
    "for txt_file in txt_files:\n",
    "    coordinates = []\n",
    "    with open(txt_file, 'r') as file:\n",
    "        for line in file:\n",
    "            line = line.strip()\n",
    "            if line:  # Check if the line is not empty\n",
    "                try:\n",
    "                    lat, lon = map(float, line.split(','))\n",
    "                    coordinates.append((lat, lon))\n",
    "                except ValueError as e:\n",
    "                    print(f\"Error parsing line: {line} - {e}\")\n",
    "    \n",
    "    # Add a polyline connecting all the points in the trajectory\n",
    "    if coordinates:\n",
    "        folium.PolyLine(locations=coordinates, color='blue').add_to(rome_map)\n",
    "\n",
    "# Define the output file path\n",
    "output_file_path = os.path.join(\"output/rome\", \"rome_map.html\")\n",
    "\n",
    "# Create the output directory if it doesn't exist\n",
    "os.makedirs(os.path.dirname(output_file_path), exist_ok=True)\n",
    "\n",
    "# Save the map\n",
    "rome_map.save(\"rome_map.html\")\n",
    "\n",
    "print(f\"Map saved to {output_file_path}\")"
   ]
  },
  {
   "cell_type": "code",
   "execution_count": null,
   "metadata": {},
   "outputs": [],
   "source": []
  }
 ],
 "metadata": {
  "kernelspec": {
   "display_name": "master",
   "language": "python",
   "name": "python3"
  },
  "language_info": {
   "codemirror_mode": {
    "name": "ipython",
    "version": 3
   },
   "file_extension": ".py",
   "mimetype": "text/x-python",
   "name": "python",
   "nbconvert_exporter": "python",
   "pygments_lexer": "ipython3",
   "version": "3.13.0"
  }
 },
 "nbformat": 4,
 "nbformat_minor": 2
}
