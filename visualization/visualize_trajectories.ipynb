{
 "cells": [
  {
   "cell_type": "markdown",
   "metadata": {},
   "source": [
    "# Notebook for visualizing trajectories for both cities"
   ]
  },
  {
   "cell_type": "code",
   "execution_count": null,
   "metadata": {},
   "outputs": [],
   "source": [
    "import os\n",
    "import sys\n",
    "\n",
    "def find_project_root(target_folder=\"masteroppgave\"):\n",
    "    \"\"\"Find the absolute path of a folder (e.g., 'masteroppgave') by searching upward.\"\"\"\n",
    "    currentdir = os.path.abspath(\"__file__\")  # Get absolute script path\n",
    "    while True:\n",
    "        if os.path.basename(currentdir) == target_folder:\n",
    "            return currentdir  # Found the target folder\n",
    "        parentdir = os.path.dirname(currentdir)\n",
    "        if parentdir == currentdir:  # Stop at filesystem root\n",
    "            return None\n",
    "        currentdir = parentdir  # Move one level up\n",
    "\n",
    "# Find and append 'masteroppgave' to sys.path dynamically\n",
    "project_root = find_project_root(\"masteroppgave\")\n",
    "\n",
    "if project_root:\n",
    "    sys.path.append(project_root)\n",
    "    print(f\"Project root found: {project_root}\")\n",
    "else:\n",
    "    raise RuntimeError(\"Could not find 'masteroppgave' directory\")"
   ]
  },
  {
   "cell_type": "code",
   "execution_count": 20,
   "metadata": {},
   "outputs": [],
   "source": [
    "import folium\n",
    "from folium.plugins import FeatureGroupSubGroup\n",
    "import random\n",
    "from constants import  *\n",
    "from utils.helpers import file_handler\n",
    "import pprint"
   ]
  },
  {
   "cell_type": "markdown",
   "metadata": {},
   "source": [
    "# Setup"
   ]
  },
  {
   "cell_type": "code",
   "execution_count": 21,
   "metadata": {},
   "outputs": [],
   "source": [
    "#City to use (used for filepath)\n",
    "CITY = \"rome\"\n",
    "TRAJECTORIES = [\"BXV\", \"BXZ\"]"
   ]
  },
  {
   "cell_type": "code",
   "execution_count": 22,
   "metadata": {},
   "outputs": [],
   "source": [
    "def build_list_of_files (trajectory_names: list[str], prefix: str):\n",
    "    list_of_files = []\n",
    "    for name in trajectory_names:\n",
    "        list_of_files.append(f\"{prefix}_{name}.txt\")\n",
    "    return list_of_files"
   ]
  },
  {
   "cell_type": "code",
   "execution_count": 23,
   "metadata": {},
   "outputs": [],
   "source": [
    "if CITY == \"rome\":\n",
    "    OUTPUT_FOLDER = f\"../dataset/rome/output/\"\n",
    "    MAX_LON = 12.53\n",
    "    MIN_LON = 12.44\n",
    "    MAX_LAT = 41.93\n",
    "    MIN_LAT = 41.88\n",
    "    file_list = build_list_of_files(TRAJECTORIES, \"R\")\n",
    "    trajectories = file_handler.load_trajectory_files(file_list, OUTPUT_FOLDER) ## Reads a list of trajectory files, return a dictionary with the filename as key and coordinates as values\n",
    "\n",
    "if CITY == \"porto\":\n",
    "    OUTPUT_FOLDER = f\"../dataset/porto/output/\"\n",
    "    MAX_LON = -8.57\n",
    "    MIN_LON = -8.66\n",
    "    MAX_LAT = 41.19\n",
    "    MIN_LAT = 41.14 \n",
    "    file_list = build_list_of_files(TRAJECTORIES, \"P\")\n",
    "    trajectories = file_handler.load_trajectory_files(file_list, OUTPUT_FOLDER) ## Reads a list of trajectory files, return a dictionary with the filename as key and coordinates as values\n"
   ]
  },
  {
   "cell_type": "markdown",
   "metadata": {},
   "source": [
    "# Visualize trajectories"
   ]
  },
  {
   "cell_type": "code",
   "execution_count": null,
   "metadata": {},
   "outputs": [],
   "source": [
    "def visualize_trajectories_with_filtering(trajectories):\n",
    "    \"\"\"\n",
    "    Visualizes multiple trajectories on a Folium map with checkboxes to filter them.\n",
    "\n",
    "    Parameters:\n",
    "    - trajectories (dict): Dictionary where keys are trajectory names, and values are lists of (lat, lon) coordinates.\n",
    "\n",
    "    Returns:\n",
    "    - A Folium map object.\n",
    "    \"\"\"\n",
    "\n",
    "    if not trajectories:\n",
    "        raise ValueError(\"Trajectory dictionary is empty!\")\n",
    "\n",
    "    center_lat = (MIN_LAT + MAX_LAT) / 2\n",
    "    center_lon = (MIN_LON + MAX_LON) / 2\n",
    "\n",
    "    # Initialize Folium map\n",
    "    map_trajectories = folium.Map(location=[center_lat, center_lon], zoom_start=13)\n",
    "\n",
    "    # Add bounding box for Rome coordinates\n",
    "    folium.Rectangle(\n",
    "        bounds=[(MIN_LAT, MIN_LON), (MAX_LAT, MAX_LON)],\n",
    "        color=\"black\",\n",
    "        weight=2,\n",
    "        fill=True,\n",
    "        fill_opacity=0.1,\n",
    "        popup=\"Rome Bounding Box\"\n",
    "    ).add_to(map_trajectories)\n",
    "\n",
    "    # Define a set of distinct colors for trajectories\n",
    "    traj_colors = [\n",
    "        \"red\", \"blue\", \"green\", \"purple\", \"orange\", \"pink\", \"brown\", \"cyan\", \"magenta\", \"yellow\", \"lime\"\n",
    "    ]\n",
    "    random.shuffle(traj_colors)  # Shuffle colors for randomness\n",
    "\n",
    "    # Add a FeatureGroup for each trajectory to enable toggling\n",
    "    for idx, (traj_name, coords) in enumerate(trajectories.items()):\n",
    "        traj_color = traj_colors[idx % len(traj_colors)]  # Assign a unique color\n",
    "        traj_layer = folium.FeatureGroup(name=f\"Trajectory: {traj_name}\")  # Create a feature group\n",
    "\n",
    "        # Add trajectory line to its feature group\n",
    "        folium.PolyLine(\n",
    "            coords,\n",
    "            color=traj_color,\n",
    "            weight=6.5,\n",
    "            opacity=1,\n",
    "            popup=f\"Trajectory: {traj_name}\",\n",
    "        ).add_to(traj_layer)\n",
    "\n",
    "        # Add markers for each point along the trajectory\n",
    "        for lat, lon in coords:\n",
    "            folium.CircleMarker(\n",
    "                location=(lat, lon),\n",
    "                radius=1,  # Bigger markers\n",
    "                color=\"black\",\n",
    "                fill=True,\n",
    "                fill_color=\"red\",\n",
    "                fill_opacity=1,\n",
    "                popup=f\"Point: ({lat:.5f}, {lon:.5f})\"\n",
    "            ).add_to(traj_layer)\n",
    "\n",
    "        traj_layer.add_to(map_trajectories)  # Add trajectory layer to map\n",
    "\n",
    "    # Add LayerControl to enable checkboxes\n",
    "    folium.LayerControl(collapsed=False).add_to(map_trajectories)\n",
    "\n",
    "    return map_trajectories\n",
    "\n",
    "# Generate the map with filterable checkboxes\n",
    "map_trajectories = visualize_trajectories_with_filtering(trajectories)\n",
    "\n",
    "# # Save the map\n",
    "# map_trajectories.save(\"trajectories_rome.html\")\n",
    "\n",
    "# print(\"Map with filterable trajectories saved as trajectories_rome_filtered.html\")\n",
    "\n",
    "map_trajectories"
   ]
  }
 ],
 "metadata": {
  "kernelspec": {
   "display_name": "master",
   "language": "python",
   "name": "python3"
  },
  "language_info": {
   "codemirror_mode": {
    "name": "ipython",
    "version": 3
   },
   "file_extension": ".py",
   "mimetype": "text/x-python",
   "name": "python",
   "nbconvert_exporter": "python",
   "pygments_lexer": "ipython3",
   "version": "3.13.0"
  }
 },
 "nbformat": 4,
 "nbformat_minor": 2
}
