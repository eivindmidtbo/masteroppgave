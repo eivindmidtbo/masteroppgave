{
 "cells": [
  {
   "cell_type": "code",
   "execution_count": 3,
   "metadata": {},
   "outputs": [],
   "source": [
    "import os\n",
    "import pandas as pd\n",
    "import folium\n",
    "from folium.plugins import HeatMap\n",
    "import ast  # To safely evaluate string representations of lists\n",
    "\n",
    "input_file_path = os.path.join(\"../dataset/rome\", \"rome.csv\")\n",
    "\n",
    "# Read the CSV data into a DataFrame\n",
    "df = pd.read_csv(input_file_path, usecols=['location'])\n",
    "\n",
    "# bounds\n",
    "MAX_LON = 12.53\n",
    "MIN_LON = 12.44\n",
    "MAX_LAT = 41.93\n",
    "MIN_LAT = 41.88\n",
    "\n",
    "# Initialize an empty list to store the coordinates\n",
    "coordinates = []\n",
    "\n"
   ]
  },
  {
   "cell_type": "code",
   "execution_count": 4,
   "metadata": {},
   "outputs": [
    {
     "name": "stdout",
     "output_type": "stream",
     "text": [
      "Heatmap saved to output/rome\\rome_heatmap.html\n"
     ]
    }
   ],
   "source": [
    "# Iterate over each row in the DataFrame\n",
    "for index, row in df.iterrows():\n",
    "    # Convert the location string to a list of coordinates\n",
    "    location = ast.literal_eval(row['location'])\n",
    "    coordinates.append(location)\n",
    "\n",
    "center_lat = (MAX_LAT + MIN_LAT) / 2\n",
    "center_lon = (MAX_LON + MIN_LON) / 2\n",
    "\n",
    "# Create a Folium map at the average location\n",
    "map = folium.Map(location=[center_lat, center_lon], zoom_start=14)\n",
    "\n",
    "# Add a HeatMap layer to the map\n",
    "HeatMap(coordinates, radius=17.5, blur=15).add_to(map)\n",
    "\n",
    "# Save the map to an HTML file\n",
    "map_path = os.path.join(\"output/rome\", \"rome_heatmap.html\")\n",
    "map.save(map_path)\n",
    "\n",
    "print(\"Heatmap saved to\", map_path)\n",
    " "
   ]
  }
 ],
 "metadata": {
  "kernelspec": {
   "display_name": "master_repo",
   "language": "python",
   "name": "python3"
  },
  "language_info": {
   "codemirror_mode": {
    "name": "ipython",
    "version": 3
   },
   "file_extension": ".py",
   "mimetype": "text/x-python",
   "name": "python",
   "nbconvert_exporter": "python",
   "pygments_lexer": "ipython3",
   "version": "3.13.0"
  }
 },
 "nbformat": 4,
 "nbformat_minor": 2
}
