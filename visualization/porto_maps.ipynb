{
 "cells": [
  {
   "cell_type": "markdown",
   "metadata": {},
   "source": [
    "# Notebook for visualizing trajectories in Porto"
   ]
  },
  {
   "cell_type": "markdown",
   "metadata": {},
   "source": [
    "## ALL TRAJECTORIES"
   ]
  },
  {
   "cell_type": "code",
   "execution_count": 1,
   "metadata": {},
   "outputs": [],
   "source": [
    "# Porto coordinates\n",
    "P_MAX_LON = -8.57\n",
    "P_MIN_LON = -8.66\n",
    "P_MAX_LAT = 41.19\n",
    "P_MIN_LAT = 41.14"
   ]
  },
  {
   "cell_type": "code",
   "execution_count": 2,
   "metadata": {},
   "outputs": [
    {
     "name": "stderr",
     "output_type": "stream",
     "text": [
      "Processing rows: 100%|██████████| 1710670/1710670 [11:53<00:00, 2398.30it/s]\n",
      "Plotting points: 100%|██████████| 834094/834094 [01:39<00:00, 8396.64it/s] \n"
     ]
    },
    {
     "name": "stdout",
     "output_type": "stream",
     "text": [
      "Number of plotted points: 834094\n",
      "Map saved to output/porto/porto_map.html\n"
     ]
    }
   ],
   "source": [
    "import pandas as pd\n",
    "import folium\n",
    "import os\n",
    "import ast\n",
    "from tqdm import tqdm  # Import tqdm for the progress bar\n",
    "\n",
    "# Define the input file path\n",
    "input_file = \"../dataset/porto/porto_raw.csv\"\n",
    "\n",
    "# Load the Porto dataset\n",
    "try:\n",
    "    # Read the polyline data from the CSV file\n",
    "    data = pd.read_csv(input_file)\n",
    "\n",
    "    # Prepare list to hold all coordinates\n",
    "    all_coords = []\n",
    "\n",
    "    # Iterate through each row and extract coordinates from the 'POLYLINE' column\n",
    "    # Adding tqdm to show the progress of reading the rows\n",
    "    for index, row in tqdm(data.iterrows(), total=data.shape[0], desc=\"Processing rows\"):\n",
    "        # Convert the polyline string to a list of coordinates\n",
    "        polyline = ast.literal_eval(row['POLYLINE'])\n",
    "        swapped_polyline = [(lat, lon) for lon, lat in polyline]\n",
    "        all_coords.extend(swapped_polyline)  # Add the coordinates to the list\n",
    "\n",
    "    # Create a map centered on Porto's coordinates\n",
    "    map = folium.Map(location=[(P_MAX_LAT + P_MIN_LAT) / 2, (P_MAX_LON + P_MIN_LON) / 2], zoom_start=10)\n",
    "\n",
    "    count = 0\n",
    "\n",
    "    # Use tqdm to display a progress bar during iteration over all_coords\n",
    "    for lat, lon in tqdm(all_coords[::100], total=len(all_coords[::100]), desc=\"Plotting points\"):\n",
    "        folium.CircleMarker([lat, lon], radius=1, weight=1).add_to(map)\n",
    "        count += 1\n",
    "\n",
    "    # Define the output file path\n",
    "    output_file_path = os.path.join(\"output/porto\", \"porto_map_dotted_all_cordinates.html\")\n",
    "\n",
    "    # Create the output directory if it doesn't exist\n",
    "    os.makedirs(os.path.dirname(output_file_path), exist_ok=True)\n",
    "\n",
    "    # Save the map\n",
    "    map.save(output_file_path)\n",
    "\n",
    "    print(f\"Number of plotted points: {count}\")\n",
    "    print(f\"Map saved to {output_file_path}\")\n",
    "\n",
    "except Exception as e:\n",
    "    print(f\"Error: {e}\")\n"
   ]
  },
  {
   "cell_type": "markdown",
   "metadata": {},
   "source": [
    "### Map with polylines trajectories"
   ]
  },
  {
   "cell_type": "code",
   "execution_count": 3,
   "metadata": {},
   "outputs": [
    {
     "name": "stderr",
     "output_type": "stream",
     "text": [
      "Processing trajectories: 100%|██████████| 3000/3000 [00:00<00:00, 10600.92it/s]\n"
     ]
    },
    {
     "name": "stdout",
     "output_type": "stream",
     "text": [
      "Map saved to output/porto/porto_map_lined_trajectories.html\n"
     ]
    }
   ],
   "source": [
    "import folium\n",
    "import os\n",
    "import glob\n",
    "from tqdm import tqdm\n",
    "\n",
    "\n",
    "# Define the input directory path\n",
    "input_dir = '/Users/thomasnitsche/Developer/skole/master/masteroppgave/dataset/porto/output/'\n",
    "\n",
    " # Create a map centered on Rome's approximate coordinates\n",
    "porto_center_lat = (P_MAX_LAT + P_MIN_LAT) / 2\n",
    "porto_center_lon = (P_MAX_LON + P_MIN_LON) / 2\n",
    "porto_map = folium.Map(location=[porto_center_lat, porto_center_lon], zoom_start=12)\n",
    "\n",
    "\n",
    "# Get all text files prefixed with R_\n",
    "txt_files = glob.glob(os.path.join(input_dir, \"P_*.txt\"))\n",
    "\n",
    "# Iterate through each file and extract coordinates\n",
    "for txt_file in tqdm(txt_files, total=len(txt_files), desc=\"Processing trajectories\"):\n",
    "    coordinates = []\n",
    "    with open(txt_file, 'r') as file:\n",
    "        for line in file:\n",
    "            line = line.strip()\n",
    "            if line:  # Check if the line is not empty\n",
    "                try:\n",
    "                    lat, lon = map(float, line.split(','))\n",
    "                    coordinates.append((lat, lon))\n",
    "                except ValueError as e:\n",
    "                    print(f\"Error parsing line: {line} - {e}\")\n",
    "    \n",
    "    # Add a polyline connecting all the points in the trajectory\n",
    "    if coordinates:\n",
    "        folium.PolyLine(locations=coordinates, color='blue').add_to(porto_map)\n",
    "\n",
    "# Define the output file path\n",
    "output_file_path = os.path.join(\"output/porto\", \"porto_map_lined_trajectories.html\")\n",
    "\n",
    "# Create the output directory if it doesn't exist\n",
    "os.makedirs(os.path.dirname(output_file_path), exist_ok=True)\n",
    "\n",
    "# Save the map\n",
    "porto_map.save(output_file_path)\n",
    "\n",
    "print(f\"Map saved to {output_file_path}\")"
   ]
  },
  {
   "cell_type": "markdown",
   "metadata": {},
   "source": [
    "## HEATMAP"
   ]
  },
  {
   "cell_type": "code",
   "execution_count": 4,
   "metadata": {},
   "outputs": [
    {
     "name": "stdout",
     "output_type": "stream",
     "text": [
      "Heatmap saved to output/porto/porto_heatmap_v1.html\n"
     ]
    }
   ],
   "source": [
    "import os\n",
    "import pandas as pd\n",
    "import folium  # Importing Folium\n",
    "from folium.plugins import HeatMap\n",
    "import ast\n",
    "# Reading the data\n",
    "input_file_path = os.path.join(\"../dataset/porto\", \"porto.csv\")\n",
    "df = pd.read_csv(input_file_path, usecols=[\"POLYLINE\"])\n",
    "\n",
    "all_coords = []\n",
    "\n",
    "# Iterate over each row in the DataFrame\n",
    "for index, row in df.iterrows():\n",
    "    # Convert the polyline string to a list of coordinates\n",
    "    polyline = ast.literal_eval(row['POLYLINE'])\n",
    "    swapped_polyline = [(lat, lon) for lon, lat in polyline]\n",
    "    all_coords.extend(swapped_polyline)\n",
    "    \n",
    "center_lat = (P_MAX_LAT + P_MIN_LAT) / 2\n",
    "center_lon = (P_MAX_LON + P_MIN_LON) / 2\n",
    "# Create a Folium map at the average location\n",
    "map = folium.Map(location=[center_lat, center_lon], zoom_start=14)\n",
    "\n",
    "# Add a HeatMap layer to the map\n",
    "HeatMap(all_coords, radius=16, blur=15).add_to(map)\n",
    "\n",
    "# Save the map to an HTML file\n",
    "map_path = os.path.join(\"output/porto\", \"porto_heatmap_v1.html\")\n",
    "map.save(map_path)\n",
    "\n",
    "print(\"Heatmap saved to\", map_path)"
   ]
  },
  {
   "cell_type": "code",
   "execution_count": 3,
   "metadata": {},
   "outputs": [
    {
     "name": "stdout",
     "output_type": "stream",
     "text": [
      "Heatmap saved to output/porto/porto_heatmap_v2.html\n"
     ]
    }
   ],
   "source": [
    "import folium\n",
    "import os\n",
    "import glob\n",
    "from folium.plugins import HeatMap\n",
    "\n",
    "# Define the input directory path\n",
    "input_dir = '/Users/thomasnitsche/Developer/skole/master/masteroppgave/dataset/porto/output/'\n",
    "\n",
    " # Create a map centered on Rome's approximate coordinates\n",
    "porto_center_lat = (P_MAX_LAT + P_MIN_LAT) / 2\n",
    "porto_center_lon = (P_MAX_LON + P_MIN_LON) / 2\n",
    "porto_map = folium.Map(location=[porto_center_lat, porto_center_lon], zoom_start=12)\n",
    "\n",
    "# Get all text files prefixed with R_\n",
    "txt_files = glob.glob(os.path.join(input_dir, \"P_*.txt\"))\n",
    "\n",
    "# Collect all coordinates for the heatmap\n",
    "heatmap_data = []\n",
    "\n",
    "# Iterate through each file and extract coordinates\n",
    "for txt_file in txt_files:\n",
    "    with open(txt_file, 'r') as file:\n",
    "        for line in file:\n",
    "            line = line.strip()\n",
    "            if line:  # Check if the line is not empty\n",
    "                try:\n",
    "                    lat, lon = map(float, line.split(','))\n",
    "                    heatmap_data.append([lat, lon])\n",
    "                except ValueError as e:\n",
    "                    print(f\"Error parsing line: {line} - {e}\")\n",
    "\n",
    "# Add a heatmap layer\n",
    "if heatmap_data:\n",
    "    HeatMap(heatmap_data, radius=16, blur=15).add_to(porto_map)\n",
    "\n",
    "# Define the output file path\n",
    "output_file_path = os.path.join(\"output/porto\", \"porto_heatmap_v2.html\")\n",
    "\n",
    "# Create the output directory if it doesn't exist\n",
    "os.makedirs(os.path.dirname(output_file_path), exist_ok=True)\n",
    "\n",
    "# Save the map\n",
    "porto_map.save(output_file_path)\n",
    "\n",
    "print(f\"Heatmap saved to {output_file_path}\")"
   ]
  },
  {
   "cell_type": "code",
   "execution_count": null,
   "metadata": {},
   "outputs": [],
   "source": []
  }
 ],
 "metadata": {
  "kernelspec": {
   "display_name": "master",
   "language": "python",
   "name": "python3"
  },
  "language_info": {
   "codemirror_mode": {
    "name": "ipython",
    "version": 3
   },
   "file_extension": ".py",
   "mimetype": "text/x-python",
   "name": "python",
   "nbconvert_exporter": "python",
   "pygments_lexer": "ipython3",
   "version": "3.13.0"
  }
 },
 "nbformat": 4,
 "nbformat_minor": 2
}
