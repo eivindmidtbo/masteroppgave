{
 "cells": [
  {
   "cell_type": "markdown",
   "metadata": {},
   "source": [
    "# Notebook for visualizing grids scheme on map"
   ]
  },
  {
   "cell_type": "code",
   "execution_count": 1,
   "metadata": {},
   "outputs": [
    {
     "name": "stdout",
     "output_type": "stream",
     "text": [
      "Project root found: /Users/thomasnitsche/Developer/skole/master/masteroppgave\n"
     ]
    }
   ],
   "source": [
    "import os\n",
    "import sys\n",
    "\n",
    "def find_project_root(target_folder=\"masteroppgave\"):\n",
    "    \"\"\"Find the absolute path of a folder (e.g., 'masteroppgave') by searching upward.\"\"\"\n",
    "    currentdir = os.path.abspath(\"__file__\")  # Get absolute script path\n",
    "    while True:\n",
    "        if os.path.basename(currentdir) == target_folder:\n",
    "            return currentdir  # Found the target folder\n",
    "        parentdir = os.path.dirname(currentdir)\n",
    "        if parentdir == currentdir:  # Stop at filesystem root\n",
    "            return None\n",
    "        currentdir = parentdir  # Move one level up\n",
    "\n",
    "# Find and append 'masteroppgave' to sys.path dynamically\n",
    "project_root = find_project_root(\"masteroppgave\")\n",
    "\n",
    "if project_root:\n",
    "    sys.path.append(project_root)\n",
    "    print(f\"Project root found: {project_root}\")\n",
    "else:\n",
    "    raise RuntimeError(\"Could not find 'masteroppgave' directory\")"
   ]
  },
  {
   "cell_type": "code",
   "execution_count": 2,
   "metadata": {},
   "outputs": [],
   "source": [
    "import folium\n",
    "from folium.plugins import FeatureGroupSubGroup\n",
    "import random\n",
    "from schemes.lsh_grid import GridLSH\n",
    "from constants import  *\n",
    "from utils.helpers import file_handler\n",
    "import pprint"
   ]
  },
  {
   "cell_type": "markdown",
   "metadata": {},
   "source": [
    "## Rome"
   ]
  },
  {
   "cell_type": "code",
   "execution_count": 3,
   "metadata": {},
   "outputs": [],
   "source": [
    "ROME_DATA_FOLDER = \"../dataset/rome/output/\""
   ]
  },
  {
   "cell_type": "markdown",
   "metadata": {},
   "source": [
    "### Define Grid"
   ]
  },
  {
   "cell_type": "code",
   "execution_count": 4,
   "metadata": {},
   "outputs": [
    {
     "name": "stdout",
     "output_type": "stream",
     "text": [
      "Grid: G1\n",
      "Covering: (5.559754011676299, 7.451072531046803) km \n",
      "Resolution: 0.2 km \n",
      "Distortion: [0.09593547637340981, 0.13654836151517602] km \n",
      "Dimensions: (27, 37) cells\n"
     ]
    }
   ],
   "source": [
    "Grid = GridLSH(\n",
    "        \"G1\",\n",
    "        min_lat=R_MIN_LAT,\n",
    "        max_lat=R_MAX_LAT,\n",
    "        min_lon=R_MIN_LON,\n",
    "        max_lon=R_MAX_LON,\n",
    "        resolution=0.2,\n",
    "        layers=2,\n",
    "        meta_file=\"meta.txt\",\n",
    "        data_path=\"/data\",\n",
    "    )\n",
    "print(Grid)"
   ]
  },
  {
   "cell_type": "markdown",
   "metadata": {},
   "source": [
    "### Visualize Grid on map"
   ]
  },
  {
   "cell_type": "code",
   "execution_count": 5,
   "metadata": {},
   "outputs": [],
   "source": [
    "import folium\n",
    "from folium.plugins import FeatureGroupSubGroup\n",
    "\n",
    "def visualize_grid_with_boundary(grid_lsh):\n",
    "    \"\"\"\n",
    "    Visualizes the grid of the GridLSH object using folium and adds a bounding box.\n",
    "    \n",
    "    Parameters:\n",
    "    - grid_lsh (GridLSH): An instance of the GridLSH class.\n",
    "    \n",
    "    Returns:\n",
    "    - A folium map object.\n",
    "    \"\"\"\n",
    "    \n",
    "    # Define center of the map (average lat/lon)\n",
    "    center_lat = (grid_lsh.min_lat + grid_lsh.max_lat) / 2\n",
    "    center_lon = (grid_lsh.min_lon + grid_lsh.max_lon) / 2\n",
    "\n",
    "    # Initialize folium map\n",
    "    map_grid = folium.Map(location=[center_lat, center_lon], zoom_start=12, tiles=\"OpenStreetMap\")\n",
    "\n",
    "    # Define colors for different layers\n",
    "    layer_colors = [\"red\", \"blue\", \"green\", \"purple\", \"orange\"]\n",
    "\n",
    "    # Create a base layer group\n",
    "    base_layer = folium.FeatureGroup(name=\"Base Map\").add_to(map_grid)\n",
    "\n",
    "    # Add bounding box (dataset boundary)\n",
    "    folium.Rectangle(\n",
    "        bounds=[(grid_lsh.min_lat, grid_lsh.min_lon), (grid_lsh.max_lat, grid_lsh.max_lon)],\n",
    "        color=\"black\",\n",
    "        weight=2,\n",
    "        fill=True,\n",
    "        fill_opacity=0.1,\n",
    "        popup=\"Bounding Box\"\n",
    "    ).add_to(base_layer)\n",
    "\n",
    "    # Iterate over each layer in the grid\n",
    "    for layer_index, (layer, grid_points) in enumerate(grid_lsh.grid.items()):\n",
    "        color = layer_colors[layer_index % len(layer_colors)]  # Cycle colors\n",
    "\n",
    "        # Create a subgroup for each layer\n",
    "        layer_group = FeatureGroupSubGroup(base_layer, name=f\"Layer {layer_index + 1}\")\n",
    "        map_grid.add_child(layer_group)\n",
    "\n",
    "        latitudes, longitudes = grid_points  # Unpack grid points\n",
    "\n",
    "        # Draw grid cells as rectangles\n",
    "        for i in range(len(latitudes) - 1):\n",
    "            for j in range(len(longitudes) - 1):\n",
    "                # Define corners of each cell\n",
    "                top_left = (latitudes[i], longitudes[j])\n",
    "                bottom_right = (latitudes[i + 1], longitudes[j + 1])\n",
    "\n",
    "                folium.Rectangle(\n",
    "                    bounds=[top_left, bottom_right],\n",
    "                    color=color,\n",
    "                    fill=True,\n",
    "                    fill_opacity=0.3,\n",
    "                    popup=f\"Layer {layer_index + 1}\\nCell: ({i}, {j})\",\n",
    "                ).add_to(layer_group)\n",
    "\n",
    "    # Add layer control to toggle between layers\n",
    "    folium.LayerControl(collapsed=False).add_to(map_grid)\n",
    "\n",
    "    return map_grid\n",
    "\n",
    "# Example usage\n",
    "grid_map = visualize_grid_with_boundary(Grid)\n",
    "grid_map.save(\"output/rome/rome_grid_visualization.html\")\n"
   ]
  },
  {
   "cell_type": "markdown",
   "metadata": {},
   "source": [
    "### Add trajectory"
   ]
  },
  {
   "cell_type": "code",
   "execution_count": 6,
   "metadata": {},
   "outputs": [
    {
     "name": "stdout",
     "output_type": "stream",
     "text": [
      "../dataset/rome/output/\n"
     ]
    }
   ],
   "source": [
    "# trajs_1 = file_handler.load_all_trajectory_files(ROME_DATA_FOLDER, \"R\")\n",
    "trajs_2 = file_handler.load_trajectory_files([\"R_ABA.txt\"], ROME_DATA_FOLDER) ## Reads a list of trajectory files, return a dictionary with the filename as key and coordinates as values\n"
   ]
  },
  {
   "cell_type": "markdown",
   "metadata": {},
   "source": [
    "### Hash trajectory"
   ]
  },
  {
   "cell_type": "code",
   "execution_count": 7,
   "metadata": {},
   "outputs": [
    {
     "name": "stdout",
     "output_type": "stream",
     "text": [
      "[[[41.91704248264849, 12.491831505459803], [41.9188512261144, 12.491831505459803], [41.91704248264849, 12.491831505459803], [41.91704248264849, 12.49424455406097], [41.9188512261144, 12.49424455406097], [41.92065996958031, 12.491831505459803], [41.9188512261144, 12.491831505459803], [41.92065996958031, 12.491831505459803], [41.92065996958031, 12.49424455406097], [41.9188512261144, 12.49424455406097], [41.91704248264849, 12.49424455406097], [41.91704248264849, 12.496657602662134], [41.91704248264849, 12.49424455406097], [41.915233739182575, 12.49424455406097], [41.91342499571666, 12.49424455406097], [41.911616252250745, 12.491831505459803], [41.90980750878483, 12.491831505459803], [41.90980750878483, 12.489418456858637], [41.907998765318915, 12.489418456858637], [41.906190021853, 12.489418456858637], [41.906190021853, 12.491831505459803], [41.904381278387085, 12.491831505459803], [41.904381278387085, 12.49424455406097], [41.90257253492118, 12.491831505459803], [41.90076379145526, 12.489418456858637], [41.90076379145526, 12.487005408257472]], [[41.91740977410165, 12.492321509788207], [41.91740977410165, 12.494734558389373], [41.91921851756756, 12.492321509788207], [41.92102726103347, 12.492321509788207], [41.91740977410165, 12.492321509788207], [41.92102726103347, 12.492321509788207], [41.92102726103347, 12.494734558389373], [41.91921851756756, 12.494734558389373], [41.91740977410165, 12.494734558389373], [41.91740977410165, 12.497147606990538], [41.91740977410165, 12.494734558389373], [41.915601030635735, 12.494734558389373], [41.91740977410165, 12.494734558389373], [41.915601030635735, 12.494734558389373], [41.91379228716982, 12.494734558389373], [41.91379228716982, 12.492321509788207], [41.911983543703904, 12.492321509788207], [41.91017480023799, 12.492321509788207], [41.91017480023799, 12.48990846118704], [41.91017480023799, 12.487495412585876], [41.908366056772074, 12.48990846118704], [41.90655731330616, 12.48990846118704], [41.904748569840244, 12.492321509788207], [41.904748569840244, 12.494734558389373], [41.902939826374336, 12.492321509788207], [41.90113108290842, 12.48990846118704], [41.899322339442506, 12.487495412585876]]]\n"
     ]
    }
   ],
   "source": [
    "hash_ = Grid._create_trajectory_hash(trajs_2[\"R_ABA\"])\n",
    "\n",
    "print(hash_)"
   ]
  },
  {
   "cell_type": "markdown",
   "metadata": {},
   "source": [
    "### Visualize Grid, original trajectory and hashed trajectory on map"
   ]
  },
  {
   "cell_type": "code",
   "execution_count": 8,
   "metadata": {},
   "outputs": [],
   "source": [
    "import folium\n",
    "from folium.plugins import FeatureGroupSubGroup\n",
    "\n",
    "def visualize_grid_with_trajectory(grid_lsh, trajectory, hashed_trajectory):\n",
    "    \"\"\"\n",
    "    Visualizes the grid of the GridLSH object using Folium and adds a single trajectory.\n",
    "\n",
    "    Parameters:\n",
    "    - grid_lsh (GridLSH): An instance of the GridLSH class.\n",
    "    - trajectory (list): List of (lat, lon) coordinates representing a single trajectory.\n",
    "    - hashed_trajectory (list of lists): Hashed trajectory representation per layer.\n",
    "\n",
    "    Returns:\n",
    "    - A Folium map object.\n",
    "    \"\"\"\n",
    "\n",
    "    # Define center of the map (average lat/lon)\n",
    "    center_lat = (grid_lsh.min_lat + grid_lsh.max_lat) / 2\n",
    "    center_lon = (grid_lsh.min_lon + grid_lsh.max_lon) / 2\n",
    "\n",
    "    # Initialize folium map\n",
    "    map_grid = folium.Map(location=[center_lat, center_lon], zoom_start=12, tiles=\"OpenStreetMap\")\n",
    "\n",
    "    # Define colors for different grid layers\n",
    "    layer_colors = [\"red\", \"blue\", \"green\", \"purple\", \"orange\"]\n",
    "\n",
    "    # Create a base layer group\n",
    "    base_layer = folium.FeatureGroup(name=\"Base Map\").add_to(map_grid)\n",
    "\n",
    "    # Add bounding box (dataset boundary)\n",
    "    folium.Rectangle(\n",
    "        bounds=[(grid_lsh.min_lat, grid_lsh.min_lon), (grid_lsh.max_lat, grid_lsh.max_lon)],\n",
    "        color=\"black\",\n",
    "        weight=2,\n",
    "        fill=True,\n",
    "        fill_opacity=0.1,\n",
    "        popup=\"Bounding Box\"\n",
    "    ).add_to(base_layer)\n",
    "\n",
    "    # Iterate over each layer in the grid\n",
    "    for layer_index, (layer, grid_points) in enumerate(grid_lsh.grid.items()):\n",
    "        color = layer_colors[layer_index % len(layer_colors)]  # Cycle colors\n",
    "\n",
    "        # Create a subgroup for each grid layer\n",
    "        grid_layer = FeatureGroupSubGroup(base_layer, name=f\"Grid Layer {layer_index + 1}\")\n",
    "        map_grid.add_child(grid_layer)\n",
    "\n",
    "        latitudes, longitudes = grid_points  # Unpack grid points\n",
    "\n",
    "        # Draw grid cells as rectangles\n",
    "        for i in range(len(latitudes) - 1):\n",
    "            for j in range(len(longitudes) - 1):\n",
    "                # Define corners of each cell\n",
    "                top_left = (latitudes[i], longitudes[j])\n",
    "                bottom_right = (latitudes[i + 1], longitudes[j + 1])\n",
    "\n",
    "                folium.Rectangle(\n",
    "                    bounds=[top_left, bottom_right],\n",
    "                    color=color,\n",
    "                    fill=True,\n",
    "                    fill_opacity=0.3,\n",
    "                    popup=f\"Layer {layer_index + 1}\\nCell: ({i}, {j})\",\n",
    "                ).add_to(grid_layer)\n",
    "\n",
    "    # Plot the original trajectory as a blue polyline\n",
    "    folium.PolyLine(\n",
    "        trajectory,\n",
    "        color=\"blue\",\n",
    "        weight=2.5,\n",
    "        opacity=1,\n",
    "        popup=\"Trajectory Path\"\n",
    "    ).add_to(base_layer)\n",
    "\n",
    "    # Add markers for each point along the original trajectory\n",
    "    for lat, lon in trajectory:\n",
    "        folium.CircleMarker(\n",
    "            location=(lat, lon),\n",
    "            radius=3,  # Small marker\n",
    "            color=\"black\",\n",
    "            fill=True,\n",
    "            fill_opacity=1,\n",
    "            popup=f\"Point: ({lat:.5f}, {lon:.5f})\"\n",
    "        ).add_to(base_layer)\n",
    "        \n",
    "    # Plot hashed trajectory points as markers with circles (in the same FeatureGroupSubGroup)\n",
    "    hashed_layer_colors = [\"red\", \"blue\", \"green\", \"purple\", \"orange\"]  # Colors for different layers\n",
    "\n",
    "    for layer_index, layer_points in enumerate(hashed_trajectory):\n",
    "        layer_color = hashed_layer_colors[layer_index % len(hashed_layer_colors)]  # Assign color per layer\n",
    "\n",
    "        # Create a single FeatureGroupSubGroup for both circles and markers\n",
    "        hashed_layer = FeatureGroupSubGroup(base_layer, name=f\"Hashed Points Layer {layer_index + 1}\")\n",
    "        map_grid.add_child(hashed_layer)\n",
    "\n",
    "        for lat, lon in layer_points:\n",
    "            # Add a small circle around the hashed point\n",
    "            folium.Circle(\n",
    "                location=(lat, lon),\n",
    "                radius=20,  # Medium-sized circle\n",
    "                color=layer_color,\n",
    "                fill=True,\n",
    "                fill_opacity=0.4,\n",
    "                popup=f\"Layer {layer_index + 1} Hashed Point\"\n",
    "            ).add_to(hashed_layer)\n",
    "\n",
    "            # Add a marker on top of the hashed point\n",
    "            folium.Marker(\n",
    "                location=(lat, lon),\n",
    "                icon=folium.Icon(color=layer_color, icon=\"info-sign\"),\n",
    "                popup=f\"Hashed Point ({lat:.5f}, {lon:.5f}) - Layer {layer_index + 1}\"\n",
    "            ).add_to(hashed_layer)\n",
    "\n",
    "    # Add layer control to toggle between layers\n",
    "    folium.LayerControl(collapsed=False).add_to(map_grid)\n",
    "\n",
    "    return map_grid\n",
    "\n",
    "# Generate the map with filtering options\n",
    "grid_map = visualize_grid_with_trajectory(Grid, trajs_2[\"R_ABA\"], hash_)\n",
    "\n",
    "# Save the map\n",
    "grid_map.save(\"output/rome/rome_grid_with_hashed_trajectory.html\")"
   ]
  },
  {
   "cell_type": "markdown",
   "metadata": {},
   "source": [
    "## Porto"
   ]
  },
  {
   "cell_type": "code",
   "execution_count": 9,
   "metadata": {},
   "outputs": [],
   "source": [
    "PORTO_DATA_FOLDER = \"../dataset/porto/output/\""
   ]
  },
  {
   "cell_type": "markdown",
   "metadata": {},
   "source": [
    "### Define grid"
   ]
  },
  {
   "cell_type": "code",
   "execution_count": 10,
   "metadata": {},
   "outputs": [
    {
     "name": "stdout",
     "output_type": "stream",
     "text": [
      "Grid: G1\n",
      "Covering: (5.559754011677007, 7.536733782089804) km \n",
      "Resolution: 0.2 km \n",
      "Distortion: [0.06120570325264674, 0.07243629228034575] km \n",
      "Dimensions: (27, 37) cells\n"
     ]
    }
   ],
   "source": [
    "Grid = GridLSH(\n",
    "        \"G1\",\n",
    "        min_lat=P_MIN_LAT,\n",
    "        max_lat=P_MAX_LAT,\n",
    "        min_lon=P_MIN_LON,\n",
    "        max_lon=P_MAX_LON,\n",
    "        resolution=0.2,\n",
    "        layers=2,\n",
    "        meta_file=\"meta.txt\",\n",
    "        data_path=\"/data\",\n",
    "    )\n",
    "print(Grid)"
   ]
  },
  {
   "cell_type": "markdown",
   "metadata": {},
   "source": [
    "### Visualize Grid on map"
   ]
  },
  {
   "cell_type": "code",
   "execution_count": 11,
   "metadata": {},
   "outputs": [],
   "source": [
    "import folium\n",
    "from folium.plugins import FeatureGroupSubGroup\n",
    "\n",
    "def visualize_grid_with_boundary(grid_lsh):\n",
    "    \"\"\"\n",
    "    Visualizes the grid of the GridLSH object using folium and adds a bounding box.\n",
    "    \n",
    "    Parameters:\n",
    "    - grid_lsh (GridLSH): An instance of the GridLSH class.\n",
    "    \n",
    "    Returns:\n",
    "    - A folium map object.\n",
    "    \"\"\"\n",
    "    \n",
    "    # Define center of the map (average lat/lon)\n",
    "    center_lat = (grid_lsh.min_lat + grid_lsh.max_lat) / 2\n",
    "    center_lon = (grid_lsh.min_lon + grid_lsh.max_lon) / 2\n",
    "\n",
    "    # Initialize folium map\n",
    "    map_grid = folium.Map(location=[center_lat, center_lon], zoom_start=12, tiles=\"OpenStreetMap\")\n",
    "\n",
    "    # Define colors for different layers\n",
    "    layer_colors = [\"red\", \"blue\", \"green\", \"purple\", \"orange\"]\n",
    "\n",
    "    # Create a base layer group\n",
    "    base_layer = folium.FeatureGroup(name=\"Base Map\").add_to(map_grid)\n",
    "\n",
    "    # Add bounding box (dataset boundary)\n",
    "    folium.Rectangle(\n",
    "        bounds=[(grid_lsh.min_lat, grid_lsh.min_lon), (grid_lsh.max_lat, grid_lsh.max_lon)],\n",
    "        color=\"black\",\n",
    "        weight=2,\n",
    "        fill=True,\n",
    "        fill_opacity=0.1,\n",
    "        popup=\"Bounding Box\"\n",
    "    ).add_to(base_layer)\n",
    "\n",
    "    # Iterate over each layer in the grid\n",
    "    for layer_index, (layer, grid_points) in enumerate(grid_lsh.grid.items()):\n",
    "        color = layer_colors[layer_index % len(layer_colors)]  # Cycle colors\n",
    "\n",
    "        # Create a subgroup for each layer\n",
    "        layer_group = FeatureGroupSubGroup(base_layer, name=f\"Layer {layer_index + 1}\")\n",
    "        map_grid.add_child(layer_group)\n",
    "\n",
    "        latitudes, longitudes = grid_points  # Unpack grid points\n",
    "\n",
    "        # Draw grid cells as rectangles\n",
    "        for i in range(len(latitudes) - 1):\n",
    "            for j in range(len(longitudes) - 1):\n",
    "                # Define corners of each cell\n",
    "                top_left = (latitudes[i], longitudes[j])\n",
    "                bottom_right = (latitudes[i + 1], longitudes[j + 1])\n",
    "\n",
    "                folium.Rectangle(\n",
    "                    bounds=[top_left, bottom_right],\n",
    "                    color=color,\n",
    "                    fill=True,\n",
    "                    fill_opacity=0.3,\n",
    "                    popup=f\"Layer {layer_index + 1}\\nCell: ({i}, {j})\",\n",
    "                ).add_to(layer_group)\n",
    "\n",
    "    # Add layer control to toggle between layers\n",
    "    folium.LayerControl(collapsed=False).add_to(map_grid)\n",
    "\n",
    "    return map_grid\n",
    "\n",
    "# Example usage\n",
    "grid_map = visualize_grid_with_boundary(Grid)\n",
    "grid_map.save(\"output/porto/porto_grid_visualization.html\")\n"
   ]
  },
  {
   "cell_type": "markdown",
   "metadata": {},
   "source": [
    "### Add trajectory"
   ]
  },
  {
   "cell_type": "code",
   "execution_count": 12,
   "metadata": {},
   "outputs": [
    {
     "name": "stdout",
     "output_type": "stream",
     "text": [
      "../dataset/porto/output/\n"
     ]
    }
   ],
   "source": [
    "# trajs_1 = file_handler.load_all_trajectory_files(ROME_DATA_FOLDER, \"R\")\n",
    "trajs_2 = file_handler.load_trajectory_files([\"P_ABA.txt\"], PORTO_DATA_FOLDER) ## Reads a list of trajectory files, return a dictionary with the filename as key and coordinates as values"
   ]
  },
  {
   "cell_type": "markdown",
   "metadata": {},
   "source": [
    "### Hash trajectory"
   ]
  },
  {
   "cell_type": "code",
   "execution_count": 13,
   "metadata": {},
   "outputs": [
    {
     "name": "stdout",
     "output_type": "stream",
     "text": [
      "[[[41.15502347480649, -8.613943107867131], [41.153214731340576, -8.613943107867131], [41.153214731340576, -8.611557485568166], [41.153214731340576, -8.6091718632692], [41.15140598787466, -8.6091718632692], [41.15140598787466, -8.611557485568166], [41.149597244408746, -8.611557485568166], [41.149597244408746, -8.6091718632692], [41.14778850094284, -8.6091718632692], [41.14778850094284, -8.606786240970234], [41.14778850094284, -8.604400618671269], [41.14597975747692, -8.604400618671269], [41.14417101401101, -8.604400618671269], [41.14417101401101, -8.606786240970234]], [[41.1551250410791, -8.613809148149057], [41.15331629761319, -8.613809148149057], [41.15331629761319, -8.611423525850093], [41.15331629761319, -8.609037903551126], [41.15331629761319, -8.611423525850093], [41.15331629761319, -8.609037903551126], [41.15150755414727, -8.609037903551126], [41.15150755414727, -8.611423525850093], [41.14969881068136, -8.611423525850093], [41.14969881068136, -8.609037903551126], [41.14789006721545, -8.609037903551126], [41.14789006721545, -8.60665228125216], [41.14789006721545, -8.604266658953195], [41.146081323749534, -8.604266658953195], [41.14427258028362, -8.604266658953195], [41.14427258028362, -8.60665228125216]]]\n"
     ]
    }
   ],
   "source": [
    "hash_ = Grid._create_trajectory_hash(trajs_2[\"P_ABA\"])\n",
    "\n",
    "print(hash_)"
   ]
  },
  {
   "cell_type": "markdown",
   "metadata": {},
   "source": [
    "### Visualize Grid, original trajectory and hashed trajectory on map"
   ]
  },
  {
   "cell_type": "code",
   "execution_count": 14,
   "metadata": {},
   "outputs": [],
   "source": [
    "import folium\n",
    "from folium.plugins import FeatureGroupSubGroup\n",
    "\n",
    "def visualize_grid_with_trajectory(grid_lsh, trajectory, hashed_trajectory):\n",
    "    \"\"\"\n",
    "    Visualizes the grid of the GridLSH object using Folium and adds a single trajectory.\n",
    "\n",
    "    Parameters:\n",
    "    - grid_lsh (GridLSH): An instance of the GridLSH class.\n",
    "    - trajectory (list): List of (lat, lon) coordinates representing a single trajectory.\n",
    "    - hashed_trajectory (list of lists): Hashed trajectory representation per layer.\n",
    "\n",
    "    Returns:\n",
    "    - A Folium map object.\n",
    "    \"\"\"\n",
    "\n",
    "    # Define center of the map (average lat/lon)\n",
    "    center_lat = (grid_lsh.min_lat + grid_lsh.max_lat) / 2\n",
    "    center_lon = (grid_lsh.min_lon + grid_lsh.max_lon) / 2\n",
    "\n",
    "    # Initialize folium map\n",
    "    map_grid = folium.Map(location=[center_lat, center_lon], zoom_start=12, tiles=\"OpenStreetMap\")\n",
    "\n",
    "    # Define colors for different grid layers\n",
    "    layer_colors = [\"red\", \"blue\", \"green\", \"purple\", \"orange\"]\n",
    "\n",
    "    # Create a base layer group\n",
    "    base_layer = folium.FeatureGroup(name=\"Base Map\").add_to(map_grid)\n",
    "\n",
    "    # Add bounding box (dataset boundary)\n",
    "    folium.Rectangle(\n",
    "        bounds=[(grid_lsh.min_lat, grid_lsh.min_lon), (grid_lsh.max_lat, grid_lsh.max_lon)],\n",
    "        color=\"black\",\n",
    "        weight=2,\n",
    "        fill=True,\n",
    "        fill_opacity=0.1,\n",
    "        popup=\"Bounding Box\"\n",
    "    ).add_to(base_layer)\n",
    "\n",
    "    # Iterate over each layer in the grid\n",
    "    for layer_index, (layer, grid_points) in enumerate(grid_lsh.grid.items()):\n",
    "        color = layer_colors[layer_index % len(layer_colors)]  # Cycle colors\n",
    "\n",
    "        # Create a subgroup for each grid layer\n",
    "        grid_layer = FeatureGroupSubGroup(base_layer, name=f\"Grid Layer {layer_index + 1}\")\n",
    "        map_grid.add_child(grid_layer)\n",
    "\n",
    "        latitudes, longitudes = grid_points  # Unpack grid points\n",
    "\n",
    "        # Draw grid cells as rectangles\n",
    "        for i in range(len(latitudes) - 1):\n",
    "            for j in range(len(longitudes) - 1):\n",
    "                # Define corners of each cell\n",
    "                top_left = (latitudes[i], longitudes[j])\n",
    "                bottom_right = (latitudes[i + 1], longitudes[j + 1])\n",
    "\n",
    "                folium.Rectangle(\n",
    "                    bounds=[top_left, bottom_right],\n",
    "                    color=color,\n",
    "                    fill=True,\n",
    "                    fill_opacity=0.3,\n",
    "                    popup=f\"Layer {layer_index + 1}\\nCell: ({i}, {j})\",\n",
    "                ).add_to(grid_layer)\n",
    "\n",
    "    # Plot the original trajectory as a blue polyline\n",
    "    folium.PolyLine(\n",
    "        trajectory,\n",
    "        color=\"blue\",\n",
    "        weight=2.5,\n",
    "        opacity=1,\n",
    "        popup=\"Trajectory Path\"\n",
    "    ).add_to(base_layer)\n",
    "\n",
    "    # Add markers for each point along the original trajectory\n",
    "    for lat, lon in trajectory:\n",
    "        folium.CircleMarker(\n",
    "            location=(lat, lon),\n",
    "            radius=3,  # Small marker\n",
    "            color=\"black\",\n",
    "            fill=True,\n",
    "            fill_opacity=1,\n",
    "            popup=f\"Point: ({lat:.5f}, {lon:.5f})\"\n",
    "        ).add_to(base_layer)\n",
    "        \n",
    "    # Plot hashed trajectory points as markers with circles (in the same FeatureGroupSubGroup)\n",
    "    hashed_layer_colors = [\"red\", \"blue\", \"green\", \"purple\", \"orange\"]  # Colors for different layers\n",
    "\n",
    "    for layer_index, layer_points in enumerate(hashed_trajectory):\n",
    "        layer_color = hashed_layer_colors[layer_index % len(hashed_layer_colors)]  # Assign color per layer\n",
    "\n",
    "        # Create a single FeatureGroupSubGroup for both circles and markers\n",
    "        hashed_layer = FeatureGroupSubGroup(base_layer, name=f\"Hashed Points Layer {layer_index + 1}\")\n",
    "        map_grid.add_child(hashed_layer)\n",
    "\n",
    "        for lat, lon in layer_points:\n",
    "            # Add a small circle around the hashed point\n",
    "            folium.Circle(\n",
    "                location=(lat, lon),\n",
    "                radius=20,  # Medium-sized circle\n",
    "                color=layer_color,\n",
    "                fill=True,\n",
    "                fill_opacity=0.4,\n",
    "                popup=f\"Layer {layer_index + 1} Hashed Point\"\n",
    "            ).add_to(hashed_layer)\n",
    "\n",
    "            # Add a marker on top of the hashed point\n",
    "            folium.Marker(\n",
    "                location=(lat, lon),\n",
    "                icon=folium.Icon(color=layer_color, icon=\"info-sign\"),\n",
    "                popup=f\"Hashed Point ({lat:.5f}, {lon:.5f}) - Layer {layer_index + 1}\"\n",
    "            ).add_to(hashed_layer)\n",
    "\n",
    "    # Add layer control to toggle between layers\n",
    "    folium.LayerControl(collapsed=False).add_to(map_grid)\n",
    "\n",
    "    return map_grid\n",
    "\n",
    "# Generate the map with filtering options\n",
    "grid_map = visualize_grid_with_trajectory(Grid, trajs_2[\"P_ABA\"], hash_)\n",
    "\n",
    "# Save the map\n",
    "grid_map.save(\"output/porto/porto_grid_with_hashed_trajectory.html\")"
   ]
  }
 ],
 "metadata": {
  "kernelspec": {
   "display_name": "master",
   "language": "python",
   "name": "python3"
  },
  "language_info": {
   "codemirror_mode": {
    "name": "ipython",
    "version": 3
   },
   "file_extension": ".py",
   "mimetype": "text/x-python",
   "name": "python",
   "nbconvert_exporter": "python",
   "pygments_lexer": "ipython3",
   "version": "3.13.0"
  }
 },
 "nbformat": 4,
 "nbformat_minor": 2
}
