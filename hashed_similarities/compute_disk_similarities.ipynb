{
 "cells": [
  {
   "cell_type": "markdown",
   "metadata": {},
   "source": [
    "# Generate disk-based hashed similarities\n"
   ]
  },
  {
   "cell_type": "code",
   "execution_count": 1,
   "metadata": {},
   "outputs": [],
   "source": [
    "from disk_similarity import generate_disk_hash_similarity\n",
    "\n",
    "import os"
   ]
  },
  {
   "cell_type": "markdown",
   "metadata": {},
   "source": [
    "# Rome\n"
   ]
  },
  {
   "cell_type": "markdown",
   "metadata": {},
   "source": [
    "### DTW\n"
   ]
  },
  {
   "cell_type": "code",
   "execution_count": 2,
   "metadata": {},
   "outputs": [
    {
     "name": "stdout",
     "output_type": "stream",
     "text": [
      "Length of sorted_trajectories 50\n",
      "Total disk/hash coordinates for R_ATG 11\n",
      "Total comparisons 6375\n",
      "Total skipped comparisons 1515\n"
     ]
    }
   ],
   "source": [
    "measure = \"dtw\"\n",
    "similarities = generate_disk_hash_similarity(\n",
    "    city=\"rome\", diameter=0.6, layers=5, disks=50, measure=measure, size=50\n",
    ")\n",
    "output_path = f\"similarity_values/disk/rome/disk_rome-{measure}.csv\"\n",
    "similarities.to_csv(os.path.abspath(output_path))"
   ]
  },
  {
   "cell_type": "markdown",
   "metadata": {},
   "source": [
    "### Frechet\n"
   ]
  },
  {
   "cell_type": "code",
   "execution_count": null,
   "metadata": {},
   "outputs": [],
   "source": [
    "measure = \"frechet\"\n",
    "similarities = generate_disk_hash_similarity(\n",
    "    city=\"rome\", diameter=1.6, layers=5, disks=100, measure=measure, size=50\n",
    ")\n",
    "output_path = f\"similarity_values/disk/rome/disk_rome-{measure}.csv\"\n",
    "similarities.to_csv(os.path.abspath(output_path))"
   ]
  },
  {
   "cell_type": "markdown",
   "metadata": {},
   "source": [
    "# Porto\n"
   ]
  },
  {
   "cell_type": "code",
   "execution_count": null,
   "metadata": {},
   "outputs": [],
   "source": [
    "measure = \"dtw\"\n",
    "similarities = generate_disk_hash_similarity(\n",
    "    \"porto\", diameter=2.2, layers=4, disks=60, measure=measure, size=50\n",
    ")\n",
    "output_path = f\"similarity_values/disk/porto/disk_porto-{measure}.csv\"\n",
    "similarities.to_csv(os.path.abspath(output_path))"
   ]
  }
 ],
 "metadata": {
  "kernelspec": {
   "display_name": "Python 3",
   "language": "python",
   "name": "python3"
  },
  "language_info": {
   "codemirror_mode": {
    "name": "ipython",
    "version": 3
   },
   "file_extension": ".py",
   "mimetype": "text/x-python",
   "name": "python",
   "nbconvert_exporter": "python",
   "pygments_lexer": "ipython3",
   "version": "3.11.7"
  }
 },
 "nbformat": 4,
 "nbformat_minor": 2
}
