{
 "cells": [
  {
   "cell_type": "code",
   "execution_count": 1,
   "metadata": {},
   "outputs": [],
   "source": [
    "from haversine import haversine, Unit\n",
    "import os, sys\n",
    "from math import sqrt, cos, pi"
   ]
  },
  {
   "cell_type": "code",
   "execution_count": 2,
   "metadata": {},
   "outputs": [],
   "source": [
    "KM_PER_DEGREE_LAT = 111  # Approximate km per degree of latitude\n",
    "def euclidean(from_location, to_location):\n",
    "    lat1, lon1 = from_location\n",
    "    lat2, lon2 = to_location\n",
    "\n",
    "    # Calculate km per degree of longitude based on average latitude\n",
    "    avg_lat = (lat1 + lat2) / 2\n",
    "    km_per_degree_lon = KM_PER_DEGREE_LAT * cos(avg_lat * pi / 180)  # converting degrees to radians\n",
    "\n",
    "    # Convert degree differences to kilometers\n",
    "    x = (lon2 - lon1) * km_per_degree_lon\n",
    "    y = (lat2 - lat1) * KM_PER_DEGREE_LAT\n",
    "    return sqrt(x**2 + y**2)"
   ]
  },
  {
   "cell_type": "code",
   "execution_count": 3,
   "metadata": {},
   "outputs": [],
   "source": [
    "# Helper function to compute distance between a list of coordinates (Trajectory distance)\n",
    "# Haversine distance used\n",
    "def calculate_trajectory_distance(positions: list[tuple[float]]) -> float:\n",
    "    \"\"\"\n",
    "    Calculate the trajectory distance for a trajectory\n",
    "\n",
    "    :param: List of coordinates (lat, lon)\n",
    "\n",
    "    :return: Float (km) -> Combined distance between all pairs of points in km\n",
    "    \"\"\"\n",
    "    distance = 0\n",
    "    for i in range(1, len(positions)):\n",
    "        from_location = positions[i - 1]\n",
    "        to_location = positions[i]\n",
    "\n",
    "        # distance += haversine(from_location, to_location, unit=Unit.KILOMETERS)\n",
    "        distance += euclidean(from_location, to_location)\n",
    "    return distance"
   ]
  },
  {
   "cell_type": "code",
   "execution_count": 4,
   "metadata": {},
   "outputs": [],
   "source": [
    "# Read files and calculate trajectory distances\n",
    "def process_trajectories(directory, prefix='K'):\n",
    "    distances = []\n",
    "    for filename in os.listdir(directory):\n",
    "        if filename.startswith(prefix):\n",
    "            filepath = os.path.join(directory, filename)\n",
    "            with open(filepath, 'r') as file:\n",
    "                coordinates = []\n",
    "                for line in file:\n",
    "                    parts = line.strip().split(',')\n",
    "                    if len(parts) == 2:\n",
    "                        lat, lon = float(parts[0]), float(parts[1])\n",
    "                        coordinates.append((lat, lon))\n",
    "                if coordinates:\n",
    "                    distances.append(calculate_trajectory_distance(coordinates))\n",
    "    if distances:\n",
    "        average_distance = sum(distances) / len(distances)\n",
    "    else:\n",
    "        average_distance = 0\n",
    "    return average_distance"
   ]
  },
  {
   "cell_type": "code",
   "execution_count": 7,
   "metadata": {},
   "outputs": [
    {
     "name": "stdout",
     "output_type": "stream",
     "text": [
      "The average trajectory distance is: 13.76 km\n"
     ]
    }
   ],
   "source": [
    "currentdir = os.path.dirname(os.path.abspath(\"__file__\"))\n",
    "parentdir = os.path.dirname(currentdir)\n",
    "sys.path.append(parentdir)\n",
    "from constants import ROME_OUTPUT_FOLDER,  PORTO_OUTPUT_FOLDER\n",
    "\n",
    "\n",
    "directory_path = f\"../{ROME_OUTPUT_FOLDER}\"\n",
    "average_distance = process_trajectories(directory_path, 'K')\n",
    "print(f\"The average trajectory distance is: {average_distance:.2f} km\")"
   ]
  }
 ],
 "metadata": {
  "kernelspec": {
   "display_name": "Python 3",
   "language": "python",
   "name": "python3"
  },
  "language_info": {
   "codemirror_mode": {
    "name": "ipython",
    "version": 3
   },
   "file_extension": ".py",
   "mimetype": "text/x-python",
   "name": "python",
   "nbconvert_exporter": "python",
   "pygments_lexer": "ipython3",
   "version": "3.11.6+"
  }
 },
 "nbformat": 4,
 "nbformat_minor": 2
}
