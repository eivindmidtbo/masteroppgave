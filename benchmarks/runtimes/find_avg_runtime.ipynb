{
 "cells": [
  {
   "cell_type": "code",
   "execution_count": 12,
   "metadata": {},
   "outputs": [
    {
     "name": "stdout",
     "output_type": "stream",
     "text": [
      "Average runtime for each dataset size:\n",
      "100: 0.11127908333333333\n",
      "200: 0.30892125\n",
      "300: 0.6077361666666666\n",
      "400: 1.1167999583333335\n",
      "500: 1.7223989166666667\n",
      "600: 2.415092583333333\n",
      "700: 3.20803025\n",
      "800: 4.174735291666667\n",
      "900: 5.346983375\n",
      "1000: 6.511444083333334\n"
     ]
    }
   ],
   "source": [
    "import pandas as pd\n",
    "\n",
    "\n",
    "# Replace 'your_file.csv' with the path to your actual CSV file\n",
    "csv_file_path = 'similarity_runtimes_true_dtw_cy_porto_start-100_end-1000_step-100.csv'\n",
    "# csv_file_path = 'similarity_runtimes_grid_dtw_cy_layers-4_res-1.8_rome_start-100_end-1000_step-100.csv'\n",
    "\n",
    "# Reading the CSV file\n",
    "df = pd.read_csv(csv_file_path, index_col=0)\n",
    "\n",
    "# Calculating the average for each column\n",
    "averages = df.mean()\n",
    "\n",
    "# Printing the average runtime for each dataset size\n",
    "print(\"Average runtime for each dataset size:\")\n",
    "for dataset_size, avg_runtime in averages.items():\n",
    "    print(f\"{dataset_size}: {avg_runtime}\")\n"
   ]
  }
 ],
 "metadata": {
  "kernelspec": {
   "display_name": "Python 3",
   "language": "python",
   "name": "python3"
  },
  "language_info": {
   "codemirror_mode": {
    "name": "ipython",
    "version": 3
   },
   "file_extension": ".py",
   "mimetype": "text/x-python",
   "name": "python",
   "nbconvert_exporter": "python",
   "pygments_lexer": "ipython3",
   "version": "3.11.6+"
  }
 },
 "nbformat": 4,
 "nbformat_minor": 2
}
