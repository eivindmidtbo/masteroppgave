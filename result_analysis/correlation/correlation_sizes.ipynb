{
 "cells": [
  {
   "cell_type": "markdown",
   "metadata": {},
   "source": [
    "# Correlation between hash schemes and true similarities with various datasizes\n"
   ]
  },
  {
   "cell_type": "code",
   "execution_count": 1,
   "metadata": {},
   "outputs": [],
   "source": [
    "# from correlation import compute_correlation_similarity\n",
    "from grid_resolution import plot_grid_sizes\n",
    "from disk_resolution import plot_disk_sizes"
   ]
  },
  {
   "cell_type": "markdown",
   "metadata": {},
   "source": [
    "## Grid\n"
   ]
  },
  {
   "cell_type": "markdown",
   "metadata": {},
   "source": [
    "#### DTW\n"
   ]
  },
  {
   "cell_type": "code",
   "execution_count": null,
   "metadata": {},
   "outputs": [],
   "source": [
    "plot_grid_sizes(\n",
    "    layer=2,\n",
    "    resolution=1.0,\n",
    "    measure=\"dtw\",\n",
    "    reference=\"dtw\",\n",
    "    sizes=[50, 100, 200, 300, 400, 500, 600, 700, 800, 900, 1000],\n",
    "    parallel_jobs=10,\n",
    ")"
   ]
  },
  {
   "cell_type": "markdown",
   "metadata": {},
   "source": [
    "#### Fréchet\n"
   ]
  },
  {
   "cell_type": "code",
   "execution_count": null,
   "metadata": {},
   "outputs": [],
   "source": [
    "plot_grid_sizes(\n",
    "    layer=2,\n",
    "    resolution=1.0,\n",
    "    measure=\"frechet\",\n",
    "    reference=\"dtw\",\n",
    "    sizes=[50, 100, 200],\n",
    "    parallel_jobs=10,\n",
    ")\n",
    "\n",
    "plot_grid_sizes(\n",
    "    layer=2,\n",
    "    resolution=1.0,\n",
    "    measure=\"frechet\",\n",
    "    reference=\"frechet\",\n",
    "    sizes=[50, 100, 200],\n",
    "    parallel_jobs=10,\n",
    ")"
   ]
  },
  {
   "cell_type": "markdown",
   "metadata": {},
   "source": [
    "## Disk\n"
   ]
  },
  {
   "cell_type": "markdown",
   "metadata": {},
   "source": [
    "#### DTW\n"
   ]
  },
  {
   "cell_type": "code",
   "execution_count": null,
   "metadata": {},
   "outputs": [],
   "source": [
    "plot_disk_sizes(\n",
    "    layer=4,\n",
    "    resolution=2.0,\n",
    "    number_of_disks=200,\n",
    "    sizes=[50, 100, 200, 300, 400, 500, 600, 700, 800, 900, 1000],\n",
    "    measure=\"dtw\",\n",
    "    reference=\"dtw\",\n",
    "    parallel_jobs=10,\n",
    ")"
   ]
  }
 ],
 "metadata": {
  "kernelspec": {
   "display_name": "master",
   "language": "python",
   "name": "python3"
  },
  "language_info": {
   "codemirror_mode": {
    "name": "ipython",
    "version": 3
   },
   "file_extension": ".py",
   "mimetype": "text/x-python",
   "name": "python",
   "nbconvert_exporter": "python",
   "pygments_lexer": "ipython3",
   "version": "3.13.0"
  }
 },
 "nbformat": 4,
 "nbformat_minor": 2
}
