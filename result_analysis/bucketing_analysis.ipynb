{
 "cells": [
  {
   "cell_type": "markdown",
   "metadata": {},
   "source": [
    "# Notebook for analysing the performance of bucketing"
   ]
  },
  {
   "cell_type": "code",
   "execution_count": null,
   "metadata": {},
   "outputs": [],
   "source": [
    "import os\n",
    "import sys\n",
    "\n",
    "def find_project_root(target_folder=\"masteroppgave\"):\n",
    "    \"\"\"Find the absolute path of a folder (e.g., 'masteroppgave') by searching upward.\"\"\"\n",
    "    currentdir = os.path.abspath(\"__file__\")  # Get absolute script path\n",
    "    while True:\n",
    "        if os.path.basename(currentdir) == target_folder:\n",
    "            return currentdir  # Found the target folder\n",
    "        parentdir = os.path.dirname(currentdir)\n",
    "        if parentdir == currentdir:  # Stop at filesystem root\n",
    "            return None\n",
    "        currentdir = parentdir  # Move one level up\n",
    "\n",
    "# Find and append 'masteroppgave' to sys.path dynamically\n",
    "project_root = find_project_root(\"masteroppgave\")\n",
    "\n",
    "if project_root:\n",
    "    sys.path.append(project_root)\n",
    "    print(f\"Project root found: {project_root}\")\n",
    "else:\n",
    "    raise RuntimeError(\"Could not find 'masteroppgave' directory\")\n",
    "\n",
    "\n",
    "import pandas as pd\n",
    "import json\n",
    "from utils.helpers.bucket_evaluation import *"
   ]
  },
  {
   "cell_type": "code",
   "execution_count": 2,
   "metadata": {},
   "outputs": [],
   "source": [
    "# HASHED_SIMILARITY_MATRIX = f\"../results_hashed/similarity_values/disk/rome/dtw/rome_disk_diameter_0.6_layers_5_disks_50_trajectories_50_dtw.csv\"\n",
    "\n",
    "BUCKET_SYSTEM = f\"../results_hashed/buckets/disk/rome/rome_disk_diameter_2_layers_5_disks_20_trajectories_50.json\"\n",
    "\n",
    "CITY = \"rome\"\n",
    "\n",
    "MEASURE = \"dtw\"\n",
    "\n",
    "NUMBER_OF_TRAJECTORIES = 50"
   ]
  },
  {
   "cell_type": "code",
   "execution_count": null,
   "metadata": {},
   "outputs": [],
   "source": [
    "# hashed_sim_matrix_df = pd.read_csv(HASHED_SIMILARITY_MATRIX, index_col=0)\n",
    "\n",
    "with open(BUCKET_SYSTEM, 'r') as file:\n",
    "    bucket_system = json.load(file)\n",
    "\n",
    "file_path = f\"../results_true/similarity_values/{CITY}/{MEASURE}/{CITY}-{MEASURE}-{NUMBER_OF_TRAJECTORIES}.csv\"\n",
    "\n",
    "# Read CSV, telling pandas to take the first column as the row labels:\n",
    "true_sim_matrix_df = pd.read_csv(file_path, index_col=0)\n",
    "\n",
    "# Function to convert values to float if possible\n",
    "def convert_to_float(value):\n",
    "    try:\n",
    "        return float(value)\n",
    "    except ValueError:\n",
    "        return value\n",
    "\n",
    "# Apply the function to each cell in the DataFrame\n",
    "true_sim_matrix_df = true_sim_matrix_df.map(convert_to_float)\n",
    "symmetric_true_sim_matrix_df = (true_sim_matrix_df + true_sim_matrix_df.T)\n",
    "\n",
    "\n",
    "# print(\"Hashed sim: \", hashed_sim_matrix_df.head())\n",
    "print(\"Bucket system: \", bucket_system)\n",
    "# print(\"Symmetric true sim: \", symmetric_true_sim_matrix_df.head())"
   ]
  },
  {
   "cell_type": "markdown",
   "metadata": {},
   "source": []
  },
  {
   "cell_type": "code",
   "execution_count": null,
   "metadata": {},
   "outputs": [],
   "source": [
    "pred = find_predicted_similar_trajectories(\"R_CAV\", bucket_system)\n",
    "print(pred)\n",
    "\n",
    "\n",
    "gt = get_nearest_neighbour_under_threshold(\"R_CAV\", 1, symmetric_true_sim_matrix_df)\n",
    "print(gt)"
   ]
  },
  {
   "cell_type": "markdown",
   "metadata": {},
   "source": [
    "## True Positives"
   ]
  },
  {
   "cell_type": "code",
   "execution_count": 4,
   "metadata": {},
   "outputs": [],
   "source": []
  },
  {
   "cell_type": "markdown",
   "metadata": {},
   "source": [
    "## False Positives"
   ]
  },
  {
   "cell_type": "code",
   "execution_count": null,
   "metadata": {},
   "outputs": [],
   "source": []
  },
  {
   "cell_type": "markdown",
   "metadata": {},
   "source": [
    "## True Negatives"
   ]
  },
  {
   "cell_type": "code",
   "execution_count": null,
   "metadata": {},
   "outputs": [],
   "source": []
  },
  {
   "cell_type": "markdown",
   "metadata": {},
   "source": [
    "## False Negatives"
   ]
  },
  {
   "cell_type": "code",
   "execution_count": null,
   "metadata": {},
   "outputs": [],
   "source": []
  },
  {
   "cell_type": "markdown",
   "metadata": {},
   "source": [
    "## Precision"
   ]
  },
  {
   "cell_type": "code",
   "execution_count": null,
   "metadata": {},
   "outputs": [],
   "source": []
  },
  {
   "cell_type": "markdown",
   "metadata": {},
   "source": [
    "## Recall"
   ]
  },
  {
   "cell_type": "code",
   "execution_count": null,
   "metadata": {},
   "outputs": [],
   "source": []
  },
  {
   "cell_type": "markdown",
   "metadata": {},
   "source": [
    "## F1 Score"
   ]
  },
  {
   "cell_type": "code",
   "execution_count": null,
   "metadata": {},
   "outputs": [],
   "source": []
  },
  {
   "cell_type": "markdown",
   "metadata": {},
   "source": [
    "## Candidate Set Size (Average Number of Trajectories Per Bucket)"
   ]
  },
  {
   "cell_type": "code",
   "execution_count": null,
   "metadata": {},
   "outputs": [],
   "source": []
  },
  {
   "cell_type": "markdown",
   "metadata": {},
   "source": [
    "## Average True similarity value per bucket"
   ]
  },
  {
   "cell_type": "markdown",
   "metadata": {},
   "source": []
  },
  {
   "cell_type": "markdown",
   "metadata": {},
   "source": [
    "## Bucket Size"
   ]
  },
  {
   "cell_type": "code",
   "execution_count": null,
   "metadata": {},
   "outputs": [],
   "source": []
  },
  {
   "cell_type": "markdown",
   "metadata": {},
   "source": [
    "## Number of Buckets with only one trajectory"
   ]
  },
  {
   "cell_type": "code",
   "execution_count": null,
   "metadata": {},
   "outputs": [],
   "source": []
  }
 ],
 "metadata": {
  "kernelspec": {
   "display_name": "master",
   "language": "python",
   "name": "python3"
  },
  "language_info": {
   "codemirror_mode": {
    "name": "ipython",
    "version": 3
   },
   "file_extension": ".py",
   "mimetype": "text/x-python",
   "name": "python",
   "nbconvert_exporter": "python",
   "pygments_lexer": "ipython3",
   "version": "3.13.0"
  }
 },
 "nbformat": 4,
 "nbformat_minor": 2
}
