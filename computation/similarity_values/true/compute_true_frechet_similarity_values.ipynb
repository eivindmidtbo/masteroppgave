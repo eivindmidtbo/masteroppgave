{
  "cells": [
    {
      "cell_type": "code",
      "execution_count": 1,
      "metadata": {},
      "outputs": [],
      "source": [
        "# Importing nescessary modules\n",
        "import os, sys\n",
        "import shutil\n",
        "\n",
        "currentdir = os.path.dirname(os.path.abspath(\"__file__\"))\n",
        "parentdir = os.path.dirname(currentdir)\n",
        "sys.path.append(parentdir)\n",
        "\n",
        "from utils.helpers import file_handler as fh\n",
        "from utils.helpers import metafile_handler as mfh\n",
        "from utils.similarity_measures import frechet"
      ]
    },
    {
      "cell_type": "code",
      "execution_count": 2,
      "metadata": {},
      "outputs": [],
      "source": [
        "NUMBER_OF_TRAJECTORIES = 50\n",
        "\n",
        "#Rome\n",
        "ROME_DATA_FOLDER  = \"/Users/thomasnitsche/Developer/skole/master/masteroppgave/dataset/rome/output\"\n",
        "ROME_DATA = f\"../{ROME_DATA_FOLDER}/META-{NUMBER_OF_TRAJECTORIES}.txt\"\n",
        "ROME_SIMILARITY_VALUES_RESULT_FOLDER = \"/Users/thomasnitsche/Developer/skole/master/masteroppgave/results_true/similarity_values/rome/frechet\"\n",
        "ROME_DTW_FILENAME =  f\"rome-frechet-{NUMBER_OF_TRAJECTORIES}.csv\"\n",
        "\n",
        "#Porto\n",
        "PORTO_DATA_FOLDER  = \"/Users/thomasnitsche/Developer/skole/master/masteroppgave/dataset/porto/output\"\n",
        "PORTO_DATA = f\"../{PORTO_DATA_FOLDER}/META-{NUMBER_OF_TRAJECTORIES}.txt\"\n",
        "PORTO_SIMILARITY_VALUES_RESULT_FOLDER = \"/Users/thomasnitsche/Developer/skole/master/masteroppgave/results_true/similarity_values/porto/frechet\"\n",
        "PORTO_DTW_FILENAME =  f\"porto-frechet-{NUMBER_OF_TRAJECTORIES}.csv\""
      ]
    },
    {
      "cell_type": "code",
      "execution_count": 3,
      "metadata": {},
      "outputs": [],
      "source": [
        "def deleteFile(file_name: str, folder_name: str) -> None:\n",
        "    file_path = os.path.join(folder_name, file_name)\n",
        "    try:\n",
        "        if os.path.isfile(file_path) or os.path.islink(file_path):\n",
        "            os.unlink(file_path)\n",
        "        elif os.path.isdir(file_path):\n",
        "            shutil.rmtree(file_path)\n",
        "    except Exception as e:\n",
        "        print(\"Failed to remove %s. Reason: %s\" % (file_path, e))"
      ]
    },
    {
      "cell_type": "code",
      "execution_count": 4,
      "metadata": {},
      "outputs": [],
      "source": [
        "# Using Cython Frechet, to speed things up\n",
        "\n",
        "\n",
        "# NOTE - Is not in use due to extensive computation time for non parallel version.\n",
        "def generate_frechet_similarities(\n",
        "    data_folder: str, meta_file: str, file_name: str, similarities_output_folder: str\n",
        "):\n",
        "    deleteFile(file_name, similarities_output_folder)\n",
        "\n",
        "    files = mfh.read_meta_file(meta_file)\n",
        "    trajectories = fh.load_trajectory_files(files, data_folder)\n",
        "\n",
        "    df = frechet.cy_frechet(trajectories)\n",
        "\n",
        "    df.to_csv(os.path.join(similarities_output_folder, file_name))\n",
        "\n",
        "\n",
        "def generate_parallell_frechet_similarities(\n",
        "    data_folder: str, meta_file: str, file_name: str, similarities_output_folder: str\n",
        "):\n",
        "    deleteFile(file_name, similarities_output_folder)\n",
        "\n",
        "    files = mfh.read_meta_file(meta_file)\n",
        "    trajectories = fh.load_trajectory_files(files, data_folder)\n",
        "\n",
        "    df = frechet.cy_frechet_pool(trajectories)\n",
        "    df.to_csv(os.path.join(similarities_output_folder, file_name))"
      ]
    },
    {
      "cell_type": "markdown",
      "metadata": {},
      "source": [
        "# Frechet similarities for Rome\n"
      ]
    },
    {
      "cell_type": "code",
      "execution_count": 5,
      "metadata": {},
      "outputs": [
        {
          "name": "stdout",
          "output_type": "stream",
          "text": [
            "Cy Pool Frechet: 0/100\n",
            "Cy Pool Frechet: 5/100\n",
            "Cy Pool Frechet: 10/100\n",
            "Cy Pool Frechet: 15/100\n",
            "Cy Pool Frechet: 20/100\n",
            "Cy Pool Frechet: 25/100\n",
            "Cy Pool Frechet: 30/100\n",
            "Cy Pool Frechet: 35/100\n",
            "Cy Pool Frechet: 40/100\n",
            "Cy Pool Frechet: 45/100\n",
            "Cy Pool Frechet: 50/100\n",
            "Cy Pool Frechet: 55/100\n",
            "Cy Pool Frechet: 60/100\n",
            "Cy Pool Frechet: 65/100\n",
            "Cy Pool Frechet: 70/100\n",
            "Cy Pool Frechet: 75/100\n",
            "Cy Pool Frechet: 80/100\n",
            "Cy Pool Frechet: 85/100\n",
            "Cy Pool Frechet: 90/100\n",
            "Cy Pool Frechet: 95/100\n"
          ]
        }
      ],
      "source": [
        "# Test set\n",
        "# generate_parallell_frechet_similarities(\n",
        "#     DATA_ROME,\n",
        "#     TEST_SET_ROME,\n",
        "#     FRECHET_FILENAME_TEST_ROME,\n",
        "#     SIMILARITIES_OUTPUT_FOLDER_ROME,\n",
        "# )\n",
        "\n",
        "# Full set\n",
        "generate_parallell_frechet_similarities(\n",
        "    DATA_ROME, FULL_SET_ROME, FRECHET_FILENAME_ROME, SIMILARITIES_OUTPUT_FOLDER_ROME\n",
        ")"
      ]
    },
    {
      "cell_type": "markdown",
      "metadata": {},
      "source": [
        "# Frechet similarities for Porto\n"
      ]
    },
    {
      "cell_type": "code",
      "execution_count": 6,
      "metadata": {},
      "outputs": [
        {
          "name": "stdout",
          "output_type": "stream",
          "text": [
            "Cy Pool Frechet: 0/100\n",
            "Cy Pool Frechet: 5/100\n",
            "Cy Pool Frechet: 10/100\n",
            "Cy Pool Frechet: 15/100\n",
            "Cy Pool Frechet: 20/100\n",
            "Cy Pool Frechet: 25/100\n",
            "Cy Pool Frechet: 30/100\n",
            "Cy Pool Frechet: 35/100\n",
            "Cy Pool Frechet: 40/100\n",
            "Cy Pool Frechet: 45/100\n",
            "Cy Pool Frechet: 50/100\n",
            "Cy Pool Frechet: 55/100\n",
            "Cy Pool Frechet: 60/100\n",
            "Cy Pool Frechet: 65/100\n",
            "Cy Pool Frechet: 70/100\n",
            "Cy Pool Frechet: 75/100\n",
            "Cy Pool Frechet: 80/100\n",
            "Cy Pool Frechet: 85/100\n",
            "Cy Pool Frechet: 90/100\n",
            "Cy Pool Frechet: 95/100\n"
          ]
        }
      ],
      "source": [
        "# Test set\n",
        "# generate_parallell_frechet_similarities(\n",
        "#     DATA_PORTO,\n",
        "#     TEST_SET_PORTO,\n",
        "#     FRECHET_FILENAME_TEST_PORTO,\n",
        "#     SIMILARITIES_OUTPUT_FOLDER_PORTO,\n",
        "# )\n",
        "\n",
        "# Full set\n",
        "generate_parallell_frechet_similarities(\n",
        "    DATA_PORTO, FULL_SET_PORTO, FRECHET_FILENAME_PORTO, SIMILARITIES_OUTPUT_FOLDER_PORTO\n",
        ")"
      ]
    }
  ],
  "metadata": {
    "kernelspec": {
      "display_name": "Python 3",
      "language": "python",
      "name": "python3"
    },
    "language_info": {
      "codemirror_mode": {
        "name": "ipython",
        "version": 3
      },
      "file_extension": ".py",
      "mimetype": "text/x-python",
      "name": "python",
      "nbconvert_exporter": "python",
      "pygments_lexer": "ipython3",
      "version": "3.11.7"
    }
  },
  "nbformat": 4,
  "nbformat_minor": 2
}
