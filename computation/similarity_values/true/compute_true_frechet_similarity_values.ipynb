{
  "cells": [
    {
      "cell_type": "markdown",
      "metadata": {},
      "source": [
        "# Notebook for computing **TRUE FRECHET Similarities for Rome and Porto** "
      ]
    },
    {
      "cell_type": "code",
      "execution_count": null,
      "metadata": {},
      "outputs": [],
      "source": [
        "# Importing nescessary modules\n",
        "import os, sys\n",
        "import shutil\n",
        "\n",
        "def find_project_root(target_folder=\"masteroppgave\"):\n",
        "    \"\"\"Find the absolute path of a folder by searching upward.\"\"\"\n",
        "    currentdir = os.path.abspath(\"__file__\")  # Get absolute script path\n",
        "    while True:\n",
        "        if os.path.basename(currentdir) == target_folder:\n",
        "            return currentdir  # Found the target folder\n",
        "        parentdir = os.path.dirname(currentdir)\n",
        "        if parentdir == currentdir:  # Stop at filesystem root\n",
        "            return None\n",
        "        currentdir = parentdir  # Move one level up\n",
        "\n",
        "project_root = find_project_root(\"masteroppgave\")\n",
        "\n",
        "if project_root:\n",
        "    sys.path.append(project_root)\n",
        "    print(f\"Project root found: {project_root}\")\n",
        "else:\n",
        "    raise RuntimeError(\"Could not find 'masteroppgave' directory\")\n",
        "\n",
        "from utils.helpers import file_handler as fh\n",
        "from utils.helpers import metafile_handler as mfh\n",
        "from utils.similarity_measures import dtw, frechet"
      ]
    },
    {
      "cell_type": "markdown",
      "metadata": {},
      "source": [
        "## CONSTANTS"
      ]
    },
    {
      "cell_type": "code",
      "execution_count": 8,
      "metadata": {},
      "outputs": [],
      "source": [
        "NUMBER_OF_TRAJECTORIES = 50\n",
        "\n",
        "#Rome\n",
        "ROME_DATA_FOLDER = \"../../../dataset/rome/output/\"\n",
        "ROME_DATA_META_FILE = f\"{ROME_DATA_FOLDER}META-{NUMBER_OF_TRAJECTORIES}.txt\"\n",
        "ROME_SIMILARITY_VALUES_RESULT_FOLDER = \"../../../results_true/similarity_values/rome/frechet\"\n",
        "ROME_FRECHET_FILENAME =  f\"rome-frechet-{NUMBER_OF_TRAJECTORIES}.csv\"\n",
        "\n",
        "\n",
        "#Porto\n",
        "PORTO_DATA_FOLDER  = \"../../../dataset/porto/output/\"\n",
        "PORTO_DATA_META_FILE = f\"{PORTO_DATA_FOLDER}/META-{NUMBER_OF_TRAJECTORIES}.txt\"\n",
        "PORTO_SIMILARITY_VALUES_RESULT_FOLDER = \"../../../results_true/similarity_values/porto/frechet\"\n",
        "PORTO_FRECHET_FILENAME =  f\"porto-frechet-{NUMBER_OF_TRAJECTORIES}.csv\""
      ]
    },
    {
      "cell_type": "markdown",
      "metadata": {},
      "source": [
        "## FUNCTIONS"
      ]
    },
    {
      "cell_type": "code",
      "execution_count": 9,
      "metadata": {},
      "outputs": [],
      "source": [
        "def deleteFile(file_name: str, folder_name: str) -> None:\n",
        "    file_path = os.path.join(folder_name, file_name)\n",
        "    try:\n",
        "        if os.path.isfile(file_path) or os.path.islink(file_path):\n",
        "            os.unlink(file_path)\n",
        "        elif os.path.isdir(file_path):\n",
        "            shutil.rmtree(file_path)\n",
        "    except Exception as e:\n",
        "        print(\"Failed to remove %s. Reason: %s\" % (file_path, e))"
      ]
    },
    {
      "cell_type": "code",
      "execution_count": 10,
      "metadata": {},
      "outputs": [],
      "source": [
        "# Using Cython Frechet, to speed things up\n",
        "\n",
        "\n",
        "# NOTE - Is not in use due to extensive computation time for non parallel version.\n",
        "# def generate_frechet_similarities(\n",
        "#     data_folder: str, meta_file: str, file_name: str, similarities_output_folder: str\n",
        "# ):\n",
        "#     deleteFile(file_name, similarities_output_folder)\n",
        "\n",
        "#     files = mfh.read_meta_file(meta_file)\n",
        "#     trajectories = fh.load_trajectory_files(files, data_folder)\n",
        "\n",
        "#     df = frechet.cy_frechet(trajectories)\n",
        "\n",
        "#     df.to_csv(os.path.join(similarities_output_folder, file_name))\n",
        "\n",
        "\n",
        "def generate_parallell_frechet_similarities(\n",
        "    data_folder: str, meta_file: str, file_name: str, similarities_output_folder: str\n",
        "):\n",
        "    deleteFile(file_name, similarities_output_folder)\n",
        "\n",
        "    files = mfh.read_meta_file(meta_file)\n",
        "    trajectories = fh.load_trajectory_files(files, data_folder)\n",
        "\n",
        "    df = frechet.cy_frechet_pool(trajectories)\n",
        "    df.to_csv(os.path.join(similarities_output_folder, file_name))"
      ]
    },
    {
      "cell_type": "markdown",
      "metadata": {},
      "source": [
        "## FRECHET SIMILARITIES FOR ROME\n"
      ]
    },
    {
      "cell_type": "code",
      "execution_count": null,
      "metadata": {},
      "outputs": [],
      "source": [
        "# Test set\n",
        "# generate_parallell_frechet_similarities(\n",
        "#     DATA_ROME,\n",
        "#     TEST_SET_ROME,\n",
        "#     FRECHET_FILENAME_TEST_ROME,\n",
        "#     SIMILARITIES_OUTPUT_FOLDER_ROME,\n",
        "# )\n",
        "\n",
        "# Full set\n",
        "generate_parallell_frechet_similarities(\n",
        "    ROME_DATA_FOLDER, ROME_DATA_META_FILE, ROME_FRECHET_FILENAME, ROME_SIMILARITY_VALUES_RESULT_FOLDER\n",
        ")"
      ]
    },
    {
      "cell_type": "markdown",
      "metadata": {},
      "source": [
        "## FRECHET SIMILARITIES FOR PORTO\n"
      ]
    },
    {
      "cell_type": "code",
      "execution_count": null,
      "metadata": {},
      "outputs": [],
      "source": [
        "# Test set\n",
        "# generate_parallell_frechet_similarities(\n",
        "#     DATA_PORTO,\n",
        "#     TEST_SET_PORTO,\n",
        "#     FRECHET_FILENAME_TEST_PORTO,\n",
        "#     SIMILARITIES_OUTPUT_FOLDER_PORTO,\n",
        "# )\n",
        "\n",
        "# Full set\n",
        "generate_parallell_frechet_similarities(\n",
        "    PORTO_DATA_FOLDER, PORTO_DATA_META_FILE, PORTO_FRECHET_FILENAME, PORTO_SIMILARITY_VALUES_RESULT_FOLDER\n",
        ")"
      ]
    }
  ],
  "metadata": {
    "kernelspec": {
      "display_name": "master",
      "language": "python",
      "name": "python3"
    },
    "language_info": {
      "codemirror_mode": {
        "name": "ipython",
        "version": 3
      },
      "file_extension": ".py",
      "mimetype": "text/x-python",
      "name": "python",
      "nbconvert_exporter": "python",
      "pygments_lexer": "ipython3",
      "version": "3.13.0"
    }
  },
  "nbformat": 4,
  "nbformat_minor": 2
}
