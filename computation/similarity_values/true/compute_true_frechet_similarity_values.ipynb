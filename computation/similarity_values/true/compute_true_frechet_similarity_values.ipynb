{
  "cells": [
    {
      "cell_type": "markdown",
      "metadata": {},
      "source": [
        "# Notebook for computing **TRUE FRECHET Similarities for Rome and Porto** "
      ]
    },
    {
      "cell_type": "code",
      "execution_count": 1,
      "metadata": {},
      "outputs": [
        {
          "name": "stdout",
          "output_type": "stream",
          "text": [
            "Project root found: /Users/thomasnitsche/Developer/skole/master/masteroppgave\n"
          ]
        }
      ],
      "source": [
        "# Importing nescessary modules\n",
        "import os, sys\n",
        "import shutil\n",
        "\n",
        "def find_project_root(target_folder=\"masteroppgave\"):\n",
        "    \"\"\"Find the absolute path of a folder by searching upward.\"\"\"\n",
        "    currentdir = os.path.abspath(\"__file__\")  # Get absolute script path\n",
        "    while True:\n",
        "        if os.path.basename(currentdir) == target_folder:\n",
        "            return currentdir  # Found the target folder\n",
        "        parentdir = os.path.dirname(currentdir)\n",
        "        if parentdir == currentdir:  # Stop at filesystem root\n",
        "            return None\n",
        "        currentdir = parentdir  # Move one level up\n",
        "\n",
        "project_root = find_project_root(\"masteroppgave\")\n",
        "\n",
        "if project_root:\n",
        "    sys.path.append(project_root)\n",
        "    print(f\"Project root found: {project_root}\")\n",
        "else:\n",
        "    raise RuntimeError(\"Could not find 'masteroppgave' directory\")\n",
        "\n",
        "from utils.helpers import file_handler as fh\n",
        "from utils.helpers import metafile_handler as mfh\n",
        "from utils.similarity_measures import dtw, frechet"
      ]
    },
    {
      "cell_type": "markdown",
      "metadata": {},
      "source": [
        "## CONSTANTS"
      ]
    },
    {
      "cell_type": "code",
      "execution_count": 2,
      "metadata": {},
      "outputs": [],
      "source": [
        "NUMBER_OF_TRAJECTORIES = 300\n",
        "\n",
        "#Rome\n",
        "ROME_DATA_FOLDER = \"../../../dataset/rome/output/\"\n",
        "ROME_DATA_META_FILE = f\"{ROME_DATA_FOLDER}META-{NUMBER_OF_TRAJECTORIES}.txt\"\n",
        "ROME_SIMILARITY_VALUES_RESULT_FOLDER = \"../../../results_true/similarity_values/rome/frechet\"\n",
        "ROME_FRECHET_FILENAME =  f\"rome-frechet-{NUMBER_OF_TRAJECTORIES}.csv\"\n",
        "\n",
        "\n",
        "#Porto\n",
        "PORTO_DATA_FOLDER  = \"../../../dataset/porto/output/\"\n",
        "PORTO_DATA_META_FILE = f\"{PORTO_DATA_FOLDER}/META-{NUMBER_OF_TRAJECTORIES}.txt\"\n",
        "PORTO_SIMILARITY_VALUES_RESULT_FOLDER = \"../../../results_true/similarity_values/porto/frechet\"\n",
        "PORTO_FRECHET_FILENAME =  f\"porto-frechet-{NUMBER_OF_TRAJECTORIES}.csv\""
      ]
    },
    {
      "cell_type": "markdown",
      "metadata": {},
      "source": [
        "## FUNCTIONS"
      ]
    },
    {
      "cell_type": "code",
      "execution_count": 3,
      "metadata": {},
      "outputs": [],
      "source": [
        "def deleteFile(file_name: str, folder_name: str) -> None:\n",
        "    file_path = os.path.join(folder_name, file_name)\n",
        "    try:\n",
        "        if os.path.isfile(file_path) or os.path.islink(file_path):\n",
        "            os.unlink(file_path)\n",
        "        elif os.path.isdir(file_path):\n",
        "            shutil.rmtree(file_path)\n",
        "    except Exception as e:\n",
        "        print(\"Failed to remove %s. Reason: %s\" % (file_path, e))"
      ]
    },
    {
      "cell_type": "code",
      "execution_count": 4,
      "metadata": {},
      "outputs": [],
      "source": [
        "# Using Cython Frechet, to speed things up\n",
        "\n",
        "\n",
        "# NOTE - Is not in use due to extensive computation time for non parallel version.\n",
        "# def generate_frechet_similarities(\n",
        "#     data_folder: str, meta_file: str, file_name: str, similarities_output_folder: str\n",
        "# ):\n",
        "#     deleteFile(file_name, similarities_output_folder)\n",
        "\n",
        "#     files = mfh.read_meta_file(meta_file)\n",
        "#     trajectories = fh.load_trajectory_files(files, data_folder)\n",
        "\n",
        "#     df = frechet.cy_frechet(trajectories)\n",
        "\n",
        "#     df.to_csv(os.path.join(similarities_output_folder, file_name))\n",
        "\n",
        "\n",
        "def generate_parallell_frechet_similarities(\n",
        "    data_folder: str, meta_file: str, file_name: str, similarities_output_folder: str\n",
        "):\n",
        "    deleteFile(file_name, similarities_output_folder)\n",
        "\n",
        "    files = mfh.read_meta_file(meta_file)\n",
        "    trajectories = fh.load_trajectory_files(files, data_folder)\n",
        "\n",
        "    df = frechet.cy_frechet_pool(trajectories)\n",
        "    df.to_csv(os.path.join(similarities_output_folder, file_name))"
      ]
    },
    {
      "cell_type": "markdown",
      "metadata": {},
      "source": [
        "## FRECHET SIMILARITIES FOR ROME\n"
      ]
    },
    {
      "cell_type": "code",
      "execution_count": 5,
      "metadata": {},
      "outputs": [
        {
          "name": "stdout",
          "output_type": "stream",
          "text": [
            "Cy Pool Frechet: 0/300\n",
            "Cy Pool Frechet: 5/300\n",
            "Cy Pool Frechet: 10/300\n",
            "Cy Pool Frechet: 15/300\n",
            "Cy Pool Frechet: 20/300\n",
            "Cy Pool Frechet: 25/300\n",
            "Cy Pool Frechet: 30/300\n",
            "Cy Pool Frechet: 35/300\n",
            "Cy Pool Frechet: 40/300\n",
            "Cy Pool Frechet: 45/300\n",
            "Cy Pool Frechet: 50/300\n",
            "Cy Pool Frechet: 55/300\n",
            "Cy Pool Frechet: 60/300\n",
            "Cy Pool Frechet: 65/300\n",
            "Cy Pool Frechet: 70/300\n",
            "Cy Pool Frechet: 75/300\n",
            "Cy Pool Frechet: 80/300\n",
            "Cy Pool Frechet: 85/300\n",
            "Cy Pool Frechet: 90/300\n",
            "Cy Pool Frechet: 95/300\n",
            "Cy Pool Frechet: 100/300\n",
            "Cy Pool Frechet: 105/300\n",
            "Cy Pool Frechet: 110/300\n",
            "Cy Pool Frechet: 115/300\n",
            "Cy Pool Frechet: 120/300\n",
            "Cy Pool Frechet: 125/300\n",
            "Cy Pool Frechet: 130/300\n",
            "Cy Pool Frechet: 135/300\n",
            "Cy Pool Frechet: 140/300\n",
            "Cy Pool Frechet: 145/300\n",
            "Cy Pool Frechet: 150/300\n",
            "Cy Pool Frechet: 155/300\n",
            "Cy Pool Frechet: 160/300\n",
            "Cy Pool Frechet: 165/300\n",
            "Cy Pool Frechet: 170/300\n",
            "Cy Pool Frechet: 175/300\n",
            "Cy Pool Frechet: 180/300\n",
            "Cy Pool Frechet: 185/300\n",
            "Cy Pool Frechet: 190/300\n",
            "Cy Pool Frechet: 195/300\n",
            "Cy Pool Frechet: 200/300\n",
            "Cy Pool Frechet: 205/300\n",
            "Cy Pool Frechet: 210/300\n",
            "Cy Pool Frechet: 215/300\n",
            "Cy Pool Frechet: 220/300\n",
            "Cy Pool Frechet: 225/300\n",
            "Cy Pool Frechet: 230/300\n",
            "Cy Pool Frechet: 235/300\n",
            "Cy Pool Frechet: 240/300\n",
            "Cy Pool Frechet: 245/300\n",
            "Cy Pool Frechet: 250/300\n",
            "Cy Pool Frechet: 255/300\n",
            "Cy Pool Frechet: 260/300\n",
            "Cy Pool Frechet: 265/300\n",
            "Cy Pool Frechet: 270/300\n",
            "Cy Pool Frechet: 275/300\n",
            "Cy Pool Frechet: 280/300\n",
            "Cy Pool Frechet: 285/300\n",
            "Cy Pool Frechet: 290/300\n",
            "Cy Pool Frechet: 295/300\n"
          ]
        }
      ],
      "source": [
        "# Test set\n",
        "# generate_parallell_frechet_similarities(\n",
        "#     DATA_ROME,\n",
        "#     TEST_SET_ROME,\n",
        "#     FRECHET_FILENAME_TEST_ROME,\n",
        "#     SIMILARITIES_OUTPUT_FOLDER_ROME,\n",
        "# )\n",
        "\n",
        "# Full set\n",
        "generate_parallell_frechet_similarities(\n",
        "    ROME_DATA_FOLDER, ROME_DATA_META_FILE, ROME_FRECHET_FILENAME, ROME_SIMILARITY_VALUES_RESULT_FOLDER\n",
        ")"
      ]
    },
    {
      "cell_type": "markdown",
      "metadata": {},
      "source": [
        "## FRECHET SIMILARITIES FOR PORTO\n"
      ]
    },
    {
      "cell_type": "code",
      "execution_count": null,
      "metadata": {},
      "outputs": [],
      "source": [
        "# Test set\n",
        "# generate_parallell_frechet_similarities(\n",
        "#     DATA_PORTO,\n",
        "#     TEST_SET_PORTO,\n",
        "#     FRECHET_FILENAME_TEST_PORTO,\n",
        "#     SIMILARITIES_OUTPUT_FOLDER_PORTO,\n",
        "# )\n",
        "\n",
        "# Full set\n",
        "generate_parallell_frechet_similarities(\n",
        "    PORTO_DATA_FOLDER, PORTO_DATA_META_FILE, PORTO_FRECHET_FILENAME, PORTO_SIMILARITY_VALUES_RESULT_FOLDER\n",
        ")"
      ]
    }
  ],
  "metadata": {
    "kernelspec": {
      "display_name": "master",
      "language": "python",
      "name": "python3"
    },
    "language_info": {
      "codemirror_mode": {
        "name": "ipython",
        "version": 3
      },
      "file_extension": ".py",
      "mimetype": "text/x-python",
      "name": "python",
      "nbconvert_exporter": "python",
      "pygments_lexer": "ipython3",
      "version": "3.13.0"
    }
  },
  "nbformat": 4,
  "nbformat_minor": 2
}
