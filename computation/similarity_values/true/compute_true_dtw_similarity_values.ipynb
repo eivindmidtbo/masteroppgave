{
  "cells": [
    {
      "cell_type": "code",
      "execution_count": 1,
      "metadata": {},
      "outputs": [
        {
          "name": "stdout",
          "output_type": "stream",
          "text": [
            "Project root found: c:\\Users\\eivin\\dev\\JoonEndreLSH\\masteroppgave\n"
          ]
        }
      ],
      "source": [
        "# Importing nescessary modules\n",
        "import os, sys\n",
        "import shutil\n",
        "\n",
        "def find_project_root(target_folder=\"masteroppgave\"):\n",
        "    \"\"\"Find the absolute path of a folder by searching upward.\"\"\"\n",
        "    currentdir = os.path.abspath(\"__file__\")  # Get absolute script path\n",
        "    while True:\n",
        "        if os.path.basename(currentdir) == target_folder:\n",
        "            return currentdir  # Found the target folder\n",
        "        parentdir = os.path.dirname(currentdir)\n",
        "        if parentdir == currentdir:  # Stop at filesystem root\n",
        "            return None\n",
        "        currentdir = parentdir  # Move one level up\n",
        "\n",
        "project_root = find_project_root(\"masteroppgave\")\n",
        "\n",
        "if project_root:\n",
        "    sys.path.append(project_root)\n",
        "    print(f\"Project root found: {project_root}\")\n",
        "else:\n",
        "    raise RuntimeError(\"Could not find 'masteroppgave' directory\")\n",
        "\n",
        "from utils.helpers import file_handler as fh\n",
        "from utils.helpers import metafile_handler as mfh\n",
        "from utils.similarity_measures import dtw"
      ]
    },
    {
      "cell_type": "code",
      "execution_count": 2,
      "metadata": {},
      "outputs": [
        {
          "name": "stdout",
          "output_type": "stream",
          "text": [
            "C:\\Users\\eivin\\dev\\JoonEndreLSH\\masteroppgave\\dataset\\rome\\output/\n",
            "C:\\Users\\eivin\\dev\\JoonEndreLSH\\masteroppgave\\dataset\\rome\\output/META-50.txt\n"
          ]
        }
      ],
      "source": [
        "NUMBER_OF_TRAJECTORIES = 50\n",
        "\n",
        "#Rome\n",
        "ROME_DATA_FOLDER = fr\"C:\\Users\\eivin\\dev\\JoonEndreLSH\\masteroppgave\\dataset\\rome\\output/\"\n",
        "\n",
        "ROME_DATA_META_FILE = f\"{ROME_DATA_FOLDER}META-{NUMBER_OF_TRAJECTORIES}.txt\"\n",
        "ROME_SIMILARITY_VALUES_RESULT_FOLDER = r\"C:\\Users\\eivin\\dev\\JoonEndreLSH\\masteroppgave\\results_true\\similarity_values\\rome\\dtw\"\n",
        "ROME_DTW_FILENAME =  f\"rome-dtw-{NUMBER_OF_TRAJECTORIES}.csv\"\n",
        "\n",
        "#Porto\n",
        "PORTO_DATA_FOLDER  = \"dataset/porto/output\"\n",
        "PORTO_DATA = f\"../{PORTO_DATA_FOLDER}/META-{NUMBER_OF_TRAJECTORIES}.txt\"\n",
        "PORTO_SIMILARITY_VALUES_RESULT_FOLDER = r\"C:\\Users\\eivin\\dev\\JoonEndreLSH\\masteroppgave\\results_true\\similarity_values\\porto\\dtw\"\n",
        "PORTO_DTW_FILENAME =  f\"porto-dtw-{NUMBER_OF_TRAJECTORIES}.csv\"\n",
        "\n",
        "print(ROME_DATA_FOLDER)\n",
        "print(ROME_DATA_META_FILE)"
      ]
    },
    {
      "cell_type": "code",
      "execution_count": 3,
      "metadata": {},
      "outputs": [],
      "source": [
        "def deleteFile(file_name: str, folder_name: str) -> None:\n",
        "    file_path = os.path.join(folder_name, file_name)\n",
        "    try:\n",
        "        if os.path.isfile(file_path) or os.path.islink(file_path):\n",
        "            os.unlink(file_path)\n",
        "        elif os.path.isdir(file_path):\n",
        "            shutil.rmtree(file_path)\n",
        "    except Exception as e:\n",
        "        print(\"Failed to remove %s. Reason: %s\" % (file_path, e))"
      ]
    },
    {
      "cell_type": "code",
      "execution_count": 4,
      "metadata": {},
      "outputs": [],
      "source": [
        "def generate_dtw_similarities(\n",
        "    data_folder: str, meta_file: str, file_name: str, similarities_output_folder: str\n",
        "):\n",
        "    deleteFile(file_name, similarities_output_folder) # Delete file if it exists before running\n",
        "\n",
        "    files = mfh.read_meta_file(meta_file)\n",
        "\n",
        "    print(files)\n",
        "    print(data_folder)\n",
        "\n",
        "    trajectories = fh.load_trajectory_files(files, data_folder)\n",
        "\n",
        "    df = dtw.cy_dtw(trajectories)\n",
        "\n",
        "    df.to_csv(os.path.join(similarities_output_folder, file_name))\n",
        "\n",
        "\n",
        "def generate_parallell_dtw_similarities(\n",
        "    data_folder: str, meta_file: str, file_name: str, similarities_output_folder: str\n",
        "):\n",
        "    deleteFile(file_name, similarities_output_folder)\n",
        "\n",
        "    files = mfh.read_meta_file(meta_file)\n",
        "    print(\"HER\" + files)\n",
        "    trajectories = fh.load_trajectory_files(files, data_folder)\n",
        "\n",
        "    df = dtw.cy_dtw_pool(trajectories)\n",
        "    df.to_csv(os.path.join(similarities_output_folder, file_name))"
      ]
    },
    {
      "cell_type": "markdown",
      "metadata": {},
      "source": [
        "# DTW similarities for Rome\n"
      ]
    },
    {
      "cell_type": "code",
      "execution_count": 5,
      "metadata": {},
      "outputs": [
        {
          "name": "stdout",
          "output_type": "stream",
          "text": [
            "['R_CAV.txt', 'R_DYX.txt', 'R_CDU.txt', 'R_ECN.txt', 'R_EFS.txt', 'R_DOY.txt', 'R_CFV.txt', 'R_AVK.txt', 'R_EDS.txt', 'R_COQ.txt', 'R_AKY.txt', 'R_BCU.txt', 'R_CCZ.txt', 'R_CPD.txt', 'R_AVF.txt', 'R_AVD.txt', 'R_CYW.txt', 'R_AVB.txt', 'R_BNG.txt', 'R_DVK.txt', 'R_ADV.txt', 'R_EHK.txt', 'R_AKK.txt', 'R_BRF.txt', 'R_ARU.txt', 'R_DUB.txt', 'R_CEX.txt', 'R_DJT.txt', 'R_EBK.txt', 'R_CCQ.txt', 'R_AWU.txt', 'R_DGV.txt', 'R_BTH.txt', 'R_DUV.txt', 'R_AFZ.txt', 'R_EDX.txt', 'R_CIV.txt', 'R_ABU.txt', 'R_BDC.txt', 'R_BML.txt', 'R_ECP.txt', 'R_AZS.txt', 'R_BFS.txt', 'R_BUX.txt', 'R_CCJ.txt', 'R_CRC.txt', 'R_ARC.txt', 'R_DDN.txt', 'R_DAQ.txt', 'R_CNH.txt']\n",
            "C:\\Users\\eivin\\dev\\JoonEndreLSH\\masteroppgave\\dataset\\rome\\output/\n",
            "Average DTW score for all pairs: 2.1615563297436338\n"
          ]
        }
      ],
      "source": [
        "# Test set\n",
        "generate_dtw_similarities(\n",
        "    ROME_DATA_FOLDER, ROME_DATA_META_FILE, ROME_DTW_FILENAME, ROME_SIMILARITY_VALUES_RESULT_FOLDER\n",
        ")\n",
        "# generate_parallell_dtw_similarities(\n",
        "#     ROME_DATA_FOLDER, ROME_DATA_META_FILE, ROME_DTW_FILENAME, ROME_SIMILARITY_VALUES_RESULT_FOLDER\n",
        "# )\n",
        "\n",
        "# Full set\n",
        "# generate_dtw_similarities(ROME_DATA_FOLDER, ROME_DATA_META_FILE, ROME_DTW_FILENAME, ROME_SIMILARITY_VALUES_RESULT_FOLDER)\n",
        "# generate_parallell_dtw_similarities(\n",
        "#     ROME_DATA_FOLDER, ROME_DATA_META_FILE, ROME_DTW_FILENAME, ROME_SIMILARITY_VALUES_RESULT_FOLDER\n",
        "# )"
      ]
    },
    {
      "cell_type": "markdown",
      "metadata": {},
      "source": [
        "# DTW similarities for Porto\n"
      ]
    },
    {
      "cell_type": "code",
      "execution_count": 6,
      "metadata": {},
      "outputs": [],
      "source": [
        "# DTW similarities for Porto\n",
        "# Test set\n",
        "# generate_dtw_similarities(\n",
        "#     DATA_PORTO,\n",
        "#     TEST_SET_PORTO,\n",
        "#     DTW_FILENAME_TEST_PORTO,\n",
        "#     SIMILARITIES_OUTPUT_FOLDER_PORTO,\n",
        "# )\n",
        "# generate_parallell_dtw_similarities(\n",
        "#     DATA_PORTO,\n",
        "#     TEST_SET_PORTO,\n",
        "#     DTW_FILENAME_TEST_PORTO,\n",
        "#     SIMILARITIES_OUTPUT_FOLDER_PORTO,\n",
        "# )\n",
        "\n",
        "# Full set\n",
        "# generate_dtw_similarities(\n",
        "#     DATA_PORTO, FULL_SET_PORTO, DTW_FILENAME_PORTO, SIMILARITIES_OUTPUT_FOLDER_PORTO\n",
        "# )\n",
        "# generate_parallell_dtw_similarities(\n",
        "#     DATA_PORTO, FULL_SET_PORTO, DTW_FILENAME_PORTO, SIMILARITIES_OUTPUT_FOLDER_PORTO\n",
        "# )"
      ]
    }
  ],
  "metadata": {
    "kernelspec": {
      "display_name": "master_repo",
      "language": "python",
      "name": "python3"
    },
    "language_info": {
      "codemirror_mode": {
        "name": "ipython",
        "version": 3
      },
      "file_extension": ".py",
      "mimetype": "text/x-python",
      "name": "python",
      "nbconvert_exporter": "python",
      "pygments_lexer": "ipython3",
      "version": "3.13.0"
    }
  },
  "nbformat": 4,
  "nbformat_minor": 2
}
