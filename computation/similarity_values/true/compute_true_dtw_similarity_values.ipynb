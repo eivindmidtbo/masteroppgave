{
  "cells": [
    {
      "cell_type": "markdown",
      "metadata": {},
      "source": [
        "# Notebook for computing **TRUE DTW Similarities for Rome and Porto** "
      ]
    },
    {
      "cell_type": "code",
      "execution_count": 1,
      "metadata": {},
      "outputs": [
        {
          "name": "stdout",
          "output_type": "stream",
          "text": [
            "Project root found: /Users/thomasnitsche/Developer/skole/master/masteroppgave\n"
          ]
        }
      ],
      "source": [
        "# Importing nescessary modules\n",
        "import os, sys\n",
        "import shutil\n",
        "\n",
        "def find_project_root(target_folder=\"masteroppgave\"):\n",
        "    \"\"\"Find the absolute path of a folder by searching upward.\"\"\"\n",
        "    currentdir = os.path.abspath(\"__file__\")  # Get absolute script path\n",
        "    while True:\n",
        "        if os.path.basename(currentdir) == target_folder:\n",
        "            return currentdir  # Found the target folder\n",
        "        parentdir = os.path.dirname(currentdir)\n",
        "        if parentdir == currentdir:  # Stop at filesystem root\n",
        "            return None\n",
        "        currentdir = parentdir  # Move one level up\n",
        "\n",
        "project_root = find_project_root(\"masteroppgave\")\n",
        "\n",
        "if project_root:\n",
        "    sys.path.append(project_root)\n",
        "    print(f\"Project root found: {project_root}\")\n",
        "else:\n",
        "    raise RuntimeError(\"Could not find 'masteroppgave' directory\")\n",
        "\n",
        "from utils.helpers import file_handler as fh\n",
        "from utils.helpers import metafile_handler as mfh\n",
        "from utils.similarity_measures import dtw"
      ]
    },
    {
      "cell_type": "markdown",
      "metadata": {},
      "source": [
        "## CONSTANTS"
      ]
    },
    {
      "cell_type": "code",
      "execution_count": 2,
      "metadata": {},
      "outputs": [],
      "source": [
        "NUMBER_OF_TRAJECTORIES = 3000\n",
        "\n",
        "#Rome\n",
        "ROME_DATA_FOLDER = \"../../../dataset/rome/output/\"\n",
        "ROME_DATA_META_FILE = f\"{ROME_DATA_FOLDER}META-{NUMBER_OF_TRAJECTORIES}.txt\"\n",
        "ROME_SIMILARITY_VALUES_RESULT_FOLDER = \"../../../results_true/similarity_values/rome/dtw\"\n",
        "ROME_DTW_FILENAME =  f\"rome-dtw-{NUMBER_OF_TRAJECTORIES}.csv\"\n",
        "\n",
        "\n",
        "#Porto\n",
        "PORTO_DATA_FOLDER  = \"../../../dataset/porto/output/\"\n",
        "PORTO_DATA_META_FILE = f\"{PORTO_DATA_FOLDER}/META-{NUMBER_OF_TRAJECTORIES}.txt\"\n",
        "PORTO_SIMILARITY_VALUES_RESULT_FOLDER = \"../../../results_true/similarity_values/porto/dtw\"\n",
        "PORTO_DTW_FILENAME =  f\"porto-dtw-{NUMBER_OF_TRAJECTORIES}.csv\""
      ]
    },
    {
      "cell_type": "markdown",
      "metadata": {},
      "source": [
        "## FUNCTIONS"
      ]
    },
    {
      "cell_type": "code",
      "execution_count": 3,
      "metadata": {},
      "outputs": [],
      "source": [
        "def deleteFile(file_name: str, folder_name: str) -> None:\n",
        "    file_path = os.path.join(folder_name, file_name)\n",
        "    try:\n",
        "        if os.path.isfile(file_path) or os.path.islink(file_path):\n",
        "            os.unlink(file_path)\n",
        "        elif os.path.isdir(file_path):\n",
        "            shutil.rmtree(file_path)\n",
        "    except Exception as e:\n",
        "        print(\"Failed to remove %s. Reason: %s\" % (file_path, e))"
      ]
    },
    {
      "cell_type": "code",
      "execution_count": 4,
      "metadata": {},
      "outputs": [],
      "source": [
        "def generate_dtw_similarities(\n",
        "    data_folder: str, meta_file: str, file_name: str, similarities_output_folder: str\n",
        "):\n",
        "    deleteFile(file_name, similarities_output_folder) # Delete file if it exists before running\n",
        "\n",
        "    files = mfh.read_meta_file(meta_file)\n",
        "\n",
        "    print(files)\n",
        "    print(data_folder)\n",
        "\n",
        "    trajectories = fh.load_trajectory_files(files, data_folder)\n",
        "\n",
        "    df = dtw.cy_dtw(trajectories)\n",
        "\n",
        "    df.to_csv(os.path.join(similarities_output_folder, file_name))\n",
        "\n",
        "\n",
        "def generate_parallell_dtw_similarities(\n",
        "    data_folder: str, meta_file: str, file_name: str, similarities_output_folder: str\n",
        "):\n",
        "    deleteFile(file_name, similarities_output_folder)\n",
        "\n",
        "    files = mfh.read_meta_file(meta_file)\n",
        "    trajectories = fh.load_trajectory_files(files, data_folder)\n",
        "\n",
        "    df = dtw.cy_dtw_pool(trajectories)\n",
        "    df.to_csv(os.path.join(similarities_output_folder, file_name))"
      ]
    },
    {
      "cell_type": "markdown",
      "metadata": {},
      "source": [
        "# DTW SIMILARITIES FOR ROME\n"
      ]
    },
    {
      "cell_type": "code",
      "execution_count": 5,
      "metadata": {},
      "outputs": [
        {
          "name": "stderr",
          "output_type": "stream",
          "text": [
            "100%|██████████| 3050/3050 [30:36<00:00,  1.66it/s]\n"
          ]
        }
      ],
      "source": [
        "# generate_dtw_similarities(\n",
        "#     ROME_DATA_FOLDER, ROME_DATA_META_FILE, ROME_DTW_FILENAME, ROME_SIMILARITY_VALUES_RESULT_FOLDER\n",
        "# )\n",
        "generate_parallell_dtw_similarities(\n",
        "    ROME_DATA_FOLDER, ROME_DATA_META_FILE, ROME_DTW_FILENAME, ROME_SIMILARITY_VALUES_RESULT_FOLDER\n",
        ")\n",
        "\n",
        "# Full set\n",
        "# generate_dtw_similarities(ROME_DATA_FOLDER, ROME_DATA_META_FILE, ROME_DTW_FILENAME, ROME_SIMILARITY_VALUES_RESULT_FOLDER)\n",
        "# generate_parallell_dtw_similarities(\n",
        "#     ROME_DATA_FOLDER, ROME_DATA_META_FILE, ROME_DTW_FILENAME, ROME_SIMILARITY_VALUES_RESULT_FOLDER\n",
        "# )"
      ]
    },
    {
      "cell_type": "code",
      "execution_count": 6,
      "metadata": {},
      "outputs": [],
      "source": [
        "NUMBER_OF_TRAJECTORIES = 3000"
      ]
    },
    {
      "cell_type": "markdown",
      "metadata": {},
      "source": [
        "# DTW SIMILARITIES FOR PORTO\n"
      ]
    },
    {
      "cell_type": "code",
      "execution_count": 7,
      "metadata": {},
      "outputs": [
        {
          "ename": "Exception",
          "evalue": "Cant find file ../../../dataset/porto/output//META-3050.txt",
          "output_type": "error",
          "traceback": [
            "\u001b[0;31m---------------------------------------------------------------------------\u001b[0m",
            "\u001b[0;31mFileNotFoundError\u001b[0m                         Traceback (most recent call last)",
            "File \u001b[0;32m~/Developer/skole/master/masteroppgave/utils/helpers/metafile_handler.py:127\u001b[0m, in \u001b[0;36mread_meta_file\u001b[0;34m(path_to_file)\u001b[0m\n\u001b[1;32m    126\u001b[0m \u001b[38;5;28;01mtry\u001b[39;00m:\n\u001b[0;32m--> 127\u001b[0m     \u001b[38;5;28;01mwith\u001b[39;00m \u001b[38;5;28;43mopen\u001b[39;49m\u001b[43m(\u001b[49m\u001b[43mpath_to_file\u001b[49m\u001b[43m,\u001b[49m\u001b[43m \u001b[49m\u001b[38;5;124;43m\"\u001b[39;49m\u001b[38;5;124;43mr\u001b[39;49m\u001b[38;5;124;43m\"\u001b[39;49m\u001b[43m)\u001b[49m \u001b[38;5;28;01mas\u001b[39;00m file:\n\u001b[1;32m    128\u001b[0m         trajectory_files \u001b[38;5;241m=\u001b[39m [line\u001b[38;5;241m.\u001b[39mrstrip() \u001b[38;5;28;01mfor\u001b[39;00m line \u001b[38;5;129;01min\u001b[39;00m file]\n",
            "\u001b[0;31mFileNotFoundError\u001b[0m: [Errno 2] No such file or directory: '../../../dataset/porto/output//META-3050.txt'",
            "\nDuring handling of the above exception, another exception occurred:\n",
            "\u001b[0;31mException\u001b[0m                                 Traceback (most recent call last)",
            "Cell \u001b[0;32mIn[7], line 9\u001b[0m\n\u001b[1;32m      1\u001b[0m \u001b[38;5;66;03m# DTW similarities for Porto\u001b[39;00m\n\u001b[1;32m      2\u001b[0m \u001b[38;5;66;03m# Test set\u001b[39;00m\n\u001b[1;32m      3\u001b[0m \u001b[38;5;66;03m# generate_dtw_similarities(\u001b[39;00m\n\u001b[0;32m   (...)\u001b[0m\n\u001b[1;32m      7\u001b[0m \u001b[38;5;66;03m#     PORTO_SIMILARITY_VALUES_RESULT_FOLDER,\u001b[39;00m\n\u001b[1;32m      8\u001b[0m \u001b[38;5;66;03m# )\u001b[39;00m\n\u001b[0;32m----> 9\u001b[0m \u001b[43mgenerate_parallell_dtw_similarities\u001b[49m\u001b[43m(\u001b[49m\n\u001b[1;32m     10\u001b[0m \u001b[43m    \u001b[49m\u001b[43mPORTO_DATA_FOLDER\u001b[49m\u001b[43m,\u001b[49m\n\u001b[1;32m     11\u001b[0m \u001b[43m    \u001b[49m\u001b[43mPORTO_DATA_META_FILE\u001b[49m\u001b[43m,\u001b[49m\n\u001b[1;32m     12\u001b[0m \u001b[43m    \u001b[49m\u001b[43mPORTO_DTW_FILENAME\u001b[49m\u001b[43m,\u001b[49m\n\u001b[1;32m     13\u001b[0m \u001b[43m    \u001b[49m\u001b[43mPORTO_SIMILARITY_VALUES_RESULT_FOLDER\u001b[49m\u001b[43m,\u001b[49m\n\u001b[1;32m     14\u001b[0m \u001b[43m)\u001b[49m\n\u001b[1;32m     16\u001b[0m \u001b[38;5;66;03m# Full set\u001b[39;00m\n\u001b[1;32m     17\u001b[0m \u001b[38;5;66;03m# generate_dtw_similarities(\u001b[39;00m\n\u001b[1;32m     18\u001b[0m \u001b[38;5;66;03m#     DATA_PORTO, FULL_SET_PORTO, DTW_FILENAME_PORTO, SIMILARITIES_OUTPUT_FOLDER_PORTO\u001b[39;00m\n\u001b[0;32m   (...)\u001b[0m\n\u001b[1;32m     21\u001b[0m \u001b[38;5;66;03m#     DATA_PORTO, FULL_SET_PORTO, DTW_FILENAME_PORTO, SIMILARITIES_OUTPUT_FOLDER_PORTO\u001b[39;00m\n\u001b[1;32m     22\u001b[0m \u001b[38;5;66;03m# )\u001b[39;00m\n",
            "Cell \u001b[0;32mIn[4], line 23\u001b[0m, in \u001b[0;36mgenerate_parallell_dtw_similarities\u001b[0;34m(data_folder, meta_file, file_name, similarities_output_folder)\u001b[0m\n\u001b[1;32m     18\u001b[0m \u001b[38;5;28;01mdef\u001b[39;00m\u001b[38;5;250m \u001b[39m\u001b[38;5;21mgenerate_parallell_dtw_similarities\u001b[39m(\n\u001b[1;32m     19\u001b[0m     data_folder: \u001b[38;5;28mstr\u001b[39m, meta_file: \u001b[38;5;28mstr\u001b[39m, file_name: \u001b[38;5;28mstr\u001b[39m, similarities_output_folder: \u001b[38;5;28mstr\u001b[39m\n\u001b[1;32m     20\u001b[0m ):\n\u001b[1;32m     21\u001b[0m     deleteFile(file_name, similarities_output_folder)\n\u001b[0;32m---> 23\u001b[0m     files \u001b[38;5;241m=\u001b[39m \u001b[43mmfh\u001b[49m\u001b[38;5;241;43m.\u001b[39;49m\u001b[43mread_meta_file\u001b[49m\u001b[43m(\u001b[49m\u001b[43mmeta_file\u001b[49m\u001b[43m)\u001b[49m\n\u001b[1;32m     24\u001b[0m     trajectories \u001b[38;5;241m=\u001b[39m fh\u001b[38;5;241m.\u001b[39mload_trajectory_files(files, data_folder)\n\u001b[1;32m     26\u001b[0m     df \u001b[38;5;241m=\u001b[39m dtw\u001b[38;5;241m.\u001b[39mcy_dtw_pool(trajectories)\n",
            "File \u001b[0;32m~/Developer/skole/master/masteroppgave/utils/helpers/metafile_handler.py:131\u001b[0m, in \u001b[0;36mread_meta_file\u001b[0;34m(path_to_file)\u001b[0m\n\u001b[1;32m    129\u001b[0m         file\u001b[38;5;241m.\u001b[39mclose()\n\u001b[1;32m    130\u001b[0m \u001b[38;5;28;01mexcept\u001b[39;00m \u001b[38;5;167;01mFileNotFoundError\u001b[39;00m:\n\u001b[0;32m--> 131\u001b[0m     \u001b[38;5;28;01mraise\u001b[39;00m (\u001b[38;5;167;01mException\u001b[39;00m(\u001b[38;5;124mf\u001b[39m\u001b[38;5;124m\"\u001b[39m\u001b[38;5;124mCant find file \u001b[39m\u001b[38;5;132;01m{\u001b[39;00mpath_to_file\u001b[38;5;132;01m}\u001b[39;00m\u001b[38;5;124m\"\u001b[39m))\n\u001b[1;32m    133\u001b[0m \u001b[38;5;28;01mreturn\u001b[39;00m trajectory_files\n",
            "\u001b[0;31mException\u001b[0m: Cant find file ../../../dataset/porto/output//META-3050.txt"
          ]
        }
      ],
      "source": [
        "# DTW similarities for Porto\n",
        "# Test set\n",
        "# generate_dtw_similarities(\n",
        "#     PORTO_DATA_FOLDER,\n",
        "#     PORTO_DATA_META_FILE,\n",
        "#     PORTO_DTW_FILENAME,\n",
        "#     PORTO_SIMILARITY_VALUES_RESULT_FOLDER,\n",
        "# )\n",
        "generate_parallell_dtw_similarities(\n",
        "    PORTO_DATA_FOLDER,\n",
        "    PORTO_DATA_META_FILE,\n",
        "    PORTO_DTW_FILENAME,\n",
        "    PORTO_SIMILARITY_VALUES_RESULT_FOLDER,\n",
        ")\n",
        "\n",
        "# Full set\n",
        "# generate_dtw_similarities(\n",
        "#     DATA_PORTO, FULL_SET_PORTO, DTW_FILENAME_PORTO, SIMILARITIES_OUTPUT_FOLDER_PORTO\n",
        "# )\n",
        "# generate_parallell_dtw_similarities(\n",
        "#     DATA_PORTO, FULL_SET_PORTO, DTW_FILENAME_PORTO, SIMILARITIES_OUTPUT_FOLDER_PORTO\n",
        "# )"
      ]
    }
  ],
  "metadata": {
    "kernelspec": {
      "display_name": "master",
      "language": "python",
      "name": "python3"
    },
    "language_info": {
      "codemirror_mode": {
        "name": "ipython",
        "version": 3
      },
      "file_extension": ".py",
      "mimetype": "text/x-python",
      "name": "python",
      "nbconvert_exporter": "python",
      "pygments_lexer": "ipython3",
      "version": "3.13.0"
    }
  },
  "nbformat": 4,
  "nbformat_minor": 2
}
