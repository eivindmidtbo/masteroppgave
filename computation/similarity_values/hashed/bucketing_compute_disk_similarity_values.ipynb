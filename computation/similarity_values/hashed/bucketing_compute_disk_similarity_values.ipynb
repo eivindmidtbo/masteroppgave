{
 "cells": [
  {
   "cell_type": "markdown",
   "metadata": {},
   "source": [
    "# Notebook for computing hashes, buckets and similarity values for the disk scheme. \n",
    "\n",
    "Utilizes the disk scheme\n",
    "\n",
    "Incorporates:\n",
    "* Hashing of trajectories using disk scheme\n",
    "* Bucketing of hashes made from disk scheme\n",
    "* Similarity computation between trajectories within buckets.\n",
    "    * Both for DTW and Frechet\n",
    "* Analysis of the produced bucket system\n",
    "\n",
    "Produces:\n",
    "* JSON file containing buckets\n",
    "* Similarity values for trajectories within buckets\n"
   ]
  },
  {
   "cell_type": "code",
   "execution_count": null,
   "metadata": {},
   "outputs": [],
   "source": [
    "import os\n",
    "import sys\n",
    "\n",
    "def find_project_root(target_folder=\"masteroppgave\"):\n",
    "    \"\"\"Find the absolute path of a folder by searching upward.\"\"\"\n",
    "    currentdir = os.path.abspath(\"__file__\")  # Get absolute script path\n",
    "    while True:\n",
    "        if os.path.basename(currentdir) == target_folder:\n",
    "            return currentdir  # Found the target folder\n",
    "        parentdir = os.path.dirname(currentdir)\n",
    "        if parentdir == currentdir:  # Stop at filesystem root\n",
    "            return None\n",
    "        currentdir = parentdir  # Move one level up\n",
    "\n",
    "# Example usage\n",
    "project_root = find_project_root(\"masteroppgave\")\n",
    "\n",
    "if project_root:\n",
    "    sys.path.append(project_root)\n",
    "    print(f\"Project root found: {project_root}\")\n",
    "else:\n",
    "    raise RuntimeError(\"Could not find 'masteroppgave' directory\")\n",
    "\n",
    "from computation.similarity import generate_disk_hash_similarity_with_bucketing\n",
    "from utils.helpers.bucket_evaluation import *\n",
    "import json\n",
    "import pandas as pd\n"
   ]
  },
  {
   "cell_type": "markdown",
   "metadata": {},
   "source": [
    "# Setup"
   ]
  },
  {
   "cell_type": "code",
   "execution_count": 611,
   "metadata": {},
   "outputs": [],
   "source": [
    "CITY = \"rome\" # \"rome\" or \"porto\"\n",
    "MEASURE = \"dtw\" # \"dtw\" or \"frechet\"\n",
    "DIAMETER = 1.6 # Diameter of the disks\n",
    "LAYERS = 10 # Number of layers\n",
    "DISKS = 4 # NUmber of disks\n",
    "SIZE = 3050 #How many trajectories to use"
   ]
  },
  {
   "cell_type": "markdown",
   "metadata": {},
   "source": [
    "## Retrieving the true similarity values"
   ]
  },
  {
   "cell_type": "code",
   "execution_count": 612,
   "metadata": {},
   "outputs": [],
   "source": [
    "file_path = f\"../../../results_true/similarity_values/{CITY}/{MEASURE}/{CITY}-{MEASURE}-{SIZE}.csv\"\n",
    "\n",
    "# Read CSV, telling pandas to take the first column as the row labels:\n",
    "true_sim_matrix_df = pd.read_csv(file_path, index_col=0)\n",
    "\n",
    "# Function to convert values to float if possible\n",
    "def convert_to_float(value):\n",
    "    try:\n",
    "        return float(value)\n",
    "    except ValueError:\n",
    "        return value\n",
    "\n",
    "# Apply the function to each cell in the DataFrame\n",
    "true_sim_matrix_df = true_sim_matrix_df.map(convert_to_float)\n",
    "true_sim_matrix_df = (true_sim_matrix_df + true_sim_matrix_df.T)"
   ]
  },
  {
   "cell_type": "markdown",
   "metadata": {},
   "source": [
    "## Generate hashes with disk scheme, bucket system and similarity values for the given city and measure"
   ]
  },
  {
   "cell_type": "code",
   "execution_count": null,
   "metadata": {},
   "outputs": [],
   "source": [
    "hashed_similarities, bucket_system = generate_disk_hash_similarity_with_bucketing(\n",
    "    city=CITY, diameter=DIAMETER, layers=LAYERS, disks=DISKS, measure=MEASURE, size=SIZE\n",
    ")"
   ]
  },
  {
   "cell_type": "code",
   "execution_count": 607,
   "metadata": {},
   "outputs": [],
   "source": [
    "# hashed_similarities.head(40)"
   ]
  },
  {
   "cell_type": "markdown",
   "metadata": {},
   "source": [
    "# Bucket analysis "
   ]
  },
  {
   "cell_type": "markdown",
   "metadata": {},
   "source": [
    "## Bucket stats"
   ]
  },
  {
   "cell_type": "code",
   "execution_count": null,
   "metadata": {},
   "outputs": [],
   "source": [
    "total_buckets = len(bucket_system)\n",
    "buckets_with_multiple = sum(1 for trajectories in bucket_system.values() if len(trajectories) > 1)\n",
    "buckets_with_single = total_buckets - buckets_with_multiple\n",
    "largest_bucket_size = max(len(trajectories) for trajectories in bucket_system.values())\n",
    "largest_bucket = max(bucket_system, key=lambda key: len(bucket_system[key]))\n",
    "smallest_bucket = min(bucket_system, key=lambda key: len(bucket_system[key]))\n",
    "smallest_bucket_size = len(bucket_system[smallest_bucket])\n",
    "\n",
    "\n",
    "print(f\"Total Buckets: {total_buckets}\")\n",
    "print(f\"Largest Bucket(id): {largest_bucket}\")\n",
    "print(f\"Buckets with more than one trajectory: {buckets_with_multiple}\")\n",
    "print(f\"Buckets with only one trajectory: {buckets_with_single}\")\n",
    "print(f\"Largest Bucket Size: {largest_bucket_size}\")\n",
    "print(\"smallest bucket: \", smallest_bucket_size)\n",
    "\n",
    "# Optional: Display distribution percentages\n",
    "multiple_bucket_percentage = (buckets_with_multiple / total_buckets) * 100 if total_buckets > 0 else 0\n",
    "single_bucket_percentage = (buckets_with_single / total_buckets) * 100 if total_buckets > 0 else 0\n",
    "\n",
    "print(f\"Percentage of buckets with more than one trajectory: {multiple_bucket_percentage:.2f}%\")\n",
    "print(f\"Percentage of buckets with only one trajectory: {single_bucket_percentage:.2f}%\")\n",
    "\n",
    "\n",
    "\n",
    "# print(bucket_system[largest_bucket])\n",
    "# print(bucket_system[smallest_bucket])\n",
    "\n",
    "# for key, value in bucket_system.items():\n",
    "#     print(key, value)"
   ]
  },
  {
   "cell_type": "markdown",
   "metadata": {},
   "source": [
    "## TP, FP, FN, PRECISION, RECALL"
   ]
  },
  {
   "cell_type": "code",
   "execution_count": null,
   "metadata": {},
   "outputs": [],
   "source": [
    "# THRESHOLD = 5\n",
    "import numpy as np\n",
    "THRESHOLDS = np.arange(1, 6.0, 1)  # Generates [0.5, 1.0, 1.5, ..., 5.5]\n",
    "\n",
    "results = {\n",
    "    \"Precision\": [],\n",
    "    \"Recall\": [],\n",
    "    \"F1 Score\": []\n",
    "}\n",
    "\n",
    "\n",
    "\n",
    "for treshold in THRESHOLDS:\n",
    "\n",
    "    #Variables\n",
    "    all_trajectory_names = list(hashed_similarities.keys()) # All trajectory names\n",
    "    true_positives = 0\n",
    "    false_positives = 0\n",
    "    false_negatives = 0\n",
    "    precision = 0 \n",
    "    recall = 0\n",
    "    f1_Score = 0\n",
    "\n",
    "    # Loop through all trajectory names\n",
    "    for trajectory in all_trajectory_names:\n",
    "        \n",
    "        # Pred and ground truth\n",
    "        predicted_similar = find_predicted_similar_trajectories(trajectory, bucket_system)\n",
    "        ground_truth = get_nearest_neighbour_under_threshold(trajectory, treshold, true_sim_matrix_df).index.to_list()  \n",
    "        true_positives += calculate_true_positives(predicted_similar, ground_truth)\n",
    "        false_positives += calculate_false_positives(predicted_similar, ground_truth)\n",
    "        false_negatives += calculate_false_negatives(predicted_similar, ground_truth)\n",
    "        \n",
    "    # Calculate precision and recall\n",
    "    precision = compute_bucket_system_precision(true_positives, false_positives)\n",
    "    recall = compute_bucket_system_recall(true_positives, false_negatives)\n",
    "    f1_score = compute_bucket_system_f1_score(precision, recall)\n",
    "\n",
    "    # print(f\"Bucket system statistics for city: {CITY}, measure: {MEASURE}, diameter: {DIAMETER}, layers: {LAYERS}, disks: {DISKS}, size: {SIZE}\")\n",
    "    # print(f\"Precision: {precision}\")\n",
    "    # print(f\"Recall: {recall}\")\n",
    "    # print(f\"F1-Score: {f1_score}\")\n",
    "    \n",
    "\n",
    "    results[\"Precision\"].append(precision)\n",
    "    results[\"Recall\"].append(recall)\n",
    "    results[\"F1 Score\"].append(f1_score)\n",
    "    \n",
    "    \n",
    "print(f\"Bucket system statistics for city: {CITY}, measure: {MEASURE}, diameter: {DIAMETER}, layers: {LAYERS}, disks: {DISKS}, size: {SIZE}\")\n",
    "# Create DataFrame with thresholds as columns and metrics as row indexes\n",
    "df = pd.DataFrame(results, index=[f\"Threshold = {t}\" for t in THRESHOLDS]).T\n",
    "\n",
    "df"
   ]
  },
  {
   "cell_type": "markdown",
   "metadata": {},
   "source": [
    "# Write to CSV"
   ]
  },
  {
   "cell_type": "markdown",
   "metadata": {},
   "source": []
  }
 ],
 "metadata": {
  "kernelspec": {
   "display_name": "master",
   "language": "python",
   "name": "python3"
  },
  "language_info": {
   "codemirror_mode": {
    "name": "ipython",
    "version": 3
   },
   "file_extension": ".py",
   "mimetype": "text/x-python",
   "name": "python",
   "nbconvert_exporter": "python",
   "pygments_lexer": "ipython3",
   "version": "3.13.0"
  }
 },
 "nbformat": 4,
 "nbformat_minor": 2
}
