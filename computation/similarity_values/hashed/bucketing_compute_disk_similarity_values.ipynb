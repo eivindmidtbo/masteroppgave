{
 "cells": [
  {
   "cell_type": "markdown",
   "metadata": {},
   "source": [
    "# Notebook for computing hashes, buckets and similarity values for the disk scheme. \n",
    "\n",
    "Utilizes the disk scheme\n",
    "\n",
    "Incorporates:\n",
    "* Hashing of trajectories using disk scheme\n",
    "* Bucketing of hashes made from disk scheme\n",
    "* Similarity computation between trajectories within buckets.\n",
    "    * Both for DTW and Frechet\n",
    "\n",
    "Produces:\n",
    "* JSON file containing buckets\n",
    "* Similarity values for trajectories within buckets\n"
   ]
  },
  {
   "cell_type": "code",
   "execution_count": 1,
   "metadata": {},
   "outputs": [
    {
     "name": "stdout",
     "output_type": "stream",
     "text": [
      "Project root found: c:\\Users\\eivin\\dev\\JoonEndreLSH\\masteroppgave\n"
     ]
    }
   ],
   "source": [
    "import os\n",
    "import sys\n",
    "\n",
    "def find_project_root(target_folder=\"masteroppgave\"):\n",
    "    \"\"\"Find the absolute path of a folder by searching upward.\"\"\"\n",
    "    currentdir = os.path.abspath(\"__file__\")  # Get absolute script path\n",
    "    while True:\n",
    "        if os.path.basename(currentdir) == target_folder:\n",
    "            return currentdir  # Found the target folder\n",
    "        parentdir = os.path.dirname(currentdir)\n",
    "        if parentdir == currentdir:  # Stop at filesystem root\n",
    "            return None\n",
    "        currentdir = parentdir  # Move one level up\n",
    "\n",
    "# Example usage\n",
    "project_root = find_project_root(\"masteroppgave\")\n",
    "\n",
    "if project_root:\n",
    "    sys.path.append(project_root)\n",
    "    print(f\"Project root found: {project_root}\")\n",
    "else:\n",
    "    raise RuntimeError(\"Could not find 'masteroppgave' directory\")\n"
   ]
  },
  {
   "cell_type": "markdown",
   "metadata": {},
   "source": [
    "# Rome\n"
   ]
  },
  {
   "cell_type": "code",
   "execution_count": null,
   "metadata": {},
   "outputs": [],
   "source": [
    "#write to file"
   ]
  },
  {
   "cell_type": "markdown",
   "metadata": {},
   "source": [
    "### DTW\n"
   ]
  },
  {
   "cell_type": "code",
   "execution_count": 2,
   "metadata": {},
   "outputs": [
    {
     "name": "stdout",
     "output_type": "stream",
     "text": [
      "Project root found: c:\\Users\\eivin\\dev\\JoonEndreLSH\\masteroppgave\n",
      "          R_ABU     R_ADV  R_AFZ     R_AKK  R_AKY    R_ARC    R_ARU     R_AVB  \\\n",
      "R_ABU  0.000000  0.000000    0.0  0.000000    0.0  0.00000  0.12624  0.000000   \n",
      "R_ADV  0.000000  0.000000    0.0  0.128451    0.0  0.00000  0.00000  0.181262   \n",
      "R_AFZ  0.000000  0.000000    0.0  0.000000    0.0  0.00000  0.00000  0.000000   \n",
      "R_AKK  0.000000  0.128451    0.0  0.000000    0.0  0.00000  0.00000  0.090051   \n",
      "R_AKY  0.000000  0.000000    0.0  0.000000    0.0  0.00000  0.00000  0.000000   \n",
      "R_ARC  0.000000  0.000000    0.0  0.000000    0.0  0.00000  0.00000  0.000000   \n",
      "R_ARU  0.126240  0.000000    0.0  0.000000    0.0  0.00000  0.00000  0.000000   \n",
      "R_AVB  0.000000  0.181262    0.0  0.090051    0.0  0.00000  0.00000  0.000000   \n",
      "R_AVD  0.000000  0.000000    0.0  0.000000    0.0  0.00000  0.00000  0.000000   \n",
      "R_AVF  0.000000  0.000000    0.0  0.000000    0.0  0.00000  0.00000  0.000000   \n",
      "R_AVK  0.000000  0.000000    0.0  0.104621    0.0  0.00000  0.00000  0.000000   \n",
      "R_AWU  0.000000  0.000000    0.0  0.000000    0.0  0.00000  0.00000  0.000000   \n",
      "R_AZS  0.000000  0.000000    0.0  0.000000    0.0  0.00000  0.00000  0.000000   \n",
      "R_BCU  0.000000  0.000000    0.0  0.000000    0.0  0.00000  0.00000  0.000000   \n",
      "R_BDC  0.000000  0.000000    0.0  0.000000    0.0  0.00000  0.00000  0.000000   \n",
      "R_BFS  0.000000  0.000000    0.0  0.000000    0.0  0.00000  0.00000  0.000000   \n",
      "R_BML  0.000000  0.000000    0.0  0.000000    0.0  0.00000  0.00000  0.000000   \n",
      "R_BNG  0.000000  0.000000    0.0  0.000000    0.0  0.00000  0.00000  0.000000   \n",
      "R_BRF  0.000000  0.000000    0.0  0.000000    0.0  0.00000  0.00000  0.000000   \n",
      "R_BTH  0.000000  0.000000    0.0  0.000000    0.0  0.00000  0.00000  0.000000   \n",
      "R_BUX  0.000000  0.000000    0.0  0.000000    0.0  0.00000  0.00000  0.000000   \n",
      "R_CAV  0.000000  0.000000    0.0  0.000000    0.0  0.00000  0.00000  0.000000   \n",
      "R_CCJ  0.000000  0.000000    0.0  0.000000    0.0  0.13396  0.00000  0.000000   \n",
      "R_CCQ  0.000000  0.000000    0.0  0.000000    0.0  0.00000  0.00000  0.000000   \n",
      "R_CCZ  0.000000  0.000000    0.0  0.000000    0.0  0.00000  0.00000  0.000000   \n",
      "R_CDU  0.000000  0.274086    0.0  0.000000    0.0  0.00000  0.00000  0.000000   \n",
      "R_CEX  0.000000  0.171862    0.0  0.006655    0.0  0.00000  0.00000  0.096706   \n",
      "R_CFV  0.000000  0.000000    0.0  0.000000    0.0  0.00000  0.00000  0.000000   \n",
      "R_CIV  0.052436  0.000000    0.0  0.000000    0.0  0.00000  0.00000  0.000000   \n",
      "R_CNH  0.000000  0.000000    0.0  0.000000    0.0  0.00000  0.00000  0.000000   \n",
      "R_COQ  0.000000  0.000000    0.0  0.000000    0.0  0.00000  0.00000  0.000000   \n",
      "R_CPD  0.000000  0.000000    0.0  0.000000    0.0  0.00000  0.00000  0.000000   \n",
      "R_CRC  0.000000  0.000000    0.0  0.000000    0.0  0.00000  0.00000  0.000000   \n",
      "R_CYW  0.000000  0.303734    0.0  0.000000    0.0  0.00000  0.00000  0.000000   \n",
      "R_DAQ  0.000000  0.000000    0.0  0.000000    0.0  0.00000  0.00000  0.000000   \n",
      "R_DDN  0.000000  0.000000    0.0  0.000000    0.0  0.00000  0.00000  0.000000   \n",
      "R_DGV  0.000000  0.000000    0.0  0.000000    0.0  0.00000  0.00000  0.000000   \n",
      "R_DJT  0.000000  0.000000    0.0  0.000000    0.0  0.00000  0.00000  0.000000   \n",
      "R_DOY  0.000000  0.000000    0.0  0.000000    0.0  0.00000  0.00000  0.000000   \n",
      "R_DUB  0.000000  0.000000    0.0  0.000000    0.0  0.00000  0.00000  0.000000   \n",
      "R_DUV  0.000000  0.000000    0.0  0.000000    0.0  0.00000  0.00000  0.000000   \n",
      "R_DVK  0.000000  0.000000    0.0  0.000000    0.0  0.00000  0.00000  0.000000   \n",
      "R_DYX  0.067420  0.000000    0.0  0.000000    0.0  0.00000  0.00000  0.000000   \n",
      "R_EBK  0.000000  0.000000    0.0  0.000000    0.0  0.00000  0.00000  0.000000   \n",
      "R_ECN  0.000000  0.000000    0.0  0.000000    0.0  0.00000  0.00000  0.000000   \n",
      "R_ECP  0.000000  0.000000    0.0  0.000000    0.0  0.00000  0.00000  0.000000   \n",
      "R_EDS  0.000000  0.000000    0.0  0.000000    0.0  0.00000  0.00000  0.000000   \n",
      "R_EDX  0.000000  0.000000    0.0  0.000000    0.0  0.00000  0.00000  0.000000   \n",
      "R_EFS  0.000000  0.000000    0.0  0.000000    0.0  0.00000  0.00000  0.000000   \n",
      "R_EHK  0.000000  0.000000    0.0  0.000000    0.0  0.00000  0.00000  0.000000   \n",
      "\n",
      "          R_AVD  R_AVF  ...  R_DUV  R_DVK     R_DYX  R_EBK     R_ECN  \\\n",
      "R_ABU  0.000000    0.0  ...    0.0    0.0  0.067420    0.0  0.000000   \n",
      "R_ADV  0.000000    0.0  ...    0.0    0.0  0.000000    0.0  0.000000   \n",
      "R_AFZ  0.000000    0.0  ...    0.0    0.0  0.000000    0.0  0.000000   \n",
      "R_AKK  0.000000    0.0  ...    0.0    0.0  0.000000    0.0  0.000000   \n",
      "R_AKY  0.000000    0.0  ...    0.0    0.0  0.000000    0.0  0.000000   \n",
      "R_ARC  0.000000    0.0  ...    0.0    0.0  0.000000    0.0  0.000000   \n",
      "R_ARU  0.000000    0.0  ...    0.0    0.0  0.000000    0.0  0.000000   \n",
      "R_AVB  0.000000    0.0  ...    0.0    0.0  0.000000    0.0  0.000000   \n",
      "R_AVD  0.000000    0.0  ...    0.0    0.0  0.000000    0.0  0.000000   \n",
      "R_AVF  0.000000    0.0  ...    0.0    0.0  0.000000    0.0  0.000000   \n",
      "R_AVK  0.000000    0.0  ...    0.0    0.0  0.000000    0.0  0.000000   \n",
      "R_AWU  0.102176    0.0  ...    0.0    0.0  0.000000    0.0  0.000000   \n",
      "R_AZS  0.000000    0.0  ...    0.0    0.0  0.000000    0.0  0.000000   \n",
      "R_BCU  0.000000    0.0  ...    0.0    0.0  0.000000    0.0  0.000000   \n",
      "R_BDC  0.000000    0.0  ...    0.0    0.0  0.000000    0.0  0.000000   \n",
      "R_BFS  0.000000    0.0  ...    0.0    0.0  0.000000    0.0  0.000000   \n",
      "R_BML  0.000000    0.0  ...    0.0    0.0  0.000000    0.0  0.000000   \n",
      "R_BNG  0.000000    0.0  ...    0.0    0.0  0.000000    0.0  0.000000   \n",
      "R_BRF  0.000000    0.0  ...    0.0    0.0  0.000000    0.0  0.000000   \n",
      "R_BTH  0.000000    0.0  ...    0.0    0.0  0.000000    0.0  0.000000   \n",
      "R_BUX  0.000000    0.0  ...    0.0    0.0  0.000000    0.0  0.000000   \n",
      "R_CAV  0.000000    0.0  ...    0.0    0.0  0.000000    0.0  0.000000   \n",
      "R_CCJ  0.000000    0.0  ...    0.0    0.0  0.000000    0.0  0.000000   \n",
      "R_CCQ  0.000000    0.0  ...    0.0    0.0  0.000000    0.0  0.000000   \n",
      "R_CCZ  0.000000    0.0  ...    0.0    0.0  0.000000    0.0  0.000000   \n",
      "R_CDU  0.000000    0.0  ...    0.0    0.0  0.000000    0.0  0.000000   \n",
      "R_CEX  0.000000    0.0  ...    0.0    0.0  0.000000    0.0  0.000000   \n",
      "R_CFV  0.000000    0.0  ...    0.0    0.0  0.000000    0.0  0.000000   \n",
      "R_CIV  0.000000    0.0  ...    0.0    0.0  0.020956    0.0  0.000000   \n",
      "R_CNH  0.000000    0.0  ...    0.0    0.0  0.000000    0.0  0.000000   \n",
      "R_COQ  0.000000    0.0  ...    0.0    0.0  0.000000    0.0  0.000000   \n",
      "R_CPD  0.000000    0.0  ...    0.0    0.0  0.000000    0.0  0.000000   \n",
      "R_CRC  0.000000    0.0  ...    0.0    0.0  0.000000    0.0  0.000000   \n",
      "R_CYW  0.000000    0.0  ...    0.0    0.0  0.000000    0.0  0.000000   \n",
      "R_DAQ  0.000000    0.0  ...    0.0    0.0  0.000000    0.0  0.271936   \n",
      "R_DDN  0.000000    0.0  ...    0.0    0.0  0.000000    0.0  0.000000   \n",
      "R_DGV  0.000000    0.0  ...    0.0    0.0  0.000000    0.0  0.000000   \n",
      "R_DJT  0.000000    0.0  ...    0.0    0.0  0.000000    0.0  0.000000   \n",
      "R_DOY  0.000000    0.0  ...    0.0    0.0  0.000000    0.0  0.000000   \n",
      "R_DUB  0.000000    0.0  ...    0.0    0.0  0.000000    0.0  0.000000   \n",
      "R_DUV  0.000000    0.0  ...    0.0    0.0  0.000000    0.0  0.000000   \n",
      "R_DVK  0.000000    0.0  ...    0.0    0.0  0.000000    0.0  0.000000   \n",
      "R_DYX  0.000000    0.0  ...    0.0    0.0  0.000000    0.0  0.000000   \n",
      "R_EBK  0.000000    0.0  ...    0.0    0.0  0.000000    0.0  0.000000   \n",
      "R_ECN  0.000000    0.0  ...    0.0    0.0  0.000000    0.0  0.000000   \n",
      "R_ECP  0.000000    0.0  ...    0.0    0.0  0.000000    0.0  0.000000   \n",
      "R_EDS  0.000000    0.0  ...    0.0    0.0  0.000000    0.0  0.000000   \n",
      "R_EDX  0.000000    0.0  ...    0.0    0.0  0.000000    0.0  0.000000   \n",
      "R_EFS  0.000000    0.0  ...    0.0    0.0  0.000000    0.0  0.000000   \n",
      "R_EHK  0.000000    0.0  ...    0.0    0.0  0.000000    0.0  0.000000   \n",
      "\n",
      "          R_ECP     R_EDS    R_EDX  R_EFS     R_EHK  \n",
      "R_ABU  0.000000  0.000000  0.00000    0.0  0.000000  \n",
      "R_ADV  0.000000  0.000000  0.00000    0.0  0.000000  \n",
      "R_AFZ  0.000000  0.000000  0.00000    0.0  0.000000  \n",
      "R_AKK  0.000000  0.000000  0.00000    0.0  0.000000  \n",
      "R_AKY  0.000000  0.000000  0.00000    0.0  0.000000  \n",
      "R_ARC  0.000000  0.000000  0.00000    0.0  0.000000  \n",
      "R_ARU  0.000000  0.000000  0.00000    0.0  0.000000  \n",
      "R_AVB  0.000000  0.000000  0.00000    0.0  0.000000  \n",
      "R_AVD  0.000000  0.000000  0.00000    0.0  0.000000  \n",
      "R_AVF  0.000000  0.000000  0.00000    0.0  0.000000  \n",
      "R_AVK  0.000000  0.000000  0.00000    0.0  0.000000  \n",
      "R_AWU  0.000000  0.000000  0.00000    0.0  0.000000  \n",
      "R_AZS  0.000000  0.000000  0.00000    0.0  0.000000  \n",
      "R_BCU  0.000000  0.000000  0.00000    0.0  0.000000  \n",
      "R_BDC  0.000000  0.000000  0.00000    0.0  0.000000  \n",
      "R_BFS  0.000000  0.000000  0.00000    0.0  0.000000  \n",
      "R_BML  0.000000  0.000000  0.00000    0.0  0.000000  \n",
      "R_BNG  0.000000  0.000000  0.00000    0.0  0.000000  \n",
      "R_BRF  0.000000  0.000000  0.00000    0.0  0.000000  \n",
      "R_BTH  0.000000  0.000000  0.00000    0.0  0.000000  \n",
      "R_BUX  0.000000  0.000000  0.00000    0.0  0.000000  \n",
      "R_CAV  0.000000  0.000000  0.00000    0.0  0.000000  \n",
      "R_CCJ  0.000000  0.000000  0.00000    0.0  0.000000  \n",
      "R_CCQ  0.000000  0.000000  0.00000    0.0  0.000000  \n",
      "R_CCZ  0.000000  0.000000  0.00000    0.0  0.000000  \n",
      "R_CDU  0.000000  0.000000  0.00000    0.0  0.000000  \n",
      "R_CEX  0.000000  0.000000  0.00000    0.0  0.000000  \n",
      "R_CFV  0.000000  0.000000  0.00000    0.0  0.000000  \n",
      "R_CIV  0.000000  0.000000  0.00000    0.0  0.000000  \n",
      "R_CNH  0.000000  0.000000  0.00000    0.0  0.000000  \n",
      "R_COQ  0.000000  0.000000  0.00000    0.0  0.000000  \n",
      "R_CPD  0.000000  0.000000  0.00000    0.0  0.000000  \n",
      "R_CRC  0.000000  0.000000  0.00000    0.0  0.000000  \n",
      "R_CYW  0.000000  0.000000  0.00000    0.0  0.190584  \n",
      "R_DAQ  0.000000  0.000000  0.00000    0.0  0.000000  \n",
      "R_DDN  0.000000  0.000000  0.00000    0.0  0.000000  \n",
      "R_DGV  0.000000  0.000000  0.00000    0.0  0.000000  \n",
      "R_DJT  0.000000  0.000000  0.00000    0.0  0.000000  \n",
      "R_DOY  0.000000  0.000000  0.18159    0.0  0.000000  \n",
      "R_DUB  0.000000  0.000000  0.00000    0.0  0.000000  \n",
      "R_DUV  0.000000  0.000000  0.00000    0.0  0.000000  \n",
      "R_DVK  0.000000  0.000000  0.00000    0.0  0.000000  \n",
      "R_DYX  0.000000  0.000000  0.00000    0.0  0.000000  \n",
      "R_EBK  0.000000  0.000000  0.00000    0.0  0.000000  \n",
      "R_ECN  0.000000  0.000000  0.00000    0.0  0.000000  \n",
      "R_ECP  0.000000  0.240052  0.00000    0.0  0.000000  \n",
      "R_EDS  0.240052  0.000000  0.00000    0.0  0.000000  \n",
      "R_EDX  0.000000  0.000000  0.00000    0.0  0.000000  \n",
      "R_EFS  0.000000  0.000000  0.00000    0.0  0.000000  \n",
      "R_EHK  0.000000  0.000000  0.00000    0.0  0.000000  \n",
      "\n",
      "[50 rows x 50 columns]\n"
     ]
    }
   ],
   "source": [
    "from computation.disk_similarity import generate_disk_hash_similarity_with_bucketing\n",
    "\n",
    "\n",
    "measure = \"dtw\"\n",
    "similarities, bucket_system = generate_disk_hash_similarity_with_bucketing(\n",
    "    city=\"rome\", diameter=0.6, layers=5, disks=50, measure=measure, size=50\n",
    ")\n",
    "\n",
    "# # print all elements in bucket_system\n",
    "# for key, value in bucket_system.items():\n",
    "#     print(key, value)\n",
    "\n",
    "\n",
    "\n",
    "print(similarities)\n",
    "output_path = \"../../../results_hashed/similarity_values/disk/rome/dtw/\"\n",
    "\n",
    "\n",
    "similarities.to_csv(os.path.join(output_path, \"disk_rome-dtw.csv\"))"
   ]
  },
  {
   "cell_type": "code",
   "execution_count": 3,
   "metadata": {},
   "outputs": [
    {
     "name": "stdout",
     "output_type": "stream",
     "text": [
      "Accessing row R_DVK and column R_CAV\n"
     ]
    },
    {
     "data": {
      "text/plain": [
       "0.4753952612424382"
      ]
     },
     "execution_count": 3,
     "metadata": {},
     "output_type": "execute_result"
    }
   ],
   "source": [
    "import pandas as pd\n",
    "\n",
    "ROME_TRUE_SIMILARITY_FILE = \"../../../results_true/similarity_values/rome/dtw/rome-dtw-3050.csv\"\n",
    "\n",
    "def get_true_similarity(filename1: str, filename2: str) -> float | None:\n",
    "    \"\"\"\n",
    "    Find the true similarity between two trajectory filenames using a similarity matrix file.\n",
    "\n",
    "    Args:\n",
    "        filename1 (str): First trajectory file (with or without `.txt`).\n",
    "        filename2 (str): Second trajectory file (with or without `.txt`).\n",
    "\n",
    "    Returns:\n",
    "        float | None: The similarity value if found, otherwise None.\n",
    "    \"\"\"\n",
    "    # Load the similarity matrix CSV\n",
    "    similarity_df = pd.read_csv(ROME_TRUE_SIMILARITY_FILE, index_col=0)\n",
    "    \n",
    "    # Clean file names by removing '.txt'\n",
    "    t1_clean = filename1.replace('.txt', '')\n",
    "    t2_clean = filename2.replace('.txt', '')\n",
    "\n",
    "    # Ensure correct row-column order for the matrix\n",
    "    if t1_clean < t2_clean:\n",
    "        t1_clean, t2_clean = t2_clean, t1_clean\n",
    "\n",
    "    # Check if both are in the DataFrame\n",
    "    if t1_clean in similarity_df.index and t2_clean in similarity_df.columns:\n",
    "        print(f\"Accessing row {t1_clean} and column {t2_clean}\")\n",
    "        return float(similarity_df.loc[t1_clean, t2_clean])\n",
    "    elif t2_clean in similarity_df.index and t1_clean in similarity_df.columns:\n",
    "        print(f\"Accessing row {t2_clean} and column {t1_clean}\")\n",
    "        return float(similarity_df.loc[t2_clean, t1_clean])\n",
    "    else:\n",
    "        print(f\"Missing pair in similarity matrix: {filename1}, {filename2}\")\n",
    "        return None\n",
    "    \n",
    "\n",
    "get_true_similarity(\"R_CAV\", \"R_DVK\")\n"
   ]
  },
  {
   "cell_type": "markdown",
   "metadata": {},
   "source": [
    "### Frechet\n"
   ]
  },
  {
   "cell_type": "code",
   "execution_count": null,
   "metadata": {},
   "outputs": [],
   "source": [
    "measure = \"frechet\"\n",
    "similarities = generate_disk_hash_similarity(\n",
    "    city=\"rome\", diameter=1.6, layers=5, disks=100, measure=measure, size=500\n",
    ")\n",
    "output_path = f\"similarity_values/disk/rome/disk_rome-{measure}.csv\"\n",
    "# similarities.to_csv(os.path.abspath(output_path))"
   ]
  },
  {
   "cell_type": "markdown",
   "metadata": {},
   "source": [
    "# Porto\n"
   ]
  },
  {
   "cell_type": "code",
   "execution_count": null,
   "metadata": {},
   "outputs": [],
   "source": [
    "measure = \"dtw\"\n",
    "similarities = generate_disk_hash_similarity(\n",
    "    \"porto\", diameter=2.2, layers=4, disks=60, measure=measure, size=50\n",
    ")\n",
    "output_path = f\"similarity_values/disk/porto/disk_porto-{measure}.csv\"\n",
    "similarities.to_csv(os.path.abspath(output_path))"
   ]
  }
 ],
 "metadata": {
  "kernelspec": {
   "display_name": "master_repo",
   "language": "python",
   "name": "python3"
  },
  "language_info": {
   "codemirror_mode": {
    "name": "ipython",
    "version": 3
   },
   "file_extension": ".py",
   "mimetype": "text/x-python",
   "name": "python",
   "nbconvert_exporter": "python",
   "pygments_lexer": "ipython3",
   "version": "3.13.0"
  }
 },
 "nbformat": 4,
 "nbformat_minor": 2
}
