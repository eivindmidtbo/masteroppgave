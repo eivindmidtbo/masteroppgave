{
 "cells": [
  {
   "cell_type": "markdown",
   "metadata": {},
   "source": [
    "# Notebook for computing hashes, buckets and similarity values for the grid scheme. \n",
    "\n",
    "Utilizes the grid scheme\n",
    "\n",
    "Incorporates:\n",
    "* Hashing of trajectories using grid scheme\n",
    "* Bucketing of hashes made from grid scheme\n",
    "* Similarity computation between trajectories within buckets.\n",
    "    * Both for DTW and Frechet\n",
    "\n",
    "Produces:\n",
    "* JSON file containing buckets\n",
    "* Similarity values for trajectories within buckets\n"
   ]
  },
  {
   "cell_type": "code",
   "execution_count": 1,
   "metadata": {},
   "outputs": [
    {
     "name": "stdout",
     "output_type": "stream",
     "text": [
      "Project root found: /Users/thomasnitsche/Developer/skole/master/masteroppgave\n",
      "Project root found: /Users/thomasnitsche/Developer/skole/master/masteroppgave\n"
     ]
    }
   ],
   "source": [
    "\n",
    "# Importing nescessary modules\n",
    "import os\n",
    "import sys\n",
    "\n",
    "def find_project_root(target_folder=\"masteroppgave\"):\n",
    "    \"\"\"Find the absolute path of a folder by searching upward.\"\"\"\n",
    "    currentdir = os.path.abspath(\"__file__\")  # Get absolute script path\n",
    "    while True:\n",
    "        if os.path.basename(currentdir) == target_folder:\n",
    "            return currentdir  # Found the target folder\n",
    "        parentdir = os.path.dirname(currentdir)\n",
    "        if parentdir == currentdir:  # Stop at filesystem root\n",
    "            return None\n",
    "        currentdir = parentdir  # Move one level up\n",
    "\n",
    "# Example usage\n",
    "project_root = find_project_root(\"masteroppgave\")\n",
    "\n",
    "if project_root:\n",
    "    sys.path.append(project_root)\n",
    "    print(f\"Project root found: {project_root}\")\n",
    "else:\n",
    "    raise RuntimeError(\"Could not find 'masteroppgave' directory\")\n",
    "\n",
    "\n",
    "#Other imports\n",
    "from computation.grid_similarity import generate_grid_hash_similarity_with_bucketing\n",
    "import json\n",
    "import pandas as pd\n",
    "\n"
   ]
  },
  {
   "cell_type": "markdown",
   "metadata": {},
   "source": [
    "# Rome\n"
   ]
  },
  {
   "cell_type": "markdown",
   "metadata": {},
   "source": [
    "### DTW\n"
   ]
  },
  {
   "cell_type": "code",
   "execution_count": 2,
   "metadata": {},
   "outputs": [],
   "source": [
    "city = \"rome\" #City to use\n",
    "measure = \"dtw\" #Measure to use\n",
    "res = 1.9 #Resolution to use\n",
    "layers = 2 #Number of layers to use\n",
    "size = 50 #Size of the grid to use\n",
    "\n",
    "\n",
    "#Creates buckets and similarity matrix\n",
    "similarities, bucket_system = generate_grid_hash_similarity_with_bucketing(\n",
    "    city=city, res=res, layers=layers, measure=measure, size=size\n",
    ")"
   ]
  },
  {
   "cell_type": "markdown",
   "metadata": {},
   "source": [
    "### Write buckets to JSON and similarity matrix to CSV"
   ]
  },
  {
   "cell_type": "code",
   "execution_count": 4,
   "metadata": {},
   "outputs": [],
   "source": [
    "# Write the bucket system to a JSON file\n",
    "bucket_system_output_file_path = f\"../../../results_hashed/buckets/grid/rome/rome_grid_resolution_{res}_layers_{layers}_trajectories_{size}.json\"\n",
    "with open(bucket_system_output_file_path, \"w\") as f:\n",
    "    json.dump(bucket_system, f)\n",
    "    \n",
    "# Write similarity values to csv\n",
    "output_path = \"../../../results_hashed/similarity_values/grid/rome/dtw/\"\n",
    "similarities.to_csv(os.path.join(output_path, f\"rome_grid_resolution_{res}_layers_{layers}_trajectories_{size}_{measure}.csv\"))\n"
   ]
  },
  {
   "cell_type": "markdown",
   "metadata": {},
   "source": [
    "### Frechet\n"
   ]
  },
  {
   "cell_type": "code",
   "execution_count": null,
   "metadata": {},
   "outputs": [],
   "source": [
    "measure = \"frechet\"\n",
    "similarities = generate_disk_hash_similarity(\n",
    "    city=\"rome\", diameter=1.6, layers=5, disks=100, measure=measure, size=500\n",
    ")\n",
    "output_path = f\"similarity_values/disk/rome/disk_rome-{measure}.csv\"\n",
    "similarities.to_csv(os.path.abspath(output_path))"
   ]
  },
  {
   "cell_type": "markdown",
   "metadata": {},
   "source": [
    "# Porto\n"
   ]
  },
  {
   "cell_type": "code",
   "execution_count": null,
   "metadata": {},
   "outputs": [],
   "source": [
    "measure = \"dtw\"\n",
    "similarities = generate_disk_hash_similarity(\n",
    "    \"porto\", diameter=2.2, layers=4, disks=60, measure=measure, size=50\n",
    ")\n",
    "output_path = f\"similarity_values/disk/porto/disk_porto-{measure}.csv\"\n",
    "similarities.to_csv(os.path.abspath(output_path))"
   ]
  }
 ],
 "metadata": {
  "kernelspec": {
   "display_name": "master_repo",
   "language": "python",
   "name": "python3"
  },
  "language_info": {
   "codemirror_mode": {
    "name": "ipython",
    "version": 3
   },
   "file_extension": ".py",
   "mimetype": "text/x-python",
   "name": "python",
   "nbconvert_exporter": "python",
   "pygments_lexer": "ipython3",
   "version": "3.13.0"
  }
 },
 "nbformat": 4,
 "nbformat_minor": 2
}
