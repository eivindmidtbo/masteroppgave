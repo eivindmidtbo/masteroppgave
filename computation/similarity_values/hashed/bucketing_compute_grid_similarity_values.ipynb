{
 "cells": [
  {
   "cell_type": "markdown",
   "metadata": {},
   "source": [
    "# Notebook for computing hashes, buckets and similarity values for the grid scheme. \n",
    "\n",
    "Utilizes the grid scheme\n",
    "\n",
    "Incorporates:\n",
    "* Hashing of trajectories using grid scheme\n",
    "* Bucketing of hashes made from grid scheme\n",
    "* Similarity computation between trajectories within buckets.\n",
    "    * Both for DTW and Frechet\n",
    "\n",
    "Produces:\n",
    "* JSON file containing buckets\n",
    "* Similarity values for trajectories within buckets\n"
   ]
  },
  {
   "cell_type": "code",
   "execution_count": 3,
   "metadata": {},
   "outputs": [
    {
     "name": "stdout",
     "output_type": "stream",
     "text": [
      "Project root found: c:\\Users\\eivin\\dev\\JoonEndreLSH\\masteroppgave\n"
     ]
    },
    {
     "ename": "ModuleNotFoundError",
     "evalue": "No module named 'disk_similarity'",
     "output_type": "error",
     "traceback": [
      "\u001b[1;31m---------------------------------------------------------------------------\u001b[0m",
      "\u001b[1;31mModuleNotFoundError\u001b[0m                       Traceback (most recent call last)",
      "Cell \u001b[1;32mIn[3], line 36\u001b[0m\n\u001b[0;32m     34\u001b[0m \u001b[38;5;28;01mimport\u001b[39;00m \u001b[38;5;21;01mjson\u001b[39;00m\n\u001b[0;32m     35\u001b[0m \u001b[38;5;28;01mfrom\u001b[39;00m \u001b[38;5;21;01mcomputation\u001b[39;00m\u001b[38;5;21;01m.\u001b[39;00m\u001b[38;5;21;01mdisk_similarity\u001b[39;00m \u001b[38;5;28;01mimport\u001b[39;00m generate_disk_hash_similarity\n\u001b[1;32m---> 36\u001b[0m \u001b[38;5;28;01mfrom\u001b[39;00m \u001b[38;5;21;01mdisk_similarity\u001b[39;00m \u001b[38;5;28;01mimport\u001b[39;00m generate_disk_hash_similarity\n\u001b[0;32m     38\u001b[0m \u001b[38;5;28;01mimport\u001b[39;00m \u001b[38;5;21;01mos\u001b[39;00m\n",
      "\u001b[1;31mModuleNotFoundError\u001b[0m: No module named 'disk_similarity'"
     ]
    }
   ],
   "source": [
    "\n",
    "# Importing nescessary modules\n",
    "import os\n",
    "import sys\n",
    "import shutil\n",
    "import timeit as ti\n",
    "from tqdm import tqdm\n",
    "\n",
    "from multiprocessing import Pool\n",
    "\n",
    "def find_project_root(target_folder=\"masteroppgave\"):\n",
    "    \"\"\"Find the absolute path of a folder by searching upward.\"\"\"\n",
    "    currentdir = os.path.abspath(\"__file__\")  # Get absolute script path\n",
    "    while True:\n",
    "        if os.path.basename(currentdir) == target_folder:\n",
    "            return currentdir  # Found the target folder\n",
    "        parentdir = os.path.dirname(currentdir)\n",
    "        if parentdir == currentdir:  # Stop at filesystem root\n",
    "            return None\n",
    "        currentdir = parentdir  # Move one level up\n",
    "\n",
    "# Example usage\n",
    "project_root = find_project_root(\"masteroppgave\")\n",
    "\n",
    "if project_root:\n",
    "    sys.path.append(project_root)\n",
    "    print(f\"Project root found: {project_root}\")\n",
    "else:\n",
    "    raise RuntimeError(\"Could not find 'masteroppgave' directory\")\n",
    "\n",
    "from utils.helpers.save_trajectory import save_trajectory_hashes\n",
    "from utils.helpers import file_handler as fh\n",
    "from utils.helpers import metafile_handler as mfh\n",
    "from schemes.lsh_disk import DiskLSH\n",
    "import json\n",
    "from computation.disk_similarity import generate_disk_hash_similarity\n",
    "from disk_similarity import generate_disk_hash_similarity\n",
    "\n",
    "import os"
   ]
  },
  {
   "cell_type": "markdown",
   "metadata": {},
   "source": [
    "# Rome\n"
   ]
  },
  {
   "cell_type": "markdown",
   "metadata": {},
   "source": [
    "### DTW\n"
   ]
  },
  {
   "cell_type": "code",
   "execution_count": 2,
   "metadata": {},
   "outputs": [],
   "source": [
    "measure = \"dtw\"\n",
    "similarities = generate_disk_hash_similarity(\n",
    "    city=\"rome\", diameter=0.6, layers=5, disks=50, measure=measure, size=50\n",
    ")\n",
    "output_path = f\"similarity_values/disk/rome/disk_rome-{measure}.csv\"\n",
    "similarities.to_csv(os.path.abspath(output_path))"
   ]
  },
  {
   "cell_type": "markdown",
   "metadata": {},
   "source": [
    "### Frechet\n"
   ]
  },
  {
   "cell_type": "code",
   "execution_count": null,
   "metadata": {},
   "outputs": [],
   "source": [
    "measure = \"frechet\"\n",
    "similarities = generate_disk_hash_similarity(\n",
    "    city=\"rome\", diameter=1.6, layers=5, disks=100, measure=measure, size=500\n",
    ")\n",
    "output_path = f\"similarity_values/disk/rome/disk_rome-{measure}.csv\"\n",
    "similarities.to_csv(os.path.abspath(output_path))"
   ]
  },
  {
   "cell_type": "markdown",
   "metadata": {},
   "source": [
    "# Porto\n"
   ]
  },
  {
   "cell_type": "code",
   "execution_count": null,
   "metadata": {},
   "outputs": [],
   "source": [
    "measure = \"dtw\"\n",
    "similarities = generate_disk_hash_similarity(\n",
    "    \"porto\", diameter=2.2, layers=4, disks=60, measure=measure, size=50\n",
    ")\n",
    "output_path = f\"similarity_values/disk/porto/disk_porto-{measure}.csv\"\n",
    "similarities.to_csv(os.path.abspath(output_path))"
   ]
  }
 ],
 "metadata": {
  "kernelspec": {
   "display_name": "master_repo",
   "language": "python",
   "name": "python3"
  },
  "language_info": {
   "codemirror_mode": {
    "name": "ipython",
    "version": 3
   },
   "file_extension": ".py",
   "mimetype": "text/x-python",
   "name": "python",
   "nbconvert_exporter": "python",
   "pygments_lexer": "ipython3",
   "version": "3.13.0"
  }
 },
 "nbformat": 4,
 "nbformat_minor": 2
}
