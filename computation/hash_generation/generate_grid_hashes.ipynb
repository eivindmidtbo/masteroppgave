{
 "cells": [
  {
   "cell_type": "markdown",
   "metadata": {},
   "source": [
    "# Notebook for the creation of the grid lsh hashes for both datasets\n",
    "\n",
    "Sheet that converts the extracted data from the data/chosen_data folder to hashes that will be stored in data/hashed_data/disk"
   ]
  },
  {
   "cell_type": "code",
   "execution_count": 15,
   "metadata": {},
   "outputs": [
    {
     "name": "stdout",
     "output_type": "stream",
     "text": [
      "Project root found: c:\\Users\\eivin\\dev\\JoonEndreLSH\\masteroppgave\n"
     ]
    }
   ],
   "source": [
    "# Importing nescessary modules\n",
    "import os\n",
    "import sys\n",
    "import shutil\n",
    "from multiprocessing import Pool\n",
    "\n",
    "\n",
    "def find_project_root(target_folder=\"masteroppgave\"):\n",
    "    \"\"\"Find the absolute path of a folder by searching upward.\"\"\"\n",
    "    currentdir = os.path.abspath(\"__file__\")  # Get absolute script path\n",
    "    while True:\n",
    "        if os.path.basename(currentdir) == target_folder:\n",
    "            return currentdir  # Found the target folder\n",
    "        parentdir = os.path.dirname(currentdir)\n",
    "        if parentdir == currentdir:  # Stop at filesystem root\n",
    "            return None\n",
    "        currentdir = parentdir  # Move one level up\n",
    "\n",
    "# Example usage\n",
    "project_root = find_project_root(\"masteroppgave\")\n",
    "\n",
    "if project_root:\n",
    "    sys.path.append(project_root)\n",
    "    print(f\"Project root found: {project_root}\")\n",
    "else:\n",
    "    raise RuntimeError(\"Could not find 'masteroppgave' directory\")\n",
    "\n",
    "from utils.helpers.save_trajectory import save_trajectory_hashes\n",
    "from utils.helpers import file_handler as fh\n",
    "from utils.helpers import metafile_handler as mfh\n",
    "from schemes.lsh_grid import GridLSH"
   ]
  },
  {
   "cell_type": "code",
   "execution_count": 16,
   "metadata": {},
   "outputs": [],
   "source": [
    "from constants import (\n",
    "    P_MAX_LON,\n",
    "    P_MIN_LON,\n",
    "    P_MAX_LAT,\n",
    "    P_MIN_LAT,\n",
    "    R_MAX_LON,\n",
    "    R_MIN_LON,\n",
    "    R_MAX_LAT,\n",
    "    R_MIN_LAT,\n",
    ")\n",
    "\n",
    "# Declaring global variables:\n",
    "\n",
    "SHOULD_DELETE_OLD_FILES = True\n",
    "\n",
    "PORTO_OUTPUT_FOLDER = \"../../dataset/hashed_data/grid/porto/\"\n",
    "ROME_OUTPUT_FOLDER = \"../../dataset/hashed_data/grid/rome/\"\n",
    "\n",
    "PORTO_DATA_FOLDER = \"../../dataset/porto/output/\"\n",
    "ROME_DATA_FOLDER = \"../../dataset/rome/output/\"\n"
   ]
  },
  {
   "cell_type": "markdown",
   "metadata": {},
   "source": [
    "# Rome LSH Grid\n"
   ]
  },
  {
   "cell_type": "code",
   "execution_count": 17,
   "metadata": {},
   "outputs": [],
   "source": [
    "# Run this cell to clear the chosen files in the ROME folder\n",
    "\n",
    "if SHOULD_DELETE_OLD_FILES:\n",
    "    fh.delete_old_files(ROME_OUTPUT_FOLDER, \".gitkeep\")"
   ]
  },
  {
   "cell_type": "code",
   "execution_count": 18,
   "metadata": {},
   "outputs": [],
   "source": [
    "# Create Grid hash object for Rome and saves them to output folder. Also copies the metafiles denoting the different datasets\n",
    "\n",
    "resolution = 1.2  # km\n",
    "layers = 5\n",
    "meta_file = f\"{ROME_OUTPUT_FOLDER}META-50.txt\"\n",
    "\n",
    "GridRome = GridLSH(\n",
    "    \"Rome G1\",\n",
    "    R_MIN_LAT,\n",
    "    R_MAX_LAT,\n",
    "    R_MIN_LON,\n",
    "    R_MAX_LON,\n",
    "    resolution,\n",
    "    layers,\n",
    "    meta_file,\n",
    "    ROME_DATA_FOLDER,\n",
    ")"
   ]
  },
  {
   "cell_type": "code",
   "execution_count": 19,
   "metadata": {},
   "outputs": [],
   "source": [
    "# Copying the meta_files:\n",
    "meta_files = mfh.get_meta_files(ROME_DATA_FOLDER)\n",
    "\n",
    "for filename in meta_files:\n",
    "    shutil.copy(ROME_DATA_FOLDER + filename, ROME_OUTPUT_FOLDER)\n",
    "\n",
    "# Generate the hashes and save them to output folder\n",
    "\n",
    "hashes = GridRome.compute_dataset_hashes()\n",
    "\n",
    "save_trajectory_hashes(ROME_OUTPUT_FOLDER, hashes)\n",
    "\n"
   ]
  },
  {
   "cell_type": "markdown",
   "metadata": {},
   "source": [
    "# Porto LSH Grid\n"
   ]
  },
  {
   "cell_type": "code",
   "execution_count": 20,
   "metadata": {},
   "outputs": [],
   "source": [
    "# Run this cell to clear the chosen files in the PORTO folder\n",
    "\n",
    "if SHOULD_DELETE_OLD_FILES:\n",
    "    fh.delete_old_files(PORTO_OUTPUT_FOLDER, \".gitkeep\")"
   ]
  },
  {
   "cell_type": "code",
   "execution_count": 21,
   "metadata": {},
   "outputs": [],
   "source": [
    "# Create Grid LSH objec for Porto\n",
    "\n",
    "resolution = 1.6  # km\n",
    "layers = 5\n",
    "meta_file = f\"{PORTO_OUTPUT_FOLDER}META-50.txt\"\n",
    "\n",
    "GridPorto = GridLSH(\n",
    "    \"Porto G1\",\n",
    "    P_MIN_LAT,\n",
    "    P_MAX_LAT,\n",
    "    P_MIN_LON,\n",
    "    P_MAX_LON,\n",
    "    resolution,\n",
    "    layers,\n",
    "    meta_file,\n",
    "    PORTO_DATA_FOLDER,\n",
    ")"
   ]
  },
  {
   "cell_type": "code",
   "execution_count": 23,
   "metadata": {},
   "outputs": [],
   "source": [
    "# Copying the meta_files\n",
    "meta_files = mfh.get_meta_files(PORTO_DATA_FOLDER)\n",
    "\n",
    "for filename in meta_files:\n",
    "    shutil.copy(PORTO_DATA_FOLDER + filename, PORTO_OUTPUT_FOLDER)\n",
    "    \n",
    "# Creating the hashes and saving them to output folder\n",
    "\n",
    "hashes = GridPorto.compute_dataset_hashes()\n",
    "\n",
    "save_trajectory_hashes(PORTO_OUTPUT_FOLDER, hashes)\n",
    "\n"
   ]
  }
 ],
 "metadata": {
  "kernelspec": {
   "display_name": "master_repo",
   "language": "python",
   "name": "python3"
  },
  "language_info": {
   "codemirror_mode": {
    "name": "ipython",
    "version": 3
   },
   "file_extension": ".py",
   "mimetype": "text/x-python",
   "name": "python",
   "nbconvert_exporter": "python",
   "pygments_lexer": "ipython3",
   "version": "3.13.0"
  }
 },
 "nbformat": 4,
 "nbformat_minor": 2
}
