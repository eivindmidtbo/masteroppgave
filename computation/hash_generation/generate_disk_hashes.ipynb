{
 "cells": [
  {
   "cell_type": "markdown",
   "metadata": {},
   "source": [
    "# Notebook for the creation of the disk lsh hashes for both datasets\n",
    "\n",
    "Sheet that converts the extracted data from the data/chosen_data folder to hashes that will be stored in data/hashed_data/disk\n"
   ]
  },
  {
   "cell_type": "code",
   "execution_count": 7,
   "metadata": {},
   "outputs": [
    {
     "ename": "ModuleNotFoundError",
     "evalue": "No module named 'lsh_interface'",
     "output_type": "error",
     "traceback": [
      "\u001b[0;31m---------------------------------------------------------------------------\u001b[0m",
      "\u001b[0;31mModuleNotFoundError\u001b[0m                       Traceback (most recent call last)",
      "Cell \u001b[0;32mIn[7], line 17\u001b[0m\n\u001b[1;32m     15\u001b[0m \u001b[38;5;28;01mfrom\u001b[39;00m\u001b[38;5;250m \u001b[39m\u001b[38;5;21;01mutils\u001b[39;00m\u001b[38;5;21;01m.\u001b[39;00m\u001b[38;5;21;01mhelpers\u001b[39;00m\u001b[38;5;250m \u001b[39m\u001b[38;5;28;01mimport\u001b[39;00m file_handler \u001b[38;5;28;01mas\u001b[39;00m fh\n\u001b[1;32m     16\u001b[0m \u001b[38;5;28;01mfrom\u001b[39;00m\u001b[38;5;250m \u001b[39m\u001b[38;5;21;01mutils\u001b[39;00m\u001b[38;5;21;01m.\u001b[39;00m\u001b[38;5;21;01mhelpers\u001b[39;00m\u001b[38;5;250m \u001b[39m\u001b[38;5;28;01mimport\u001b[39;00m metafile_handler \u001b[38;5;28;01mas\u001b[39;00m mfh\n\u001b[0;32m---> 17\u001b[0m \u001b[38;5;28;01mfrom\u001b[39;00m\u001b[38;5;250m \u001b[39m\u001b[38;5;21;01mschemes\u001b[39;00m\u001b[38;5;21;01m.\u001b[39;00m\u001b[38;5;21;01mlsh_disk\u001b[39;00m\u001b[38;5;250m \u001b[39m\u001b[38;5;28;01mimport\u001b[39;00m DiskLSH\n",
      "File \u001b[0;32m~/Developer/skole/master/code/masteroppgave/schemes/lsh_disk.py:28\u001b[0m\n\u001b[1;32m     25\u001b[0m \u001b[38;5;28;01mfrom\u001b[39;00m\u001b[38;5;250m \u001b[39m\u001b[38;5;21;01mutils\u001b[39;00m\u001b[38;5;21;01m.\u001b[39;00m\u001b[38;5;21;01mhelpers\u001b[39;00m\u001b[38;5;250m \u001b[39m\u001b[38;5;28;01mimport\u001b[39;00m metafile_handler \u001b[38;5;28;01mas\u001b[39;00m mfh\n\u001b[1;32m     26\u001b[0m \u001b[38;5;28;01mfrom\u001b[39;00m\u001b[38;5;250m \u001b[39m\u001b[38;5;21;01mutils\u001b[39;00m\u001b[38;5;21;01m.\u001b[39;00m\u001b[38;5;21;01mhelpers\u001b[39;00m\u001b[38;5;250m \u001b[39m\u001b[38;5;28;01mimport\u001b[39;00m file_handler \u001b[38;5;28;01mas\u001b[39;00m fh\n\u001b[0;32m---> 28\u001b[0m \u001b[38;5;28;01mfrom\u001b[39;00m\u001b[38;5;250m \u001b[39m\u001b[38;5;21;01mlsh_interface\u001b[39;00m\u001b[38;5;250m \u001b[39m\u001b[38;5;28;01mimport\u001b[39;00m LSHInterface\n\u001b[1;32m     30\u001b[0m \u001b[38;5;28;01mclass\u001b[39;00m\u001b[38;5;250m \u001b[39m\u001b[38;5;21;01mDisk\u001b[39;00m:\n\u001b[1;32m     31\u001b[0m \u001b[38;5;250m    \u001b[39m\u001b[38;5;124;03m\"\"\"Class structure for disk-based LSH\"\"\"\u001b[39;00m\n",
      "\u001b[0;31mModuleNotFoundError\u001b[0m: No module named 'lsh_interface'"
     ]
    }
   ],
   "source": [
    "# Importing nescessary modules\n",
    "import os\n",
    "import sys\n",
    "import shutil\n",
    "import timeit as ti\n",
    "from tqdm import tqdm\n",
    "\n",
    "from multiprocessing import Pool\n",
    "\n",
    "currentdir = os.path.dirname(os.path.abspath(\"__file__\"))\n",
    "parentdir = os.path.dirname(currentdir)\n",
    "sys.path.append(parentdir)\n",
    "\n",
    "from utils.helpers.save_trajectory import save_trajectory_hashes\n",
    "from utils.helpers import file_handler as fh\n",
    "from utils.helpers import metafile_handler as mfh\n",
    "from schemes.lsh_disk import DiskLSH"
   ]
  },
  {
   "cell_type": "code",
   "execution_count": 2,
   "metadata": {},
   "outputs": [],
   "source": [
    "from constants import (\n",
    "    P_MAX_LON,\n",
    "    P_MIN_LON,\n",
    "    P_MAX_LAT,\n",
    "    P_MIN_LAT,\n",
    "    R_MAX_LON,\n",
    "    R_MIN_LON,\n",
    "    R_MAX_LAT,\n",
    "    R_MIN_LAT,\n",
    "    PORTO_OUTPUT_FOLDER,\n",
    "    ROME_OUTPUT_FOLDER,\n",
    ")\n",
    "\n",
    "# Declaring global variables:\n",
    "\n",
    "SHOULD_DELETE_OLD_FILES = True\n",
    "\n",
    "OUTPUT_FOLDER_PORTO = \"../dataset/hashed_data/disk/porto/\"\n",
    "OUTPUT_FOLDER_ROME = \"../dataset/hashed_data/disk/rome/\"\n",
    "\n",
    "PORTO_DATA = f\"../{PORTO_OUTPUT_FOLDER}/\"\n",
    "ROME_DATA = f\"../{ROME_OUTPUT_FOLDER}/\""
   ]
  },
  {
   "cell_type": "markdown",
   "metadata": {},
   "source": [
    "# Rome LSH Disk\n",
    "\n",
    "Continuing with the rome set\n"
   ]
  },
  {
   "cell_type": "code",
   "execution_count": 3,
   "metadata": {},
   "outputs": [],
   "source": [
    "# Run this cell to clear the chosen files in the ROME folder\n",
    "\n",
    "if SHOULD_DELETE_OLD_FILES:\n",
    "    fh.delete_old_files(OUTPUT_FOLDER_ROME, \".gitkeep\")"
   ]
  },
  {
   "cell_type": "code",
   "execution_count": 4,
   "metadata": {},
   "outputs": [],
   "source": [
    "# Creating a disk based LSH hashing object over rome\n",
    "\n",
    "layers = 4\n",
    "diameter = 1.5\n",
    "num_disks = 50\n",
    "meta_file = f\"../{ROME_OUTPUT_FOLDER}/META-100.txt\"\n",
    "\n",
    "DiskRome = DiskLSH(\n",
    "    \"Rome D1\",\n",
    "    R_MIN_LAT,\n",
    "    R_MAX_LAT,\n",
    "    R_MIN_LON,\n",
    "    R_MAX_LON,\n",
    "    num_disks,\n",
    "    layers,\n",
    "    diameter,\n",
    "    meta_file,\n",
    "    ROME_DATA,\n",
    ")"
   ]
  },
  {
   "cell_type": "code",
   "execution_count": null,
   "metadata": {},
   "outputs": [],
   "source": []
  },
  {
   "cell_type": "code",
   "execution_count": 5,
   "metadata": {},
   "outputs": [],
   "source": [
    "# Generating the hashes and storing them in output folder along with the meta-files\n",
    "hashes = DiskRome.compute_dataset_hashes_with_KD_tree()\n",
    "\n",
    "save_trajectory_hashes(OUTPUT_FOLDER_ROME, hashes)\n",
    "\n",
    "# Copying meta_files as well\n",
    "meta_files = mfh.get_meta_files(ROME_DATA)\n",
    "\n",
    "for filename in meta_files:\n",
    "    shutil.copy(ROME_DATA + filename, OUTPUT_FOLDER_ROME)"
   ]
  },
  {
   "cell_type": "markdown",
   "metadata": {},
   "source": [
    "# Porto LSH Disk\n",
    "\n",
    "Beginning with the porto set\n"
   ]
  },
  {
   "cell_type": "code",
   "execution_count": 6,
   "metadata": {},
   "outputs": [],
   "source": [
    "# Run this cell to clear the chosen files in the PORTO folder\n",
    "\n",
    "if SHOULD_DELETE_OLD_FILES:\n",
    "    fh.delete_old_files(OUTPUT_FOLDER_PORTO, \".gitkeep\")"
   ]
  },
  {
   "cell_type": "code",
   "execution_count": 7,
   "metadata": {},
   "outputs": [],
   "source": [
    "# Create a disk-based LSH object over Porto\n",
    "\n",
    "layers = 4\n",
    "diameter = 1.5\n",
    "num_disks = 50\n",
    "meta_file = f\"../{PORTO_OUTPUT_FOLDER}/META-100.txt\"\n",
    "\n",
    "DiskPorto = DiskLSH(\n",
    "    \"Porto D1\",\n",
    "    P_MIN_LAT,\n",
    "    P_MAX_LAT,\n",
    "    P_MIN_LON,\n",
    "    P_MAX_LON,\n",
    "    num_disks,\n",
    "    layers,\n",
    "    diameter,\n",
    "    meta_file,\n",
    "    PORTO_DATA,\n",
    ")"
   ]
  },
  {
   "cell_type": "code",
   "execution_count": 8,
   "metadata": {},
   "outputs": [],
   "source": [
    "# Generating the disk-based LSH objects hashes and saving them to file\n",
    "\n",
    "hashes = DiskPorto.compute_dataset_hashes_with_KD_tree()\n",
    "\n",
    "save_trajectory_hashes(OUTPUT_FOLDER_PORTO, hashes)\n",
    "\n",
    "# Copying meta_files as well\n",
    "meta_files = mfh.get_meta_files(PORTO_DATA)\n",
    "\n",
    "for filename in meta_files:\n",
    "    shutil.copy(PORTO_DATA + filename, OUTPUT_FOLDER_PORTO)"
   ]
  },
  {
   "cell_type": "markdown",
   "metadata": {},
   "source": [
    "# Measuring run-times of hash generation\n",
    "\n",
    "The cells below are created to measure the time-efficiency of the hash computation\n"
   ]
  },
  {
   "cell_type": "code",
   "execution_count": 12,
   "metadata": {},
   "outputs": [],
   "source": [
    "# #Cell for measrung DiskLSH hash generation times for all methods in both datasets - using coordiante hashes\n",
    "# import pandas as pd\n",
    "# from itertools import chain\n",
    "\n",
    "# output_folder = \"schemes/experiments/runtimes/\"\n",
    "# file_name = \"hashing_runtimes_disk_lsh.csv\"\n",
    "\n",
    "# hashing_map = {\n",
    "#     \"porto_naive\" : hashing.fun_wrapper_p_naive,\n",
    "#     \"porto_quadrants\" : hashing.fun_wrapper_p_quadrants,\n",
    "#     \"porto_kd_tree\" : hashing.fun_wrapper_p_KD_tree,\n",
    "#     \"rome_naive\" : hashing.fun_wrapper_r_naive,\n",
    "#     \"rome_quadrants\" : hashing.fun_wrapper_r_quadrants,\n",
    "#     \"rome_kd_tree\" : hashing.fun_wrapper_r_KD_tree\n",
    "# }\n",
    "\n",
    "# config = {\n",
    "#     \"porto\" : [1000, 60, 4, 2.2],\n",
    "#     # \"rome\" : [1000, 50, 5, 1.6]\n",
    "\n",
    "# }\n",
    "\n",
    "# runs = 10\n",
    "\n",
    "# df = pd.DataFrame(columns=[f\"Run_{run+1}\" for run in range(runs)])\n",
    "\n",
    "# for key in hashing_map.keys():\n",
    "#     with Pool() as pool:\n",
    "#         result = pool.map(hashing_map[key], [config[key.split(\"_\")[0]] for _ in range(runs)])\n",
    "#         df.loc[key] = list(chain.from_iterable(result))\n",
    "\n",
    "# df.to_csv(os.path.join(output_folder, file_name))"
   ]
  }
 ],
 "metadata": {
  "kernelspec": {
   "display_name": "master_repo",
   "language": "python",
   "name": "python3"
  },
  "language_info": {
   "codemirror_mode": {
    "name": "ipython",
    "version": 3
   },
   "file_extension": ".py",
   "mimetype": "text/x-python",
   "name": "python",
   "nbconvert_exporter": "python",
   "pygments_lexer": "ipython3",
   "version": "3.13.0"
  }
 },
 "nbformat": 4,
 "nbformat_minor": 2
}
