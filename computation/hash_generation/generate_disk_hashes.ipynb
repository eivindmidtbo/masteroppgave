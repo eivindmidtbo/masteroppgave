{
 "cells": [
  {
   "cell_type": "markdown",
   "metadata": {},
   "source": [
    "# Notebook for the creation of the disk lsh hashes for both datasets\n",
    "\n",
    "Sheet that converts the extracted data from the data/chosen_data folder to hashes that will be stored in data/hashed_data/disk\n"
   ]
  },
  {
   "cell_type": "code",
   "execution_count": 3,
   "metadata": {},
   "outputs": [
    {
     "name": "stdout",
     "output_type": "stream",
     "text": [
      "Project root found: c:\\Users\\eivin\\dev\\JoonEndreLSH\\masteroppgave\n"
     ]
    }
   ],
   "source": [
    "# Importing nescessary modules\n",
    "import os\n",
    "import sys\n",
    "import shutil\n",
    "import timeit as ti\n",
    "from tqdm import tqdm\n",
    "\n",
    "from multiprocessing import Pool\n",
    "\n",
    "def find_project_root(target_folder=\"masteroppgave\"):\n",
    "    \"\"\"Find the absolute path of a folder by searching upward.\"\"\"\n",
    "    currentdir = os.path.abspath(\"__file__\")  # Get absolute script path\n",
    "    while True:\n",
    "        if os.path.basename(currentdir) == target_folder:\n",
    "            return currentdir  # Found the target folder\n",
    "        parentdir = os.path.dirname(currentdir)\n",
    "        if parentdir == currentdir:  # Stop at filesystem root\n",
    "            return None\n",
    "        currentdir = parentdir  # Move one level up\n",
    "\n",
    "# Example usage\n",
    "project_root = find_project_root(\"masteroppgave\")\n",
    "\n",
    "if project_root:\n",
    "    sys.path.append(project_root)\n",
    "    print(f\"Project root found: {project_root}\")\n",
    "else:\n",
    "    raise RuntimeError(\"Could not find 'masteroppgave' directory\")\n",
    "\n",
    "from utils.helpers.save_trajectory import save_trajectory_hashes\n",
    "from utils.helpers import file_handler as fh\n",
    "from utils.helpers import metafile_handler as mfh\n",
    "from schemes.lsh_disk import DiskLSH"
   ]
  },
  {
   "cell_type": "code",
   "execution_count": 4,
   "metadata": {},
   "outputs": [],
   "source": [
    "# Declaring global variables:\n",
    "\n",
    "from constants import (\n",
    "    P_MAX_LON,\n",
    "    P_MIN_LON,\n",
    "    P_MAX_LAT,\n",
    "    P_MIN_LAT,\n",
    "    R_MAX_LON,\n",
    "    R_MIN_LON,\n",
    "    R_MAX_LAT,\n",
    "    R_MIN_LAT,\n",
    ")\n",
    "\n",
    "SHOULD_DELETE_OLD_FILES = True\n",
    "\n",
    "\n",
    "PORTO_OUTPUT_FOLDER = \"../../dataset/hashed_data/disk/porto/\"\n",
    "ROME_OUTPUT_FOLDER = \"../../dataset/hashed_data/disk/rome/\"\n",
    "\n",
    "PORTO_DATA_FOLDER = \"../../dataset/porto/output/\"\n",
    "ROME_DATA_FOLDER = \"../../dataset/rome/output/\""
   ]
  },
  {
   "cell_type": "markdown",
   "metadata": {},
   "source": [
    "# Rome LSH Disk\n",
    "\n",
    "Continuing with the rome set\n"
   ]
  },
  {
   "cell_type": "code",
   "execution_count": 18,
   "metadata": {},
   "outputs": [],
   "source": [
    "# Run this cell to clear the chosen files in the ROME folder\n",
    "\n",
    "if SHOULD_DELETE_OLD_FILES:\n",
    "    fh.delete_old_files(ROME_OUTPUT_FOLDER, \".gitkeep\")"
   ]
  },
  {
   "cell_type": "code",
   "execution_count": 15,
   "metadata": {},
   "outputs": [],
   "source": [
    "# Creating a disk based LSH hashing object over rome\n",
    "\n",
    "layers = 4\n",
    "diameter = 1.5\n",
    "num_disks = 50\n",
    "meta_file = f\"{ROME_OUTPUT_FOLDER}META-50.txt\"\n",
    "\n",
    "DiskRome = DiskLSH(\n",
    "    \"Rome D1\",\n",
    "    R_MIN_LAT,\n",
    "    R_MAX_LAT,\n",
    "    R_MIN_LON,\n",
    "    R_MAX_LON,\n",
    "    num_disks,\n",
    "    layers,\n",
    "    diameter,\n",
    "    meta_file,\n",
    "    ROME_DATA_FOLDER,\n",
    ")"
   ]
  },
  {
   "cell_type": "code",
   "execution_count": 20,
   "metadata": {},
   "outputs": [],
   "source": [
    "# Copying meta_files as well\n",
    "meta_files = mfh.get_meta_files(ROME_DATA_FOLDER)\n",
    "\n",
    "for filename in meta_files:\n",
    "    shutil.copy(ROME_DATA_FOLDER + filename, ROME_OUTPUT_FOLDER)\n",
    "\n",
    "# Generating the hashes and storing them in output folder along with the meta-files\n",
    "hashes = DiskRome.compute_dataset_hashes_with_KD_tree()\n",
    "\n",
    "save_trajectory_hashes(ROME_OUTPUT_FOLDER, hashes)"
   ]
  },
  {
   "cell_type": "markdown",
   "metadata": {},
   "source": [
    "# Porto LSH Disk\n",
    "\n",
    "Beginning with the porto set\n"
   ]
  },
  {
   "cell_type": "code",
   "execution_count": 24,
   "metadata": {},
   "outputs": [],
   "source": [
    "# Run this cell to clear the chosen files in the PORTO folder\n",
    "\n",
    "if SHOULD_DELETE_OLD_FILES:\n",
    "    fh.delete_old_files(PORTO_OUTPUT_FOLDER, \".gitkeep\")"
   ]
  },
  {
   "cell_type": "code",
   "execution_count": 25,
   "metadata": {},
   "outputs": [],
   "source": [
    "# Create a disk-based LSH object over Porto\n",
    "\n",
    "layers = 4\n",
    "diameter = 1.5\n",
    "num_disks = 50\n",
    "meta_file = f\"{PORTO_OUTPUT_FOLDER}META-100.txt\"\n",
    "\n",
    "DiskPorto = DiskLSH(\n",
    "    \"Porto D1\",\n",
    "    P_MIN_LAT,\n",
    "    P_MAX_LAT,\n",
    "    P_MIN_LON,\n",
    "    P_MAX_LON,\n",
    "    num_disks,\n",
    "    layers,\n",
    "    diameter,\n",
    "    meta_file,\n",
    "    PORTO_DATA_FOLDER,\n",
    ")"
   ]
  },
  {
   "cell_type": "code",
   "execution_count": 26,
   "metadata": {},
   "outputs": [],
   "source": [
    "# Copying meta_files as well\n",
    "meta_files = mfh.get_meta_files(PORTO_DATA_FOLDER)\n",
    "\n",
    "for filename in meta_files:\n",
    "    shutil.copy(PORTO_DATA_FOLDER + filename, PORTO_OUTPUT_FOLDER)\n",
    "\n",
    "# Generating the disk-based LSH objects hashes and saving them to file\n",
    "\n",
    "hashes = DiskPorto.compute_dataset_hashes_with_KD_tree()\n",
    "\n",
    "save_trajectory_hashes(PORTO_OUTPUT_FOLDER, hashes)"
   ]
  },
  {
   "cell_type": "markdown",
   "metadata": {},
   "source": [
    "# Measuring run-times of hash generation\n",
    "\n",
    "The cells below are created to measure the time-efficiency of the hash computation\n"
   ]
  },
  {
   "cell_type": "code",
   "execution_count": 27,
   "metadata": {},
   "outputs": [
    {
     "ename": "NameError",
     "evalue": "name 'hashing' is not defined",
     "output_type": "error",
     "traceback": [
      "\u001b[1;31m---------------------------------------------------------------------------\u001b[0m",
      "\u001b[1;31mNameError\u001b[0m                                 Traceback (most recent call last)",
      "Cell \u001b[1;32mIn[27], line 9\u001b[0m\n\u001b[0;32m      5\u001b[0m output_folder \u001b[38;5;241m=\u001b[39m \u001b[38;5;124m\"\u001b[39m\u001b[38;5;124mschemes/experiments/runtimes/\u001b[39m\u001b[38;5;124m\"\u001b[39m\n\u001b[0;32m      6\u001b[0m file_name \u001b[38;5;241m=\u001b[39m \u001b[38;5;124m\"\u001b[39m\u001b[38;5;124mhashing_runtimes_disk_lsh.csv\u001b[39m\u001b[38;5;124m\"\u001b[39m\n\u001b[0;32m      8\u001b[0m hashing_map \u001b[38;5;241m=\u001b[39m {\n\u001b[1;32m----> 9\u001b[0m     \u001b[38;5;124m\"\u001b[39m\u001b[38;5;124mporto_naive\u001b[39m\u001b[38;5;124m\"\u001b[39m : \u001b[43mhashing\u001b[49m\u001b[38;5;241m.\u001b[39mfun_wrapper_p_naive,\n\u001b[0;32m     10\u001b[0m     \u001b[38;5;124m\"\u001b[39m\u001b[38;5;124mporto_quadrants\u001b[39m\u001b[38;5;124m\"\u001b[39m : hashing\u001b[38;5;241m.\u001b[39mfun_wrapper_p_quadrants,\n\u001b[0;32m     11\u001b[0m     \u001b[38;5;124m\"\u001b[39m\u001b[38;5;124mporto_kd_tree\u001b[39m\u001b[38;5;124m\"\u001b[39m : hashing\u001b[38;5;241m.\u001b[39mfun_wrapper_p_KD_tree,\n\u001b[0;32m     12\u001b[0m     \u001b[38;5;124m\"\u001b[39m\u001b[38;5;124mrome_naive\u001b[39m\u001b[38;5;124m\"\u001b[39m : hashing\u001b[38;5;241m.\u001b[39mfun_wrapper_r_naive,\n\u001b[0;32m     13\u001b[0m     \u001b[38;5;124m\"\u001b[39m\u001b[38;5;124mrome_quadrants\u001b[39m\u001b[38;5;124m\"\u001b[39m : hashing\u001b[38;5;241m.\u001b[39mfun_wrapper_r_quadrants,\n\u001b[0;32m     14\u001b[0m     \u001b[38;5;124m\"\u001b[39m\u001b[38;5;124mrome_kd_tree\u001b[39m\u001b[38;5;124m\"\u001b[39m : hashing\u001b[38;5;241m.\u001b[39mfun_wrapper_r_KD_tree\n\u001b[0;32m     15\u001b[0m }\n\u001b[0;32m     17\u001b[0m config \u001b[38;5;241m=\u001b[39m {\n\u001b[0;32m     18\u001b[0m     \u001b[38;5;124m\"\u001b[39m\u001b[38;5;124mporto\u001b[39m\u001b[38;5;124m\"\u001b[39m : [\u001b[38;5;241m1000\u001b[39m, \u001b[38;5;241m60\u001b[39m, \u001b[38;5;241m4\u001b[39m, \u001b[38;5;241m2.2\u001b[39m],\n\u001b[0;32m     19\u001b[0m     \u001b[38;5;66;03m# \"rome\" : [1000, 50, 5, 1.6]\u001b[39;00m\n\u001b[0;32m     20\u001b[0m \n\u001b[0;32m     21\u001b[0m }\n\u001b[0;32m     23\u001b[0m runs \u001b[38;5;241m=\u001b[39m \u001b[38;5;241m10\u001b[39m\n",
      "\u001b[1;31mNameError\u001b[0m: name 'hashing' is not defined"
     ]
    }
   ],
   "source": [
    "# #Cell for measrung DiskLSH hash generation times for all methods in both datasets - using coordiante hashes\n",
    "# import pandas as pd\n",
    "# from itertools import chain\n",
    "\n",
    "# output_folder = \"schemes/experiments/runtimes/\"\n",
    "# file_name = \"hashing_runtimes_disk_lsh.csv\"\n",
    "\n",
    "# hashing_map = {\n",
    "#     \"porto_naive\" : hashing.fun_wrapper_p_naive,\n",
    "#     \"porto_quadrants\" : hashing.fun_wrapper_p_quadrants,\n",
    "#     \"porto_kd_tree\" : hashing.fun_wrapper_p_KD_tree,\n",
    "#     \"rome_naive\" : hashing.fun_wrapper_r_naive,\n",
    "#     \"rome_quadrants\" : hashing.fun_wrapper_r_quadrants,\n",
    "#     \"rome_kd_tree\" : hashing.fun_wrapper_r_KD_tree\n",
    "# }\n",
    "\n",
    "# config = {\n",
    "#     \"porto\" : [1000, 60, 4, 2.2],\n",
    "#     # \"rome\" : [1000, 50, 5, 1.6]\n",
    "\n",
    "# }\n",
    "\n",
    "# runs = 10\n",
    "\n",
    "# df = pd.DataFrame(columns=[f\"Run_{run+1}\" for run in range(runs)])\n",
    "\n",
    "# for key in hashing_map.keys():\n",
    "#     with Pool() as pool:\n",
    "#         result = pool.map(hashing_map[key], [config[key.split(\"_\")[0]] for _ in range(runs)])\n",
    "#         df.loc[key] = list(chain.from_iterable(result))\n",
    "\n",
    "# df.to_csv(os.path.join(output_folder, file_name))"
   ]
  }
 ],
 "metadata": {
  "kernelspec": {
   "display_name": "master_repo",
   "language": "python",
   "name": "python3"
  },
  "language_info": {
   "codemirror_mode": {
    "name": "ipython",
    "version": 3
   },
   "file_extension": ".py",
   "mimetype": "text/x-python",
   "name": "python",
   "nbconvert_exporter": "python",
   "pygments_lexer": "ipython3",
   "version": "3.13.0"
  }
 },
 "nbformat": 4,
 "nbformat_minor": 2
}
