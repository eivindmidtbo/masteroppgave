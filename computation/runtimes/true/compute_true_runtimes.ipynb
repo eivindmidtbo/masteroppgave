{
 "cells": [
  {
   "cell_type": "markdown",
   "metadata": {},
   "source": [
    "# Time measurement for true similarities\n"
   ]
  },
  {
   "cell_type": "code",
   "execution_count": 1,
   "metadata": {},
   "outputs": [],
   "source": [
    "import os, sys\n",
    "\n",
    "currentdir = os.path.dirname(os.path.abspath(\"__file__\"))\n",
    "parentdir = os.path.dirname(currentdir)\n",
    "sys.path.append(parentdir)\n",
    "\n",
    "from utils.helpers.measure_similarities import compute_true_similarity_runtimes"
   ]
  },
  {
   "cell_type": "markdown",
   "metadata": {},
   "source": [
    "## DTW"
   ]
  },
  {
   "cell_type": "code",
   "execution_count": 2,
   "metadata": {},
   "outputs": [
    {
     "name": "stdout",
     "output_type": "stream",
     "text": [
      "data_end_size 200\n",
      "data sets range(100, 201, 100)\n",
      "Computing true_dtw_cy for porto with 8 jobs\n",
      "Iteration 1/3\n",
      "Iteration 2/3e 200, set 2/2\n",
      "Iteration 3/3e 200, set 2/2\n",
      "Computing size 200, set 2/2\n",
      "Runtimes - Iteration 1:\n",
      "            100       200\n",
      "run_1  0.854544  3.873246\n",
      "run_2  0.869355  3.860709\n",
      "run_3  0.812799  3.847481\n",
      "run_4  0.872511  3.884966\n",
      "run_5  0.870029  3.880728\n",
      "run_6  0.859975  3.868305\n",
      "run_7  0.820153  3.944998\n",
      "run_8  0.867298  3.873403\n",
      "\n",
      "Runtimes - Iteration 2:\n",
      "            100       200\n",
      "run_1  0.800300  3.869619\n",
      "run_2  0.859391  3.872325\n",
      "run_3  1.037952  3.603009\n",
      "run_4  0.863382  3.831490\n",
      "run_5  0.853587  3.841462\n",
      "run_6  1.184185  3.841156\n",
      "run_7  0.862637  3.834071\n",
      "run_8  0.860152  3.980898\n",
      "\n",
      "Runtimes - Iteration 3:\n",
      "            100       200\n",
      "run_1  0.802936  3.819587\n",
      "run_2  0.857317  3.841246\n",
      "run_3  0.871585  4.022801\n",
      "run_4  0.859860  3.812497\n",
      "run_5  0.857858  3.844968\n",
      "run_6  0.861878  3.815113\n",
      "run_7  0.826292  3.820610\n",
      "run_8  1.125396  4.068875\n",
      "\n",
      "Average Runtimes:\n",
      "            100       200\n",
      "run_1  0.819260  3.854151\n",
      "run_2  0.862021  3.858093\n",
      "run_3  0.907445  3.824430\n",
      "run_4  0.865251  3.842984\n",
      "run_5  0.860491  3.855719\n",
      "run_6  0.968679  3.841525\n",
      "run_7  0.836361  3.866560\n",
      "run_8  0.950949  3.974392\n"
     ]
    }
   ],
   "source": [
    "# Measuring the computation times of true similarities\n",
    "\n",
    "measure=\"true_dtw_cy\"\n",
    "city=\"rome\"\n",
    "parallel_jobs = 8\n",
    "data_start_size = 100\n",
    "data_end_size = 1000\n",
    "data_step_size = 100\n",
    "iterations = 3\n",
    "\n",
    "compute_true_similarity_runtimes(measure=measure, city=city, parallel_jobs=parallel_jobs, data_start_size=data_start_size, data_end_size=data_end_size, data_step_size=data_step_size, iterations=iterations)"
   ]
  },
  {
   "cell_type": "markdown",
   "metadata": {},
   "source": [
    "## Frechet"
   ]
  },
  {
   "cell_type": "code",
   "execution_count": null,
   "metadata": {},
   "outputs": [],
   "source": [
    "# Measuring the computation times of true similarities\n",
    "\n",
    "measure=\"true_frechet_cy\"\n",
    "city=\"porto\"\n",
    "parallel_jobs = 8\n",
    "data_start_size = 100\n",
    "data_end_size = 200 + 1\n",
    "data_step_size = 100\n",
    "\n",
    "compute_true_similarity_runtimes(measure=measure, city=city, parallel_jobs=parallel_jobs, data_start_size=data_start_size, data_end_size=data_end_size, data_step_size=data_step_size)"
   ]
  }
 ],
 "metadata": {
  "kernelspec": {
   "display_name": "Python 3",
   "language": "python",
   "name": "python3"
  },
  "language_info": {
   "codemirror_mode": {
    "name": "ipython",
    "version": 3
   },
   "file_extension": ".py",
   "mimetype": "text/x-python",
   "name": "python",
   "nbconvert_exporter": "python",
   "pygments_lexer": "ipython3",
   "version": "3.11.6+"
  }
 },
 "nbformat": 4,
 "nbformat_minor": 2
}
