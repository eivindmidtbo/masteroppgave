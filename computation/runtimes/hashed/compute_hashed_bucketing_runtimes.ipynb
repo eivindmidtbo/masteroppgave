{
 "cells": [
  {
   "cell_type": "markdown",
   "metadata": {},
   "source": [
    "# Notebook for measuring runtime of Hashing, bucketing and similarity value computation "
   ]
  },
  {
   "cell_type": "markdown",
   "metadata": {},
   "source": []
  },
  {
   "cell_type": "code",
   "execution_count": 1,
   "metadata": {},
   "outputs": [
    {
     "name": "stdout",
     "output_type": "stream",
     "text": [
      "Project root f^ound: c:\\Users\\eivin\\dev\\JoonEndreLSH\\masteroppgave\n",
      "Project root found: c:\\Users\\eivin\\dev\\JoonEndreLSH\\masteroppgave\n",
      "../../../dataset/porto/output/\n"
     ]
    }
   ],
   "source": [
    "import os\n",
    "import sys\n",
    "\n",
    "def find_project_root(target_folder=\"masteroppgave\"):\n",
    "    \"\"\"Find the absolute path of a folder by searching upward.\"\"\"\n",
    "    currentdir = os.path.abspath(\"__file__\")  # Get absolute script path\n",
    "    while True:\n",
    "        if os.path.basename(currentdir) == target_folder:\n",
    "            return currentdir  # Found the target folder\n",
    "        parentdir = os.path.dirname(currentdir)\n",
    "        if parentdir == currentdir:  # Stop at filesystem root\n",
    "            return None\n",
    "        currentdir = parentdir  # Move one level up\n",
    "\n",
    "# Example usage\n",
    "project_root = find_project_root(\"masteroppgave\")\n",
    "\n",
    "if project_root:\n",
    "    sys.path.append(project_root)\n",
    "    print(f\"Project root f^ound: {project_root}\")\n",
    "else:\n",
    "    raise RuntimeError(\"Could not find 'masteroppgave' directory\")\n",
    "\n",
    "from utils.helpers.measure_similarities import compute_hashed_similarity_runtimes_with_bucketing\n"
   ]
  },
  {
   "cell_type": "code",
   "execution_count": 2,
   "metadata": {},
   "outputs": [
    {
     "name": "stdout",
     "output_type": "stream",
     "text": [
      "Iteration 1/3\n",
      "Computing grid_dtw_cy for rome with 8 jobs - Iteration 1/3\n",
      "Iteration 2/3e 50\n",
      "Computing grid_dtw_cy for rome with 8 jobs - Iteration 2/3\n",
      "Iteration 3/3e 50\n",
      "Computing grid_dtw_cy for rome with 8 jobs - Iteration 3/3\n",
      "                             data size :50        50\n",
      "similarity computation run_1           NaN  0.427083\n",
      "similarity computation run_2           NaN  0.375000\n",
      "similarity computation run_3           NaN  0.437500\n",
      "similarity computation run_4           NaN  0.411458\n",
      "similarity computation run_5           NaN  0.390625\n",
      "similarity computation run_6           NaN  0.369792\n",
      "similarity computation run_7           NaN  0.380208\n",
      "similarity computation run_8           NaN  0.416667\n",
      "Data saved to: ../../../results_hashed/runtimes/grid/rome/rome_similarity_runtimes_grid_dtw_cy_resolution_3_layers-2_trajectories_50.csv\n"
     ]
    }
   ],
   "source": [
    "# Measuring the computation times of true similarities\n",
    "\n",
    "measure=\"grid_dtw_cy\"\n",
    "city=\"rome\"\n",
    "res=3\n",
    "layers=2\n",
    "parallel_jobs = 8\n",
    "data_size = 50\n",
    "iterations = 3\n",
    "\n",
    "compute_hashed_similarity_runtimes_with_bucketing(measure=measure, city=city, res=res, layers=layers, parallel_jobs=parallel_jobs, data_size=data_size,  iterations=iterations)"
   ]
  },
  {
   "cell_type": "code",
   "execution_count": null,
   "metadata": {},
   "outputs": [],
   "source": [
    "# Measuring the computation times of true similarities\n",
    "\n",
    "measure=\"disk_dtw_cy\"\n",
    "city=\"rome\"\n",
    "diameter=1.8\n",
    "layers=4\n",
    "disks=60\n",
    "parallel_jobs = 8\n",
    "data_size = 50\n",
    "iterations = 3\n",
    "\n",
    "compute_hashed_similarity_runtimes_with_bucketing(measure=measure, city=city, diameter=diameter, layers=layers, disks=disks, parallel_jobs=parallel_jobs, data_size = data_size, iterations=iterations)"
   ]
  }
 ],
 "metadata": {
  "kernelspec": {
   "display_name": "master_repo",
   "language": "python",
   "name": "python3"
  },
  "language_info": {
   "codemirror_mode": {
    "name": "ipython",
    "version": 3
   },
   "file_extension": ".py",
   "mimetype": "text/x-python",
   "name": "python",
   "nbconvert_exporter": "python",
   "pygments_lexer": "ipython3",
   "version": "3.13.0"
  }
 },
 "nbformat": 4,
 "nbformat_minor": 2
}
