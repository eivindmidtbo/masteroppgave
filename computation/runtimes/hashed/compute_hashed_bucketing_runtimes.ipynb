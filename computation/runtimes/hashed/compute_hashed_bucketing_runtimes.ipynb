{
 "cells": [
  {
   "cell_type": "markdown",
   "metadata": {},
   "source": [
    "# Notebook for measuring runtime of Hashing, bucketing and similarity value computation "
   ]
  },
  {
   "cell_type": "markdown",
   "metadata": {},
   "source": []
  },
  {
   "cell_type": "code",
   "execution_count": 3,
   "metadata": {},
   "outputs": [
    {
     "name": "stdout",
     "output_type": "stream",
     "text": [
      "Project root f^ound: /Users/thomasnitsche/Developer/skole/master/masteroppgave\n"
     ]
    }
   ],
   "source": [
    "import os\n",
    "import sys\n",
    "\n",
    "def find_project_root(target_folder=\"masteroppgave\"):\n",
    "    \"\"\"Find the absolute path of a folder by searching upward.\"\"\"\n",
    "    currentdir = os.path.abspath(\"__file__\")  # Get absolute script path\n",
    "    while True:\n",
    "        if os.path.basename(currentdir) == target_folder:\n",
    "            return currentdir  # Found the target folder\n",
    "        parentdir = os.path.dirname(currentdir)\n",
    "        if parentdir == currentdir:  # Stop at filesystem root\n",
    "            return None\n",
    "        currentdir = parentdir  # Move one level up\n",
    "\n",
    "# Example usage\n",
    "project_root = find_project_root(\"masteroppgave\")\n",
    "\n",
    "if project_root:\n",
    "    sys.path.append(project_root)\n",
    "    print(f\"Project root f^ound: {project_root}\")\n",
    "else:\n",
    "    raise RuntimeError(\"Could not find 'masteroppgave' directory\")\n",
    "\n",
    "from utils.helpers.measure_similarities import compute_hashed_similarity_runtimes_with_bucketing\n"
   ]
  },
  {
   "cell_type": "code",
   "execution_count": 4,
   "metadata": {},
   "outputs": [
    {
     "name": "stdout",
     "output_type": "stream",
     "text": [
      "Iteration 1/3\n",
      "Computing grid_dtw_cy for rome with 8 jobs - Iteration 1/3\n",
      "Iteration 2/3e 50\n",
      "Computing grid_dtw_cy for rome with 8 jobs - Iteration 2/3\n",
      "Iteration 3/3e 50\n",
      "Computing grid_dtw_cy for rome with 8 jobs - Iteration 3/3\n",
      "Computing size 50\n",
      "Runtimes - Iteration 1:\n",
      "             50\n",
      "run_1  0.458264\n",
      "run_2  0.027240\n",
      "run_3  0.024721\n",
      "run_4  0.170553\n",
      "run_5  0.030125\n",
      "run_6  0.030090\n",
      "run_7  0.031036\n",
      "run_8  0.026455\n",
      "\n",
      "Runtimes - Iteration 2:\n",
      "             50\n",
      "run_1  0.101892\n",
      "run_2  0.022525\n",
      "run_3  0.030095\n",
      "run_4  0.026880\n",
      "run_5  0.026683\n",
      "run_6  0.022541\n",
      "run_7  0.033116\n",
      "run_8  0.022768\n",
      "\n",
      "Runtimes - Iteration 3:\n",
      "             50\n",
      "run_1  0.022090\n",
      "run_2  0.021688\n",
      "run_3  0.026055\n",
      "run_4  0.027966\n",
      "run_5  0.061928\n",
      "run_6  0.021759\n",
      "run_7  0.022555\n",
      "run_8  0.143315\n",
      "\n",
      "Average Hash Generation Times:\n",
      "Size 50: 0.0302 seconds\n",
      "\n",
      "Average Runtimes:\n",
      "             50\n",
      "run_1  0.194082\n",
      "run_2  0.023818\n",
      "run_3  0.026957\n",
      "run_4  0.075133\n",
      "run_5  0.039579\n",
      "run_6  0.024797\n",
      "run_7  0.028902\n",
      "run_8  0.064179\n"
     ]
    }
   ],
   "source": [
    "# Measuring the computation times of true similarities\n",
    "\n",
    "measure=\"grid_dtw_cy\"\n",
    "city=\"rome\"\n",
    "res=1.8\n",
    "layers=4\n",
    "parallel_jobs = 8\n",
    "data_size = 50\n",
    "iterations = 3\n",
    "\n",
    "compute_hashed_similarity_runtimes_with_bucketing(measure=measure, city=city, res=res, layers=layers, parallel_jobs=parallel_jobs, data_size=data_size,  iterations=iterations)"
   ]
  },
  {
   "cell_type": "code",
   "execution_count": 5,
   "metadata": {},
   "outputs": [
    {
     "name": "stdout",
     "output_type": "stream",
     "text": [
      "Iteration 1/3\n",
      "Computing disk_dtw_cy for rome with 8 jobs - Iteration 1/3\n",
      "Iteration 2/3e 50\n",
      "Computing disk_dtw_cy for rome with 8 jobs - Iteration 2/3\n",
      "Iteration 3/3e 50\n",
      "Computing disk_dtw_cy for rome with 8 jobs - Iteration 3/3\n",
      "Computing size 50\n",
      "Runtimes - Iteration 1:\n",
      "             50\n",
      "run_1  0.139881\n",
      "run_2  0.109311\n",
      "run_3  0.105256\n",
      "run_4  0.090124\n",
      "run_5  0.085860\n",
      "run_6  0.107983\n",
      "run_7  0.081487\n",
      "run_8  0.095754\n",
      "\n",
      "Runtimes - Iteration 2:\n",
      "             50\n",
      "run_1  0.090196\n",
      "run_2  0.091136\n",
      "run_3  0.088658\n",
      "run_4  0.135152\n",
      "run_5  0.085660\n",
      "run_6  0.102041\n",
      "run_7  0.095533\n",
      "run_8  0.097987\n",
      "\n",
      "Runtimes - Iteration 3:\n",
      "             50\n",
      "run_1  0.098217\n",
      "run_2  0.090598\n",
      "run_3  0.126058\n",
      "run_4  0.216940\n",
      "run_5  0.104898\n",
      "run_6  0.134032\n",
      "run_7  0.094289\n",
      "run_8  0.103690\n",
      "\n",
      "Average Hash Generation Times:\n",
      "Size 50: 0.1130 seconds\n",
      "\n",
      "Average Runtimes:\n",
      "             50\n",
      "run_1  0.109431\n",
      "run_2  0.097015\n",
      "run_3  0.106657\n",
      "run_4  0.147405\n",
      "run_5  0.092139\n",
      "run_6  0.114685\n",
      "run_7  0.090436\n",
      "run_8  0.099144\n"
     ]
    }
   ],
   "source": [
    "# Measuring the computation times of true similarities\n",
    "\n",
    "measure=\"disk_dtw_cy\"\n",
    "city=\"rome\"\n",
    "diameter=1.8\n",
    "layers=4\n",
    "disks=60\n",
    "parallel_jobs = 8\n",
    "data_size = 50\n",
    "iterations = 3\n",
    "\n",
    "compute_hashed_similarity_runtimes_with_bucketing(measure=measure, city=city, diameter=diameter, layers=layers, disks=disks, parallel_jobs=parallel_jobs, data_size = data_size, iterations=iterations)"
   ]
  }
 ],
 "metadata": {
  "kernelspec": {
   "display_name": "master",
   "language": "python",
   "name": "python3"
  },
  "language_info": {
   "codemirror_mode": {
    "name": "ipython",
    "version": 3
   },
   "file_extension": ".py",
   "mimetype": "text/x-python",
   "name": "python",
   "nbconvert_exporter": "python",
   "pygments_lexer": "ipython3",
   "version": "3.13.0"
  }
 },
 "nbformat": 4,
 "nbformat_minor": 2
}
