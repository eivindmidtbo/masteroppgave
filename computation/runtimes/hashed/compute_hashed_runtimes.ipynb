{
 "cells": [
  {
   "cell_type": "markdown",
   "metadata": {},
   "source": [
    "# Time measurement for hashed similarity runtimes"
   ]
  },
  {
   "cell_type": "code",
   "execution_count": 1,
   "metadata": {},
   "outputs": [],
   "source": [
    "import os, sys\n",
    "\n",
    "currentdir = os.path.dirname(os.path.abspath(\"__file__\"))\n",
    "parentdir = os.path.dirname(currentdir)\n",
    "sys.path.append(parentdir)\n",
    "\n",
    "from utils.helpers.measure_similarities import compute_grid_similarity_runtimes, compute_disk_similarity_runtimes"
   ]
  },
  {
   "cell_type": "markdown",
   "metadata": {},
   "source": [
    "## Grid"
   ]
  },
  {
   "cell_type": "markdown",
   "metadata": {},
   "source": [
    "### DTW"
   ]
  },
  {
   "cell_type": "code",
   "execution_count": 7,
   "metadata": {},
   "outputs": [
    {
     "name": "stdout",
     "output_type": "stream",
     "text": [
      "Iteration 1/3\n",
      "Computing grid_dtw_cy for rome with 8 jobs - Iteration 1/3\n",
      "Iteration 2/3e 1000, set 10/10\n",
      "Computing grid_dtw_cy for rome with 8 jobs - Iteration 2/3\n",
      "Iteration 3/3e 1000, set 10/10\n",
      "Computing grid_dtw_cy for rome with 8 jobs - Iteration 3/3\n",
      "Computing size 1000, set 10/10\n",
      "Runtimes - Iteration 1:\n",
      "           100       200       300       400       500       600       700   \\\n",
      "run_1  0.062524  0.252516  0.522951  0.958401  1.423791  2.166230  2.884594   \n",
      "run_2  0.147796  0.251861  0.574364  0.950891  1.463380  2.099745  2.878776   \n",
      "run_3  0.057828  0.240344  0.546805  0.998797  1.462530  2.179519  2.873132   \n",
      "run_4  0.248201  0.243319  0.524181  0.930552  1.513111  2.177089  2.902773   \n",
      "run_5  0.068088  0.254236  0.538826  0.969116  1.455701  2.186812  2.870971   \n",
      "run_6  0.061089  0.238432  0.526424  0.949687  1.469837  2.174555  2.865401   \n",
      "run_7  0.057837  0.242484  0.604581  0.928139  1.451444  2.146564  2.981996   \n",
      "run_8  0.122806  0.233187  0.534022  0.941707  1.465734  2.353918  2.813644   \n",
      "\n",
      "           800       900       1000  \n",
      "run_1  3.735297  4.630791  6.218220  \n",
      "run_2  3.931046  4.625753  5.772570  \n",
      "run_3  3.704703  4.536434  5.772292  \n",
      "run_4  3.704990  4.690926  5.805598  \n",
      "run_5  3.704270  4.654555  5.747093  \n",
      "run_6  3.704101  4.771712  5.750364  \n",
      "run_7  4.238628  4.642073  5.757467  \n",
      "run_8  3.722545  4.632750  5.760778  \n",
      "\n",
      "Runtimes - Iteration 2:\n",
      "           100       200       300       400       500       600       700   \\\n",
      "run_1  0.057536  0.227858  0.531727  0.930393  1.454570  2.037774  2.742980   \n",
      "run_2  0.057231  0.239244  0.518230  0.904388  2.218492  2.037643  2.909366   \n",
      "run_3  0.067031  0.233624  0.515960  0.925608  1.442558  2.026082  2.754798   \n",
      "run_4  0.062825  0.228358  0.540707  0.909312  1.443285  2.052958  2.831094   \n",
      "run_5  0.302582  0.229929  0.525253  0.921329  1.495273  2.057209  2.827005   \n",
      "run_6  0.058167  0.272861  1.163733  0.915682  1.437173  2.196921  2.753886   \n",
      "run_7  0.056174  0.228835  0.511562  0.913436  1.438145  2.030136  2.815996   \n",
      "run_8  0.179687  0.227647  0.527005  1.054818  1.823489  2.055714  2.835083   \n",
      "\n",
      "           800       900       1000  \n",
      "run_1  3.683203  4.740829  5.730691  \n",
      "run_2  3.783126  4.715438  5.712080  \n",
      "run_3  4.134219  4.639729  5.591692  \n",
      "run_4  3.776032  4.760348  5.755490  \n",
      "run_5  3.774806  4.708295  5.726192  \n",
      "run_6  3.772594  4.724039  5.689165  \n",
      "run_7  3.677691  5.011585  5.823065  \n",
      "run_8  3.723903  4.810462  5.597300  \n",
      "\n",
      "Runtimes - Iteration 3:\n",
      "           100       200       300       400       500       600       700   \\\n",
      "run_1  0.057625  0.244197  0.521906  0.978165  1.468401  2.058985  2.905512   \n",
      "run_2  0.064077  0.242723  0.527107  0.922463  1.460832  2.073370  3.149996   \n",
      "run_3  0.058380  0.246630  1.328697  0.905643  1.466840  2.022696  2.925740   \n",
      "run_4  0.064408  0.374188  0.530207  0.910616  1.503170  2.263570  2.923663   \n",
      "run_5  0.056239  0.243378  0.531580  0.896632  1.695348  2.060894  2.945465   \n",
      "run_6  0.544732  0.241754  0.528709  0.898434  1.712197  2.063801  3.324990   \n",
      "run_7  0.059977  0.242275  0.520535  0.905229  1.452878  2.093848  2.979637   \n",
      "run_8  0.071557  0.340150  0.527835  0.917640  1.452128  2.053555  2.930172   \n",
      "\n",
      "           800       900       1000  \n",
      "run_1  3.637968  4.695444  5.779201  \n",
      "run_2  3.658892  4.712561  5.797372  \n",
      "run_3  3.601964  4.662179  5.747180  \n",
      "run_4  3.686295  4.745308  5.756161  \n",
      "run_5  3.660803  4.994592  5.785926  \n",
      "run_6  3.657847  4.616100  5.803594  \n",
      "run_7  3.685744  4.770089  5.849579  \n",
      "run_8  4.038114  4.634374  5.799251  \n",
      "\n",
      "Average Runtimes:\n",
      "           100       200       300       400       500       600       700   \\\n",
      "run_1  0.059228  0.241524  0.525528  0.955653  1.448921  2.087663  2.844362   \n",
      "run_2  0.089701  0.244609  0.539900  0.925914  1.714235  2.070253  2.979379   \n",
      "run_3  0.061080  0.240199  0.797154  0.943349  1.457309  2.076099  2.851223   \n",
      "run_4  0.125145  0.281955  0.531698  0.916827  1.486522  2.164539  2.885843   \n",
      "run_5  0.142303  0.242514  0.531886  0.929026  1.548774  2.101638  2.881147   \n",
      "run_6  0.221329  0.251016  0.739622  0.921268  1.539736  2.145092  2.981426   \n",
      "run_7  0.057996  0.237865  0.545559  0.915601  1.447489  2.090183  2.925876   \n",
      "run_8  0.124683  0.266995  0.529621  0.971388  1.580450  2.154396  2.859633   \n",
      "\n",
      "           800       900       1000  \n",
      "run_1  3.685489  4.689021  5.909371  \n",
      "run_2  3.791021  4.684584  5.760674  \n",
      "run_3  3.813629  4.612781  5.703721  \n",
      "run_4  3.722439  4.732194  5.772416  \n",
      "run_5  3.713293  4.785814  5.753070  \n",
      "run_6  3.711514  4.703950  5.747708  \n",
      "run_7  3.867354  4.807916  5.810037  \n",
      "run_8  3.828187  4.692529  5.719110  \n"
     ]
    }
   ],
   "source": [
    "# Measuring the computation times of true similarities\n",
    "\n",
    "measure=\"grid_dtw_cy\"\n",
    "city=\"rome\"\n",
    "res=1.8\n",
    "layers=4\n",
    "parallel_jobs = 8\n",
    "data_start_size = 100\n",
    "data_end_size = 1000\n",
    "data_step_size = 100\n",
    "iterations = 3\n",
    "\n",
    "compute_grid_similarity_runtimes(measure=measure, city=city, res=res, layers=layers, parallel_jobs=parallel_jobs, data_start_size=data_start_size, data_end_size=data_end_size, data_step_size=data_step_size, iterations=iterations)"
   ]
  },
  {
   "cell_type": "markdown",
   "metadata": {},
   "source": [
    "### Frechet"
   ]
  },
  {
   "cell_type": "markdown",
   "metadata": {},
   "source": [
    "## Disk"
   ]
  },
  {
   "cell_type": "code",
   "execution_count": null,
   "metadata": {},
   "outputs": [],
   "source": [
    "# Measuring the computation times of true similarities\n",
    "\n",
    "measure=\"disk_dtw_py\"\n",
    "city=\"porto\"\n",
    "diameter=2.2\n",
    "layers=4\n",
    "disks=60\n",
    "parallel_jobs = 8\n",
    "data_start_size = 100\n",
    "data_end_size = 1000\n",
    "data_step_size = 100\n",
    "iterations = 3\n",
    "\n",
    "compute_disk_similarity_runtimes(measure=measure, city=city, diameter=diameter, layers=layers, disks=disks, parallel_jobs=parallel_jobs, data_start_size=data_start_size, data_end_size=data_end_size, data_step_size=data_step_size, iterations=iterations)"
   ]
  }
 ],
 "metadata": {
  "kernelspec": {
   "display_name": "Python 3",
   "language": "python",
   "name": "python3"
  },
  "language_info": {
   "codemirror_mode": {
    "name": "ipython",
    "version": 3
   },
   "file_extension": ".py",
   "mimetype": "text/x-python",
   "name": "python",
   "nbconvert_exporter": "python",
   "pygments_lexer": "ipython3",
   "version": "3.11.6+"
  }
 },
 "nbformat": 4,
 "nbformat_minor": 2
}
